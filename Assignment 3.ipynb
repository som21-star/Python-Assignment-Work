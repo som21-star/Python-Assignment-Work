{
  "nbformat": 4,
  "nbformat_minor": 0,
  "metadata": {
    "colab": {
      "name": "Untitled23.ipynb",
      "provenance": []
    },
    "kernelspec": {
      "name": "python3",
      "display_name": "Python 3"
    },
    "language_info": {
      "name": "python"
    }
  },
  "cells": [
    {
      "cell_type": "code",
      "metadata": {
        "colab": {
          "base_uri": "https://localhost:8080/"
        },
        "id": "_d1dSlprgQ_J",
        "outputId": "85ffa9db-9a3e-4856-d5cf-947fe2b1e3fb"
      },
      "source": [
        "##Python Program for Find reminder of array multiplication divided by n\n",
        "def findremainder(arr, lens, n):\n",
        "    mul = 1\n",
        " \n",
        "    # find the individual\n",
        "    # remainder and\n",
        "    # multiple with mul.\n",
        "    for i in arr:\n",
        "        mul = mul * (i % n)\n",
        " \n",
        "    return mul % n\n",
        " \n",
        " \n",
        "# Driven code\n",
        "arr = [100, 10, 5, 25, 35, 14]\n",
        "lens = len(arr)\n",
        "n = 11\n",
        " \n",
        "# print the remainder\n",
        "# of after multiple\n",
        "# all the numbers\n",
        "print(findremainder(arr, lens, n))"
      ],
      "execution_count": 1,
      "outputs": [
        {
          "output_type": "stream",
          "text": [
            "9\n"
          ],
          "name": "stdout"
        }
      ]
    },
    {
      "cell_type": "code",
      "metadata": {
        "colab": {
          "base_uri": "https://localhost:8080/"
        },
        "id": "lI7UrcA3e3Zi",
        "outputId": "3cc96458-65f6-4b5f-9ec3-c97c1210f040"
      },
      "source": [
        "#Python Program to check if given array is Monotonic\n",
        "# Python3 program to find sum in Nth group\n",
        "\n",
        "# Check if given array is Monotonic\n",
        "def isMonotonic(A):\n",
        "\n",
        "\treturn (all(A[i] <= A[i + 1] for i in range(len(A) - 1)) or\n",
        "\t\t\tall(A[i] >= A[i + 1] for i in range(len(A) - 1)))\n",
        "\n",
        "# Driver program\n",
        "A = [6, 5, 4, 4]\n",
        "\n",
        "# Print required result\n",
        "print(isMonotonic(A))"
      ],
      "execution_count": 2,
      "outputs": [
        {
          "output_type": "stream",
          "text": [
            "True\n"
          ],
          "name": "stdout"
        }
      ]
    },
    {
      "cell_type": "code",
      "metadata": {
        "colab": {
          "base_uri": "https://localhost:8080/"
        },
        "id": "ChyvBjwofJNm",
        "outputId": "3b50d825-9e92-47b9-8f7d-09fef0848582"
      },
      "source": [
        "#Python program to interchange first and last elements in a list\n",
        "# Python3 program to swap first\n",
        "# and last element of a list\n",
        "\n",
        "# Swap function\n",
        "def swapList(newList):\n",
        "\tsize = len(newList)\n",
        "\t\n",
        "\t# Swapping\n",
        "\ttemp = newList[0]\n",
        "\tnewList[0] = newList[size - 1]\n",
        "\tnewList[size - 1] = temp\n",
        "\t\n",
        "\treturn newList\n",
        "\t\n",
        "# Driver code\n",
        "newList = [12, 35, 9, 56, 24]\n",
        "\n",
        "print(swapList(newList))"
      ],
      "execution_count": 3,
      "outputs": [
        {
          "output_type": "stream",
          "text": [
            "[24, 35, 9, 56, 12]\n"
          ],
          "name": "stdout"
        }
      ]
    },
    {
      "cell_type": "code",
      "metadata": {
        "colab": {
          "base_uri": "https://localhost:8080/"
        },
        "id": "qPE-0j3IhzbT",
        "outputId": "1c88c5a3-68cc-4c51-d21d-5bf4076b4a44"
      },
      "source": [
        "# Python3 program to swap elements\n",
        "# at given positions\n",
        "\n",
        "# Swap function\n",
        "def swapPositions(list, pos1, pos2):\n",
        "\t\n",
        "\tlist[pos1], list[pos2] = list[pos2], list[pos1]\n",
        "\treturn list\n",
        "\n",
        "# Driver function\n",
        "List = [23, 65, 19, 90]\n",
        "pos1, pos2 = 1, 3\n",
        "\n",
        "print(swapPositions(List, pos1-1, pos2-1))\n"
      ],
      "execution_count": 4,
      "outputs": [
        {
          "output_type": "stream",
          "text": [
            "[19, 65, 23, 90]\n"
          ],
          "name": "stdout"
        }
      ]
    },
    {
      "cell_type": "code",
      "metadata": {
        "colab": {
          "base_uri": "https://localhost:8080/"
        },
        "id": "2TLnMwtxia8h",
        "outputId": "61fc5cf9-60be-4e32-8a6f-ab7badd6a20c"
      },
      "source": [
        "# Python code to demonstrate\n",
        "# length of list\n",
        "# using naive method\n",
        "\n",
        "# Initializing list\n",
        "test_list = [ 1, 4, 5, 7, 8 ]\n",
        "\n",
        "# Printing test_list\n",
        "print (\"The list is : \" + str(test_list))\n",
        "\n",
        "# Finding length of list\n",
        "# using loop\n",
        "# Initializing counter\n",
        "counter = 0\n",
        "for i in test_list:\n",
        "\t\n",
        "\t# incrementing counter\n",
        "\tcounter = counter + 1\n",
        "\n",
        "# Printing length of list\n",
        "print (\"Length of list using naive method is : \" + str(counter))\n"
      ],
      "execution_count": 5,
      "outputs": [
        {
          "output_type": "stream",
          "text": [
            "The list is : [1, 4, 5, 7, 8]\n",
            "Length of list using naive method is : 5\n"
          ],
          "name": "stdout"
        }
      ]
    },
    {
      "cell_type": "code",
      "metadata": {
        "colab": {
          "base_uri": "https://localhost:8080/"
        },
        "id": "11VcX_hhigJf",
        "outputId": "416d1742-3ee2-4154-d5ee-63554be50d32"
      },
      "source": [
        "\"\"\"\n",
        "Python code to demonstrate\n",
        "checking of element existence\n",
        "using List count() method\n",
        "\"\"\"\n",
        "\n",
        "# Initializing list\n",
        "test_list = [10, 15, 20, 7, 46, 2808]\n",
        "\n",
        "print(\"Checking if 15 exists in list\")\n",
        "\n",
        "# number of times element exists in list\n",
        "exist_count = test_list.count(15)\n",
        "\n",
        "# checking if it is more then 0\n",
        "if exist_count > 0:\n",
        "\tprint(\"Yes, 15 exists in list\")\n",
        "else:\n",
        "\tprint(\"No, 15 does not exists in list\")\n"
      ],
      "execution_count": 6,
      "outputs": [
        {
          "output_type": "stream",
          "text": [
            "Checking if 15 exists in list\n",
            "Yes, 15 exists in list\n"
          ],
          "name": "stdout"
        }
      ]
    },
    {
      "cell_type": "code",
      "metadata": {
        "colab": {
          "base_uri": "https://localhost:8080/"
        },
        "id": "zl3dS3T6jf4V",
        "outputId": "97db33fd-47ff-4e9c-cd0e-e13aee771f8f"
      },
      "source": [
        "# Defining a list\n",
        "list = [{1, 2}, ('a'), ['1.1', '2.2']]\n",
        "\n",
        "# clearing the list\n",
        "list.clear()\n",
        "\n",
        "print('List:', list)"
      ],
      "execution_count": 7,
      "outputs": [
        {
          "output_type": "stream",
          "text": [
            "List: []\n"
          ],
          "name": "stdout"
        }
      ]
    },
    {
      "cell_type": "code",
      "metadata": {
        "colab": {
          "base_uri": "https://localhost:8080/"
        },
        "id": "3kf72eL3jqKG",
        "outputId": "07153aba-b5a5-4785-e1d9-44773b0af787"
      },
      "source": [
        "#write a program to Reversing a List\n",
        "# Reversing a list using reverse()\n",
        "def Reverse(lst):\n",
        "\tlst.reverse()\n",
        "\treturn lst\n",
        "\t\n",
        "lst = [10, 11, 12, 13, 14, 15]\n",
        "print(Reverse(lst))\n"
      ],
      "execution_count": 8,
      "outputs": [
        {
          "output_type": "stream",
          "text": [
            "[15, 14, 13, 12, 11, 10]\n"
          ],
          "name": "stdout"
        }
      ]
    },
    {
      "cell_type": "code",
      "metadata": {
        "colab": {
          "base_uri": "https://localhost:8080/"
        },
        "id": "e0TKWZTvj8ko",
        "outputId": "7ae53ba7-bc1e-4b22-945b-239385afbf5c"
      },
      "source": [
        "# Reversing a list using slicing technique\n",
        "def Reverse(lst):\n",
        "\tnew_lst = lst[::-1]\n",
        "\treturn new_lst\n",
        "\t\n",
        "lst = [10, 11, 12, 13, 14, 15]\n",
        "print(Reverse(lst))\n"
      ],
      "execution_count": 9,
      "outputs": [
        {
          "output_type": "stream",
          "text": [
            "[15, 14, 13, 12, 11, 10]\n"
          ],
          "name": "stdout"
        }
      ]
    },
    {
      "cell_type": "code",
      "metadata": {
        "colab": {
          "base_uri": "https://localhost:8080/"
        },
        "id": "83Hi_snmj_Dd",
        "outputId": "dce6573d-e872-487b-8472-f4d7f6d2b41f"
      },
      "source": [
        "# Python program to find sum of elements in list\n",
        "total = 0\n",
        "\n",
        "# creating a list\n",
        "list1 = [11, 5, 17, 18, 23]\n",
        "\n",
        "# Iterate each element in list\n",
        "# and add them in variale total\n",
        "for ele in range(0, len(list1)):\n",
        "\ttotal = total + list1[ele]\n",
        "\n",
        "# printing total value\n",
        "print(\"Sum of all elements in given list: \", total)\n"
      ],
      "execution_count": 10,
      "outputs": [
        {
          "output_type": "stream",
          "text": [
            "Sum of all elements in given list:  74\n"
          ],
          "name": "stdout"
        }
      ]
    },
    {
      "cell_type": "code",
      "metadata": {
        "colab": {
          "base_uri": "https://localhost:8080/"
        },
        "id": "h6Q8w4TKkQRF",
        "outputId": "3f366fa4-7156-44d5-a3af-f856ed9397b1"
      },
      "source": [
        "##write a program to Multiply all numbers in the list\n",
        "def multiply(numbers):  \n",
        "    total = 1\n",
        "    for x in numbers:\n",
        "        total *= x  \n",
        "    return total  \n",
        "print(multiply((8, 2, 3, -1, 7)))\n"
      ],
      "execution_count": 11,
      "outputs": [
        {
          "output_type": "stream",
          "text": [
            "-336\n"
          ],
          "name": "stdout"
        }
      ]
    },
    {
      "cell_type": "code",
      "metadata": {
        "id": "JSUxqj0kkbZi"
      },
      "source": [
        ""
      ],
      "execution_count": null,
      "outputs": []
    }
  ]
}