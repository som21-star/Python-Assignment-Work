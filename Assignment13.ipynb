{
  "nbformat": 4,
  "nbformat_minor": 0,
  "metadata": {
    "colab": {
      "name": "Untitled33.ipynb",
      "provenance": []
    },
    "kernelspec": {
      "name": "python3",
      "display_name": "Python 3"
    },
    "language_info": {
      "name": "python"
    }
  },
  "cells": [
    {
      "cell_type": "code",
      "metadata": {
        "colab": {
          "base_uri": "https://localhost:8080/"
        },
        "id": "PXWiQWiilcbJ",
        "outputId": "474d79ad-b154-4a63-a259-b838e7422894"
      },
      "source": [
        "##Python – Join Tuples if similar initial element\n",
        "# Python3 code to demonstrate working of\n",
        "# Join Tuples if similar initial element\n",
        "# Using defaultdict() + loop\n",
        "from collections import defaultdict\n",
        "\n",
        "# initializing list\n",
        "test_list = [(5, 6), (5, 7), (6, 8), (6, 10), (7, 13)]\n",
        "\n",
        "# printing original list\n",
        "print(\"The original list is : \" + str(test_list))\n",
        "\n",
        "# Join Tuples if similar initial element\n",
        "# Using defaultdict() + loop\n",
        "mapp = defaultdict(list)\n",
        "for key, val in test_list:\n",
        "\tmapp[key].append(val)\n",
        "res = [(key, *val) for key, val in mapp.items()]\n",
        "\n",
        "# printing result\n",
        "print(\"The extracted elements : \" + str(res))\n"
      ],
      "execution_count": 1,
      "outputs": [
        {
          "output_type": "stream",
          "text": [
            "The original list is : [(5, 6), (5, 7), (6, 8), (6, 10), (7, 13)]\n",
            "The extracted elements : [(5, 6, 7), (6, 8, 10), (7, 13)]\n"
          ],
          "name": "stdout"
        }
      ]
    },
    {
      "cell_type": "code",
      "metadata": {
        "colab": {
          "base_uri": "https://localhost:8080/"
        },
        "id": "hilVf26Km8XB",
        "outputId": "4a7bbc47-bdb9-4161-d407-5f0ac447548e"
      },
      "source": [
        "# Python3 code to demonstrate working of\n",
        "# Extract digits from Tuple list\n",
        "# Using map() + chain.from_iterable() + set() + loop\n",
        "from itertools import chain\n",
        "\n",
        "# initializing list\n",
        "test_list = [(15, 3), (3, 9), (1, 10), (99, 2)]\n",
        "\n",
        "# printing original list\n",
        "print(\"The original list is : \" + str(test_list))\n",
        "\n",
        "# Extract digits from Tuple list\n",
        "# Using map() + chain.from_iterable() + set() + loop\n",
        "temp = map(lambda ele: str(ele), chain.from_iterable(test_list))\n",
        "res = set()\n",
        "for sub in temp:\n",
        "\tfor ele in sub:\n",
        "\t\tres.add(ele)\n",
        "\n",
        "# printing result\n",
        "print(\"The extrated digits : \" + str(res))\n"
      ],
      "execution_count": 2,
      "outputs": [
        {
          "output_type": "stream",
          "text": [
            "The original list is : [(15, 3), (3, 9), (1, 10), (99, 2)]\n",
            "The extrated digits : {'1', '0', '5', '9', '3', '2'}\n"
          ],
          "name": "stdout"
        }
      ]
    },
    {
      "cell_type": "code",
      "metadata": {
        "colab": {
          "base_uri": "https://localhost:8080/"
        },
        "id": "aL_0sKwRnGsA",
        "outputId": "4155ce58-b879-4d2d-945e-0316f1c9779e"
      },
      "source": [
        "# Python3 code to demonstrate working of\n",
        "# All pair combinations of 2 tuples\n",
        "# Using list comprehension\n",
        "\n",
        "# initializing tuples\n",
        "test_tuple1 = (4, 5)\n",
        "test_tuple2 = (7, 8)\n",
        "\n",
        "# printing original tuples\n",
        "print(\"The original tuple 1 : \" + str(test_tuple1))\n",
        "print(\"The original tuple 2 : \" + str(test_tuple2))\n",
        "\n",
        "# All pair combinations of 2 tuples\n",
        "# Using list comprehension\n",
        "res = [(a, b) for a in test_tuple1 for b in test_tuple2]\n",
        "res = res + [(a, b) for a in test_tuple2 for b in test_tuple1]\n",
        "\n",
        "# printing result\n",
        "print(\"The filtered tuple : \" + str(res))\n"
      ],
      "execution_count": 3,
      "outputs": [
        {
          "output_type": "stream",
          "text": [
            "The original tuple 1 : (4, 5)\n",
            "The original tuple 2 : (7, 8)\n",
            "The filtered tuple : [(4, 7), (4, 8), (5, 7), (5, 8), (7, 4), (7, 5), (8, 4), (8, 5)]\n"
          ],
          "name": "stdout"
        }
      ]
    },
    {
      "cell_type": "code",
      "metadata": {
        "colab": {
          "base_uri": "https://localhost:8080/"
        },
        "id": "w2ZuZf-MnMUk",
        "outputId": "3cbc523a-7923-4323-e2eb-fecf7160b2ee"
      },
      "source": [
        "##Python – Remove Tuples of Length K\n",
        "# Python3 code to demonstrate working of\n",
        "# Remove Tuples of Length K\n",
        "# Using filter() + lambda + len()\n",
        "\n",
        "# initializing list\n",
        "test_list = [(4, 5), (4, ), (8, 6, 7), (1, ), (3, 4, 6, 7)]\n",
        "\n",
        "# printing original list\n",
        "print(\"The original list : \" + str(test_list))\n",
        "\n",
        "# initializing K\n",
        "K = 1\n",
        "\n",
        "# filter() filters non K length values and returns result\n",
        "res = list(filter(lambda x : len(x) != K, test_list))\n",
        "\n",
        "# printing result\n",
        "print(\"Filtered list : \" + str(res))\n"
      ],
      "execution_count": 7,
      "outputs": [
        {
          "output_type": "stream",
          "text": [
            "The original list : [(4, 5), (4,), (8, 6, 7), (1,), (3, 4, 6, 7)]\n",
            "Filtered list : [(4, 5), (8, 6, 7), (3, 4, 6, 7)]\n"
          ],
          "name": "stdout"
        }
      ]
    },
    {
      "cell_type": "code",
      "metadata": {
        "colab": {
          "base_uri": "https://localhost:8080/"
        },
        "id": "yXy_LhvinT9P",
        "outputId": "3e84ea07-49a7-4ed9-8606-345f016e555a"
      },
      "source": [
        "##Sort a list of tuples by second Item\n",
        "# Python program to sort a list of\n",
        "# tuples by the second Item using sort()\n",
        "\n",
        "# Function to sort hte list by second item of tuple\n",
        "def Sort_Tuple(tup):\n",
        "\n",
        "\t# reverse = None (Sorts in Ascending order)\n",
        "\t# key is set to sort using second element of\n",
        "\t# sublist lambda has been used\n",
        "\ttup.sort(key = lambda x: x[1])\n",
        "\treturn tup\n",
        "\n",
        "# Driver Code\n",
        "tup = [('rishav', 10), ('akash', 5), ('ram', 20), ('gaurav', 15)]\n",
        "\n",
        "# printing the sorted list of tuples\n",
        "print(Sort_Tuple(tup))\n"
      ],
      "execution_count": 6,
      "outputs": [
        {
          "output_type": "stream",
          "text": [
            "[('akash', 5), ('rishav', 10), ('gaurav', 15), ('ram', 20)]\n"
          ],
          "name": "stdout"
        }
      ]
    },
    {
      "cell_type": "code",
      "metadata": {
        "colab": {
          "base_uri": "https://localhost:8080/"
        },
        "id": "M0SMLwDJnfBJ",
        "outputId": "8ac7403b-0e13-45c7-e95c-d2f7643d3637"
      },
      "source": [
        "##Python program to Order Tuples using external List\n",
        "# Python3 code to demonstrate working of\n",
        "# Order Tuples by List\n",
        "# Using setdefault() + sorted() + lambda\n",
        "\n",
        "# initializing list\n",
        "test_list = [('Gfg', 3), ('best', 9), ('CS', 10), ('Geeks', 2)]\n",
        "\n",
        "# printing original list\n",
        "print(\"The original list is : \" + str(test_list))\n",
        "\n",
        "# initializing order list\n",
        "ord_list = ['Geeks', 'best', 'CS', 'Gfg']\n",
        "\n",
        "# Order Tuples by List\n",
        "# Using setdefault() + sorted() + lambda\n",
        "temp = dict()\n",
        "for key, ele in enumerate(ord_list):\n",
        "\ttemp.setdefault(ele, []).append(key)\t\n",
        "res = sorted(test_list, key = lambda ele: temp[ele[0]].pop())\n",
        "\n",
        "# printing result\n",
        "print(\"The ordered tuple list : \" + str(res))\n"
      ],
      "execution_count": 8,
      "outputs": [
        {
          "output_type": "stream",
          "text": [
            "The original list is : [('Gfg', 3), ('best', 9), ('CS', 10), ('Geeks', 2)]\n",
            "The ordered tuple list : [('Geeks', 2), ('best', 9), ('CS', 10), ('Gfg', 3)]\n"
          ],
          "name": "stdout"
        }
      ]
    },
    {
      "cell_type": "code",
      "metadata": {
        "colab": {
          "base_uri": "https://localhost:8080/"
        },
        "id": "BXNAMpZkn1Zg",
        "outputId": "3ae84a8a-8592-4f6a-fb53-b6dd1f8001f9"
      },
      "source": [
        "# Python3 code to demonstrate working of\n",
        "# Flatten tuple of List to tuple\n",
        "# Using sum() + tuple()\n",
        "\n",
        "# initializing tuple\n",
        "test_tuple = ([5, 6], [6, 7, 8, 9], [3])\n",
        "\n",
        "# printing original tuple\n",
        "print(\"The original tuple : \" + str(test_tuple))\n",
        "\n",
        "# Flatten tuple of List to tuple\n",
        "# Using sum() + tuple()\n",
        "res = tuple(sum(test_tuple, []))\n",
        "\n",
        "# printing result\n",
        "print(\"The flattened tuple : \" + str(res))\n"
      ],
      "execution_count": 9,
      "outputs": [
        {
          "output_type": "stream",
          "text": [
            "The original tuple : ([5, 6], [6, 7, 8, 9], [3])\n",
            "The flattened tuple : (5, 6, 6, 7, 8, 9, 3)\n"
          ],
          "name": "stdout"
        }
      ]
    },
    {
      "cell_type": "code",
      "metadata": {
        "colab": {
          "base_uri": "https://localhost:8080/"
        },
        "id": "uU9Fxnasn7iM",
        "outputId": "2971b61b-d840-4547-9baa-3f7c03396fbb"
      },
      "source": [
        "##Python – Convert Nested Tuple to Custom Key Dictionary\n",
        "# Python3 code to demonstrate working of\n",
        "# Convert Nested Tuple to Custom Key Dictionary\n",
        "# Using zip() + list comprehension\n",
        "\n",
        "# initializing tuple\n",
        "test_tuple = ((4, 'Gfg', 10), (3, 'is', 8), (6, 'Best', 10))\n",
        "\n",
        "# printing original tuple\n",
        "print(\"The original tuple : \" + str(test_tuple))\n",
        "\n",
        "# initializing Keys\n",
        "keys = ['key', 'value', 'id']\n",
        "\n",
        "# Convert Nested Tuple to Custom Key Dictionary\n",
        "# Using zip() + list comprehension\n",
        "res = [{key: val for key, val in zip(keys, sub)}\n",
        "\t\t\t\t\t\tfor sub in test_tuple]\n",
        "\n",
        "# printing result\n",
        "print(\"The converted dictionary : \" + str(res))\n"
      ],
      "execution_count": 10,
      "outputs": [
        {
          "output_type": "stream",
          "text": [
            "The original tuple : ((4, 'Gfg', 10), (3, 'is', 8), (6, 'Best', 10))\n",
            "The converted dictionary : [{'key': 4, 'value': 'Gfg', 'id': 10}, {'key': 3, 'value': 'is', 'id': 8}, {'key': 6, 'value': 'Best', 'id': 10}]\n"
          ],
          "name": "stdout"
        }
      ]
    },
    {
      "cell_type": "code",
      "metadata": {
        "colab": {
          "base_uri": "https://localhost:8080/"
        },
        "id": "CLcIaG_3oJlL",
        "outputId": "e48090f3-2701-4ab4-844b-0c33904230ee"
      },
      "source": [
        "##Python Program for Binary Search (Recursive and Iterative)\n",
        "# Python 3 program for recursive binary search.\n",
        "# Modifications needed for the older Python 2 are found in comments.\n",
        "\n",
        "# Returns index of x in arr if present, else -1\n",
        "def binary_search(arr, low, high, x):\n",
        "\n",
        "\t# Check base case\n",
        "\tif high >= low:\n",
        "\n",
        "\t\tmid = (high + low) // 2\n",
        "\n",
        "\t\t# If element is present at the middle itself\n",
        "\t\tif arr[mid] == x:\n",
        "\t\t\treturn mid\n",
        "\n",
        "\t\t# If element is smaller than mid, then it can only\n",
        "\t\t# be present in left subarray\n",
        "\t\telif arr[mid] > x:\n",
        "\t\t\treturn binary_search(arr, low, mid - 1, x)\n",
        "\n",
        "\t\t# Else the element can only be present in right subarray\n",
        "\t\telse:\n",
        "\t\t\treturn binary_search(arr, mid + 1, high, x)\n",
        "\n",
        "\telse:\n",
        "\t\t# Element is not present in the array\n",
        "\t\treturn -1\n",
        "\n",
        "# Test array\n",
        "arr = [ 2, 3, 4, 10, 40 ]\n",
        "x = 10\n",
        "\n",
        "# Function call\n",
        "result = binary_search(arr, 0, len(arr)-1, x)\n",
        "\n",
        "if result != -1:\n",
        "\tprint(\"Element is present at index\", str(result))\n",
        "else:\n",
        "\tprint(\"Element is not present in array\")\n"
      ],
      "execution_count": 11,
      "outputs": [
        {
          "output_type": "stream",
          "text": [
            "Element is present at index 3\n"
          ],
          "name": "stdout"
        }
      ]
    },
    {
      "cell_type": "code",
      "metadata": {
        "id": "uBuECdomoRNr"
      },
      "source": [
        "# Searching an element in a list/array in python\n",
        "# can be simply done using \\'in\\' operator\n",
        "# Example:\n",
        "# if x in arr:\n",
        "# print arr.index(x)\n",
        "\n",
        "# If you want to implement Linear Search in python\n",
        "\n",
        "# Linearly search x in arr[]\n",
        "# If x is present then return its location\n",
        "# else return -1\n",
        "\n",
        "def search(arr, x):\n",
        "\n",
        "\tfor i in range(len(arr)):\n",
        "\n",
        "\t\tif arr[i] == x:\n",
        "\t\t\treturn i\n",
        "\n",
        "\treturn -1\n"
      ],
      "execution_count": 12,
      "outputs": []
    },
    {
      "cell_type": "code",
      "metadata": {
        "colab": {
          "base_uri": "https://localhost:8080/"
        },
        "id": "i-gOsrW2oXeH",
        "outputId": "1f8f9793-7104-47b6-f09f-dae181b8b57d"
      },
      "source": [
        "##Python Program for Insertion Sort\n",
        "# Python program for implementation of Insertion Sort\n",
        "\n",
        "# Function to do insertion sort\n",
        "def insertionSort(arr):\n",
        "\n",
        "\t# Traverse through 1 to len(arr)\n",
        "\tfor i in range(1, len(arr)):\n",
        "\n",
        "\t\tkey = arr[i]\n",
        "\n",
        "\t\t# Move elements of arr[0..i-1], that are\n",
        "\t\t# greater than key, to one position ahead\n",
        "\t\t# of their current position\n",
        "\t\tj = i-1\n",
        "\t\twhile j >=0 and key < arr[j] :\n",
        "\t\t\t\tarr[j+1] = arr[j]\n",
        "\t\t\t\tj -= 1\n",
        "\t\tarr[j+1] = key\n",
        "\n",
        "\n",
        "# Driver code to test above\n",
        "arr = [12, 11, 13, 5, 6]\n",
        "insertionSort(arr)\n",
        "print (\"Sorted array is:\")\n",
        "for i in range(len(arr)):\n",
        "\tprint (\"%d\" %arr[i])\n",
        "\n"
      ],
      "execution_count": 14,
      "outputs": [
        {
          "output_type": "stream",
          "text": [
            "Sorted array is:\n",
            "5\n",
            "6\n",
            "11\n",
            "12\n",
            "13\n"
          ],
          "name": "stdout"
        }
      ]
    },
    {
      "cell_type": "code",
      "metadata": {
        "id": "g4diBRVrohyz"
      },
      "source": [
        ""
      ],
      "execution_count": null,
      "outputs": []
    }
  ]
}