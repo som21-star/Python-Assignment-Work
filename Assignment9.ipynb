{
  "nbformat": 4,
  "nbformat_minor": 0,
  "metadata": {
    "colab": {
      "name": "Untitled29.ipynb",
      "provenance": []
    },
    "kernelspec": {
      "name": "python3",
      "display_name": "Python 3"
    },
    "language_info": {
      "name": "python"
    }
  },
  "cells": [
    {
      "cell_type": "code",
      "metadata": {
        "colab": {
          "base_uri": "https://localhost:8080/"
        },
        "id": "o-0_RrR2m8BE",
        "outputId": "e914ff7c-ea1b-4745-da13-78a3326201a1"
      },
      "source": [
        "##Python – Replace multiple words with K\n",
        "# Python3 code to demonstrate working of\n",
        "# Replace multiple words with K\n",
        "# Using regex + join()\n",
        "import re\n",
        "\n",
        "# initializing string\n",
        "test_str = 'Geeksforgeeks is best for geeks and CS'\n",
        "\n",
        "# printing original string\n",
        "print(\"The original string is : \" + str(test_str))\n",
        "\n",
        "# initializing word list\n",
        "word_list = [\"best\", 'CS', 'for']\n",
        "\n",
        "# initializing replace word\n",
        "repl_wrd = 'gfg'\n",
        "\n",
        "# Replace multiple words with K\n",
        "# Using regex + join()\n",
        "res = re.sub(\"|\".join(sorted(word_list, key = len, reverse = True)), repl_wrd, test_str)\n",
        "\n",
        "# printing result\n",
        "print(\"String after multiple replace : \" + str(res))\n"
      ],
      "execution_count": 1,
      "outputs": [
        {
          "output_type": "stream",
          "text": [
            "The original string is : Geeksforgeeks is best for geeks and CS\n",
            "String after multiple replace : Geeksgfggeeks is gfg gfg geeks and gfg\n"
          ],
          "name": "stdout"
        }
      ]
    },
    {
      "cell_type": "code",
      "metadata": {
        "colab": {
          "base_uri": "https://localhost:8080/"
        },
        "id": "GwQz6T2WnC88",
        "outputId": "44d97400-8b95-4d5e-b483-f901df3dffe5"
      },
      "source": [
        "### Function to find permutations of a given string\n",
        "from itertools import permutations\n",
        "\n",
        "def allPermutations(str):\n",
        "\t\n",
        "\t# Get all permutations of string 'ABC'\n",
        "\tpermList = permutations(str)\n",
        "\n",
        "\t# print all permutations\n",
        "\tfor perm in list(permList):\n",
        "\t\tprint (''.join(perm))\n",
        "\t\t\n",
        "# Driver program\n",
        "if __name__ == \"__main__\":\n",
        "\tstr = 'ABC'\n",
        "\tallPermutations(str)\n"
      ],
      "execution_count": 2,
      "outputs": [
        {
          "output_type": "stream",
          "text": [
            "ABC\n",
            "ACB\n",
            "BAC\n",
            "BCA\n",
            "CAB\n",
            "CBA\n"
          ],
          "name": "stdout"
        }
      ]
    },
    {
      "cell_type": "code",
      "metadata": {
        "colab": {
          "base_uri": "https://localhost:8080/"
        },
        "id": "bJ4uTug3nQps",
        "outputId": "1a2f3834-8071-4ae7-ab6e-46ab07775847"
      },
      "source": [
        "##Python | Check for URL in a String\n",
        "# Python code to find the URL from an input string\n",
        "# Using the regular expression\n",
        "import re\n",
        "\n",
        "def Find(string):\n",
        "\n",
        "\t# findall() has been used\n",
        "\t# with valid conditions for urls in string\n",
        "\tregex = r\"(?i)\\b((?:https?://|www\\d{0,3}[.]|[a-z0-9.\\-]+[.][a-z]{2,4}/)(?:[^\\s()<>]+|\\(([^\\s()<>]+|(\\([^\\s()<>]+\\)))*\\))+(?:\\(([^\\s()<>]+|(\\([^\\s()<>]+\\)))*\\)|[^\\s`!()\\[\\]{};:'\\\".,<>?«»“”‘’]))\"\n",
        "\turl = re.findall(regex,string)\t\n",
        "\treturn [x[0] for x in url]\n",
        "\t\n",
        "# Driver Code\n",
        "string = 'My Profile: https://auth.geeksforgeeks.org/user/Chinmoy%20Lenka/articles in the portal of http://www.geeksforgeeks.org/'\n",
        "print(\"Urls: \", Find(string))\n"
      ],
      "execution_count": 3,
      "outputs": [
        {
          "output_type": "stream",
          "text": [
            "Urls:  ['https://auth.geeksforgeeks.org/user/Chinmoy%20Lenka/articles', 'http://www.geeksforgeeks.org/']\n"
          ],
          "name": "stdout"
        }
      ]
    },
    {
      "cell_type": "code",
      "metadata": {
        "colab": {
          "base_uri": "https://localhost:8080/"
        },
        "id": "Auf5nK9Ahzd2",
        "outputId": "9b3b22fa-1f1d-4eaf-a671-5b2119082bac"
      },
      "source": [
        "##Execute a String of Code in Python\n",
        "# Python program to illustrate use of exec to\n",
        "# execute a given code as string.\n",
        "\n",
        "# function illustrating how exec() functions.\n",
        "def exec_code():\n",
        "\tLOC = \"\"\"\n",
        "def factorial(num):\n",
        "\tfact=1\n",
        "\tfor i in range(1,num+1):\n",
        "\t\tfact = fact*i\n",
        "\treturn fact\n",
        "print(factorial(5))\n",
        "\"\"\"\n",
        "\texec(LOC)\n",
        "\t\n",
        "# Driver Code\n",
        "exec_code()\n"
      ],
      "execution_count": 4,
      "outputs": [
        {
          "output_type": "stream",
          "text": [
            "120\n"
          ],
          "name": "stdout"
        }
      ]
    },
    {
      "cell_type": "code",
      "metadata": {
        "colab": {
          "base_uri": "https://localhost:8080/"
        },
        "id": "KI28zP1giCRY",
        "outputId": "09bc6199-2d8a-435a-b8aa-70c0f1e47d44"
      },
      "source": [
        "##String slicing in Python to rotate a string\n",
        "# Function to rotate string left and right by d length\n",
        "\n",
        "def rotate(input,d):\n",
        "\n",
        "\t# slice string in two parts for left and right\n",
        "\tLfirst = input[0 : d]\n",
        "\tLsecond = input[d :]\n",
        "\tRfirst = input[0 : len(input)-d]\n",
        "\tRsecond = input[len(input)-d : ]\n",
        "\n",
        "\t# now concatenate two parts together\n",
        "\tprint (\"Left Rotation : \", (Lsecond + Lfirst) )\n",
        "\tprint (\"Right Rotation : \", (Rsecond + Rfirst))\n",
        "\n",
        "# Driver program\n",
        "if __name__ == \"__main__\":\n",
        "\tinput = 'GeeksforGeeks'\n",
        "\td=2\n",
        "\trotate(input,d)\n"
      ],
      "execution_count": 5,
      "outputs": [
        {
          "output_type": "stream",
          "text": [
            "Left Rotation :  eksforGeeksGe\n",
            "Right Rotation :  ksGeeksforGee\n"
          ],
          "name": "stdout"
        }
      ]
    },
    {
      "cell_type": "code",
      "metadata": {
        "colab": {
          "base_uri": "https://localhost:8080/"
        },
        "id": "xR0SaxlyiNnW",
        "outputId": "5044b4b1-cab7-4bb3-80d3-9e0f218351a9"
      },
      "source": [
        "##String slicing in Python to check if a string can become empty by recursive deletion\n",
        "def checkEmpty(input, pattern):\n",
        "\t\t\n",
        "\t# If both are empty\n",
        "\tif len(input)== 0 and len(pattern)== 0:\n",
        "\t\treturn 'true'\n",
        "\t\n",
        "\t# If only pattern is empty\n",
        "\tif len(pattern)== 0:\n",
        "\t\treturn 'true'\n",
        "\t\n",
        "\twhile (len(input) != 0):\n",
        "\n",
        "\t\t# find sub-string in main string\n",
        "\t\tindex = input.find(pattern)\n",
        "\n",
        "\t\t# check if sub-string founded or not\n",
        "\t\tif (index ==(-1)):\n",
        "\t\t    return 'false'\n",
        "\n",
        "\t\t# slice input string in two parts and concatenate\n",
        "\t\tinput = input[0:index] + input[index + len(pattern):]\t\t\t\n",
        "\n",
        "\treturn 'true'\n",
        "\t\n",
        "# Driver program\n",
        "if __name__ == \"__main__\":\n",
        "\tinput ='GEEGEEKSKS'\n",
        "\tpattern ='GEEKS'\n",
        "\tprint (checkEmpty(input, pattern))\n"
      ],
      "execution_count": 7,
      "outputs": [
        {
          "output_type": "stream",
          "text": [
            "true\n"
          ],
          "name": "stdout"
        }
      ]
    },
    {
      "cell_type": "code",
      "metadata": {
        "colab": {
          "base_uri": "https://localhost:8080/",
          "height": 333
        },
        "id": "cmCgpBsVicPc",
        "outputId": "335a9e5a-4adb-4ae5-842d-af0f52c50a51"
      },
      "source": [
        "##Python Counter| Find all duplicate characters in string\n",
        "from collections import Counter\n",
        "\n",
        "def find_dup_char(input):\n",
        "\n",
        "\t# now create dictionary using counter method\n",
        "\t# which will have strings as key and their\n",
        "\t# frequencies as value\n",
        "\tWC = Counter(input)\n",
        "\tj = -1\n",
        "\t\n",
        "\t\n",
        "\t# Finding no. of occurrence of a character\n",
        "\t# and get the index of it.\n",
        "\tfor i in WC.values():\n",
        "\t\tj = j + 1\n",
        "\t\tif( i > 1 ):\n",
        "\t\t\t print(WC.keys()[j])\n",
        "\n",
        "# Driver program\n",
        "if __name__ == \"__main__\":\n",
        "\tinput = 'geeksforgeeks'\n",
        "\tfind_dup_char(input)\n",
        " "
      ],
      "execution_count": 10,
      "outputs": [
        {
          "output_type": "error",
          "ename": "TypeError",
          "evalue": "ignored",
          "traceback": [
            "\u001b[0;31m---------------------------------------------------------------------------\u001b[0m",
            "\u001b[0;31mTypeError\u001b[0m                                 Traceback (most recent call last)",
            "\u001b[0;32m<ipython-input-10-783db684e916>\u001b[0m in \u001b[0;36m<module>\u001b[0;34m()\u001b[0m\n\u001b[1;32m     21\u001b[0m \u001b[0;32mif\u001b[0m \u001b[0m__name__\u001b[0m \u001b[0;34m==\u001b[0m \u001b[0;34m\"__main__\"\u001b[0m\u001b[0;34m:\u001b[0m\u001b[0;34m\u001b[0m\u001b[0;34m\u001b[0m\u001b[0m\n\u001b[1;32m     22\u001b[0m         \u001b[0minput\u001b[0m \u001b[0;34m=\u001b[0m \u001b[0;34m'geeksforgeeks'\u001b[0m\u001b[0;34m\u001b[0m\u001b[0;34m\u001b[0m\u001b[0m\n\u001b[0;32m---> 23\u001b[0;31m         \u001b[0mfind_dup_char\u001b[0m\u001b[0;34m(\u001b[0m\u001b[0minput\u001b[0m\u001b[0;34m)\u001b[0m\u001b[0;34m\u001b[0m\u001b[0;34m\u001b[0m\u001b[0m\n\u001b[0m\u001b[1;32m     24\u001b[0m \u001b[0;34m\u001b[0m\u001b[0m\n",
            "\u001b[0;32m<ipython-input-10-783db684e916>\u001b[0m in \u001b[0;36mfind_dup_char\u001b[0;34m(input)\u001b[0m\n\u001b[1;32m     16\u001b[0m                 \u001b[0mj\u001b[0m \u001b[0;34m=\u001b[0m \u001b[0mj\u001b[0m \u001b[0;34m+\u001b[0m \u001b[0;36m1\u001b[0m\u001b[0;34m\u001b[0m\u001b[0;34m\u001b[0m\u001b[0m\n\u001b[1;32m     17\u001b[0m                 \u001b[0;32mif\u001b[0m\u001b[0;34m(\u001b[0m \u001b[0mi\u001b[0m \u001b[0;34m>\u001b[0m \u001b[0;36m1\u001b[0m \u001b[0;34m)\u001b[0m\u001b[0;34m:\u001b[0m\u001b[0;34m\u001b[0m\u001b[0;34m\u001b[0m\u001b[0m\n\u001b[0;32m---> 18\u001b[0;31m                          \u001b[0mprint\u001b[0m\u001b[0;34m(\u001b[0m\u001b[0mWC\u001b[0m\u001b[0;34m.\u001b[0m\u001b[0mkeys\u001b[0m\u001b[0;34m(\u001b[0m\u001b[0;34m)\u001b[0m\u001b[0;34m[\u001b[0m\u001b[0mj\u001b[0m\u001b[0;34m]\u001b[0m\u001b[0;34m)\u001b[0m\u001b[0;34m\u001b[0m\u001b[0;34m\u001b[0m\u001b[0m\n\u001b[0m\u001b[1;32m     19\u001b[0m \u001b[0;34m\u001b[0m\u001b[0m\n\u001b[1;32m     20\u001b[0m \u001b[0;31m# Driver program\u001b[0m\u001b[0;34m\u001b[0m\u001b[0;34m\u001b[0m\u001b[0;34m\u001b[0m\u001b[0m\n",
            "\u001b[0;31mTypeError\u001b[0m: 'dict_keys' object is not subscriptable"
          ]
        }
      ]
    },
    {
      "cell_type": "code",
      "metadata": {
        "colab": {
          "base_uri": "https://localhost:8080/"
        },
        "id": "uuktaOd-ix12",
        "outputId": "961b88e9-eee0-4f39-d2d0-f13613697740"
      },
      "source": [
        "##Replace all occurrences of a substring in a string\n",
        "# Python3 program to demonstrate the\n",
        "# use of replace() method\n",
        "\n",
        "string = \"geeks for geeks geeks geeks geeks\"\n",
        "\n",
        "# Prints the string by replacing all\n",
        "# geeks by Geeks\n",
        "print(string.replace(\"geeks\", \"Geeks\"))\n",
        "\n",
        "# Prints the string by replacing only\n",
        "# 3 occurrence of Geeks\n",
        "print(string.replace(\"geeks\", \"GeeksforGeeks\", 3))\n"
      ],
      "execution_count": 11,
      "outputs": [
        {
          "output_type": "stream",
          "text": [
            "Geeks for Geeks Geeks Geeks Geeks\n",
            "GeeksforGeeks for GeeksforGeeks GeeksforGeeks geeks geeks\n"
          ],
          "name": "stdout"
        }
      ]
    },
    {
      "cell_type": "code",
      "metadata": {
        "colab": {
          "base_uri": "https://localhost:8080/"
        },
        "id": "HR3Y3RaWjLsZ",
        "outputId": "4c2de211-7a93-4841-97d9-8d13ba8a4c40"
      },
      "source": [
        "# Python3 program to demonstrate the\n",
        "# use of replace() method\n",
        "\n",
        "string = \"geeks for geeks geeks geeks geeks\"\n",
        "\n",
        "# Prints the string by replacing all\n",
        "# geeks by Geeks\n",
        "print(string.replace(\"geeks\", \"Geeks\"))\n",
        "\n",
        "# Prints the string by replacing only\n",
        "# 3 occurrence of Geeks\n",
        "print(string.replace(\"geeks\", \"GeeksforGeeks\", 3))"
      ],
      "execution_count": 12,
      "outputs": [
        {
          "output_type": "stream",
          "text": [
            "Geeks for Geeks Geeks Geeks Geeks\n",
            "GeeksforGeeks for GeeksforGeeks GeeksforGeeks geeks geeks\n"
          ],
          "name": "stdout"
        }
      ]
    },
    {
      "cell_type": "code",
      "metadata": {
        "colab": {
          "base_uri": "https://localhost:8080/"
        },
        "id": "l8Oy8R__kTUN",
        "outputId": "c1434685-b99d-4da0-b233-8dee33a1ecc6"
      },
      "source": [
        "#Python program to find the sum of all items in a dictionary\n",
        "# Python3 Program to find sum of\n",
        "# all items in a Dictionary\n",
        "\n",
        "# Function to print sum\n",
        "def returnSum(dict):\n",
        "\t\n",
        "\tsum = 0\n",
        "\tfor i in dict.values():\n",
        "\t\tsum = sum + i\n",
        "\t\n",
        "\treturn sum\n",
        "\n",
        "# Driver Function\n",
        "dict = {'a': 100, 'b':200, 'c':300}\n",
        "print(\"Sum :\", returnSum(dict))\n"
      ],
      "execution_count": 13,
      "outputs": [
        {
          "output_type": "stream",
          "text": [
            "Sum : 600\n"
          ],
          "name": "stdout"
        }
      ]
    },
    {
      "cell_type": "code",
      "metadata": {
        "id": "HzxW9V3ikiX0"
      },
      "source": [
        ""
      ],
      "execution_count": null,
      "outputs": []
    }
  ]
}