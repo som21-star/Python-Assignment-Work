{
  "nbformat": 4,
  "nbformat_minor": 0,
  "metadata": {
    "colab": {
      "name": "Untitled28.ipynb",
      "provenance": []
    },
    "kernelspec": {
      "name": "python3",
      "display_name": "Python 3"
    },
    "language_info": {
      "name": "python"
    }
  },
  "cells": [
    {
      "cell_type": "code",
      "metadata": {
        "colab": {
          "base_uri": "https://localhost:8080/"
        },
        "id": "7QNgHY9jgf9Y",
        "outputId": "8b48da6f-84c9-450d-9ef3-1fefc141ef09"
      },
      "source": [
        "##Python – Least Frequent Character in String\n",
        "# Python 3 code to demonstrate\n",
        "# Least Frequent Character in String\n",
        "# collections.Counter() + min()\n",
        "from collections import Counter\n",
        "\n",
        "# initializing string\n",
        "test_str = \"GeeksforGeeks\"\n",
        "\n",
        "# printing original string\n",
        "print (\"The original string is : \" + test_str)\n",
        "\n",
        "# using collections.Counter() + min() to get\n",
        "# Least Frequent Character in String\n",
        "res = Counter(test_str)\n",
        "res = min(res, key = res.get)\n",
        "\n",
        "# printing result\n",
        "print (\"The minimum of all characters in GeeksforGeeks is : \" + str(res))\n"
      ],
      "execution_count": 1,
      "outputs": [
        {
          "output_type": "stream",
          "text": [
            "The original string is : GeeksforGeeks\n",
            "The minimum of all characters in GeeksforGeeks is : f\n"
          ],
          "name": "stdout"
        }
      ]
    },
    {
      "cell_type": "code",
      "metadata": {
        "colab": {
          "base_uri": "https://localhost:8080/"
        },
        "id": "BBwHmJXZhetz",
        "outputId": "113b78a2-2e51-4d13-cb99-a97f5496928f"
      },
      "source": [
        "##Python | Maximum frequency character in String\n",
        "# Python 3 code to demonstrate\n",
        "# Maximum frequency character in String\n",
        "# collections.Counter() + max()\n",
        "from collections import Counter\n",
        "\n",
        "# initializing string\n",
        "test_str = \"GeeksforGeeks\"\n",
        "\n",
        "# printing original string\n",
        "print (\"The original string is : \" + test_str)\n",
        "\n",
        "# using collections.Counter() + max() to get\n",
        "# Maximum frequency character in String\n",
        "res = Counter(test_str)\n",
        "res = max(res, key = res.get)\n",
        "\n",
        "# printing result\n",
        "print (\"The maximum of all characters in GeeksforGeeks is : \" + str(res))\n"
      ],
      "execution_count": 2,
      "outputs": [
        {
          "output_type": "stream",
          "text": [
            "The original string is : GeeksforGeeks\n",
            "The maximum of all characters in GeeksforGeeks is : e\n"
          ],
          "name": "stdout"
        }
      ]
    },
    {
      "cell_type": "code",
      "metadata": {
        "colab": {
          "base_uri": "https://localhost:8080/"
        },
        "id": "BaPBVwHEh1pb",
        "outputId": "84cc8d3a-051b-410c-ecb2-cc1c1cd8e9d7"
      },
      "source": [
        "##Python | Program to check if a string contains any special character\n",
        "# Python program to check special character\n",
        "\n",
        "# import required package\n",
        "import re\n",
        "\n",
        "# take inputs\n",
        "string = input('Enter any string: ')\n",
        "\n",
        "# check string contains special characters or not\n",
        "if(bool(re.match('^[a-zA-Z0-9]*$', string)) == True):\n",
        "    print('String does not contain any special characters.')\n",
        "else:\n",
        "    print('The string contains special characters.')"
      ],
      "execution_count": 3,
      "outputs": [
        {
          "output_type": "stream",
          "text": [
            "Enter any string: Pyth@n\n",
            "The string contains special characters.\n"
          ],
          "name": "stdout"
        }
      ]
    },
    {
      "cell_type": "code",
      "metadata": {
        "colab": {
          "base_uri": "https://localhost:8080/"
        },
        "id": "XIq080gTiaiN",
        "outputId": "95776e03-cab7-4139-e769-d0e1e00ff8c7"
      },
      "source": [
        "##Generating random strings until a given string is generated\n",
        "# Python program to generate and match\n",
        "# the string from all random strings\n",
        "# of same length\n",
        "\n",
        "# Importing string, random\n",
        "# and time modules\n",
        "import string\n",
        "import random\n",
        "import time\n",
        "\n",
        "# all possible characters including\n",
        "# lowercase, uppercase and special symbols\n",
        "possibleCharacters = string.ascii_lowercase + string.digits + string.ascii_uppercase + ' ., !?;:'\n",
        "\n",
        "# string to be generated\n",
        "t = \"geek\"\n",
        "\n",
        "# To take input from user\n",
        "# t = input(str(\"Enter your target text: \"))\n",
        "\n",
        "attemptThis = ''.join(random.choice(possibleCharacters)\n",
        "\t\t\t\t\t\t\t\tfor i in range(len(t)))\n",
        "attemptNext = ''\n",
        "\n",
        "completed = False\n",
        "iteration = 0\n",
        "\n",
        "# Iterate while completed is false\n",
        "while completed == False:\n",
        "\tprint(attemptThis)\n",
        "\t\n",
        "\tattemptNext = ''\n",
        "\tcompleted = True\n",
        "\t\n",
        "\t# Fix the index if matches with\n",
        "\t# the strings to be generated\n",
        "\tfor i in range(len(t)):\n",
        "\t\tif attemptThis[i] != t[i]:\n",
        "\t\t\tcompleted = False\n",
        "\t\t\tattemptNext += random.choice(possibleCharacters)\n",
        "\t\telse:\n",
        "\t\t\tattemptNext += t[i]\n",
        "\t\t\t\n",
        "\t# increment the iteration\n",
        "\titeration += 1\n",
        "\tattemptThis = attemptNext\n",
        "\ttime.sleep(0.1)\n",
        "\n",
        "# Driver Code\n",
        "print(\"Target matched after \" +str(iteration)+\" iterations\")\n"
      ],
      "execution_count": 7,
      "outputs": [
        {
          "output_type": "stream",
          "text": [
            "6YOj\n",
            "J:ua\n",
            "diw9\n",
            "SCgn\n",
            "D4pD\n",
            "6s 6\n",
            ";XSU\n",
            "6F6i\n",
            "cOT.\n",
            "wBH2\n",
            "tDre\n",
            "BS;q\n",
            "Cd5L\n",
            "vEFc\n",
            "z Fd\n",
            "BVI.\n",
            "P0Ah\n",
            "VPcU\n",
            "aoFZ\n",
            "9z0l\n",
            ":7aU\n",
            "5rKY\n",
            "yWcK\n",
            "hM d\n",
            "5FFB\n",
            "I3Va\n",
            "xEGE\n",
            "b7!S\n",
            "!E.5\n",
            "buSk\n",
            "vzYk\n",
            "B.ck\n",
            "v:,k\n",
            "waik\n",
            "cJyk\n",
            "rU6k\n",
            "V1Ck\n",
            " JXk\n",
            "4?2k\n",
            "N9 k\n",
            "q9xk\n",
            "qc5k\n",
            "m, k\n",
            "4bHk\n",
            "wytk\n",
            "2trk\n",
            "lVlk\n",
            "Jcxk\n",
            "i8;k\n",
            "M8ek\n",
            "sDek\n",
            ".Gek\n",
            "i;ek\n",
            "kHek\n",
            "IFek\n",
            "EJek\n",
            "4zek\n",
            "y ek\n",
            "aQek\n",
            "!Eek\n",
            "NPek\n",
            "lmek\n",
            "cvek\n",
            "oeek\n",
            "Feek\n",
            "xeek\n",
            "oeek\n",
            "Deek\n",
            "Aeek\n",
            "Leek\n",
            "Deek\n",
            "xeek\n",
            "Ieek\n",
            "veek\n",
            "beek\n",
            "Heek\n",
            "Ceek\n",
            "6eek\n",
            "seek\n",
            "geek\n",
            "Target matched after 80 iterations\n"
          ],
          "name": "stdout"
        }
      ]
    },
    {
      "cell_type": "code",
      "metadata": {
        "colab": {
          "base_uri": "https://localhost:8080/"
        },
        "id": "bpclQpuri098",
        "outputId": "6f25f693-494c-4b05-cfea-9663baa2c280"
      },
      "source": [
        "##Find words which are greater than given length k\n",
        "\n",
        "# Python program to find all string\n",
        "# which are greater than given length k\n",
        "\n",
        "# function find sttring greater than length k\n",
        "def string_k(k, str):\n",
        "\t\n",
        "\t# create the empty string\n",
        "\tstring = []\n",
        "\t\n",
        "\t# split the string where space is comes\n",
        "\ttext = str.split(\" \")\n",
        "\t\n",
        "\t# iterate the loop till every substring\n",
        "\tfor x in text:\n",
        "\t\t\n",
        "\t\t# if length of current sub string\n",
        "\t\t# is greater than k then\n",
        "\t\tif len(x) > k:\n",
        "\t\t\t\n",
        "\t\t\t# append this sub string in\n",
        "\t\t\t# string list\n",
        "\t\t\tstring.append(x)\n",
        "\t\t\t\n",
        "\t# return string list\n",
        "\treturn string\n",
        "\n",
        "\n",
        "# Driver Program\t\n",
        "k = 3\n",
        "str =\"geek for geeks\"\n",
        "print(string_k(k, str))\n"
      ],
      "execution_count": 9,
      "outputs": [
        {
          "output_type": "stream",
          "text": [
            "['geek', 'geeks']\n"
          ],
          "name": "stdout"
        }
      ]
    },
    {
      "cell_type": "code",
      "metadata": {
        "colab": {
          "base_uri": "https://localhost:8080/"
        },
        "id": "WPTqN45qmsjF",
        "outputId": "05baecab-e94a-4e70-a701-deb0bb3d3217"
      },
      "source": [
        "##Python program for removing i-th character from a string\n",
        "# Python3 program for removing i-th\n",
        "# indexed character from a string\n",
        "\n",
        "# Removes character at index i\n",
        "def remove(string, i):\n",
        "\n",
        "\tfor j in range(len(string)):\n",
        "\t\tif j == i:\n",
        "\t\t\tstring = string.replace(string[i], \"\", 1)\n",
        "\treturn string\n",
        "\t\n",
        "# Driver Code\n",
        "if __name__ == '__main__':\n",
        "\t\n",
        "\tstring = \"geeksFORgeeks\"\n",
        "\t\n",
        "\t# Remove nth index element\n",
        "\ti = 5\n",
        "\t\n",
        "\t# Print the new string\n",
        "\tprint(remove(string, i))\n"
      ],
      "execution_count": 10,
      "outputs": [
        {
          "output_type": "stream",
          "text": [
            "geeksORgeeks\n"
          ],
          "name": "stdout"
        }
      ]
    },
    {
      "cell_type": "code",
      "metadata": {
        "colab": {
          "base_uri": "https://localhost:8080/"
        },
        "id": "ovTjhW98nELz",
        "outputId": "8d03ff0d-d59c-4e89-ab9e-13792b44c0fd"
      },
      "source": [
        "##Python program to split and join a string\n",
        "# Python3 program for removing i-th\n",
        "# indexed character from a string\n",
        "\n",
        "# Removes character at index i\n",
        "def remove(string, i):\n",
        "\n",
        "\tfor j in range(len(string)):\n",
        "\t\tif j == i:\n",
        "\t\t\tstring = string.replace(string[i], \"\", 1)\n",
        "\treturn string\n",
        "\t\n",
        "# Driver Code\n",
        "if __name__ == '__main__':\n",
        "\t\n",
        "\tstring = \"geeksFORgeeks\"\n",
        "\t\n",
        "\t# Remove nth index element\n",
        "\ti = 5\n",
        "\t\n",
        "\t# Print the new string\n",
        "\tprint(remove(string, i))\n"
      ],
      "execution_count": 11,
      "outputs": [
        {
          "output_type": "stream",
          "text": [
            "geeksORgeeks\n"
          ],
          "name": "stdout"
        }
      ]
    },
    {
      "cell_type": "code",
      "metadata": {
        "colab": {
          "base_uri": "https://localhost:8080/"
        },
        "id": "gRuShiZ0nSNo",
        "outputId": "52864523-dcc0-4f45-c9c1-d0cdf925bd85"
      },
      "source": [
        "##Python | Check if a given string is binary string or not\n",
        "# Python program to check\n",
        "# if a string is binary or not\n",
        "\n",
        "# function for checking the\n",
        "# string is accepted or not\n",
        "def check2(string) :\n",
        "\n",
        "\t# initialize the variable t\n",
        "\t# with '01' string\n",
        "\tt = '01'\n",
        "\n",
        "\t# initialize the variable count\n",
        "\t# with 0 value\n",
        "\tcount = 0\n",
        "\n",
        "\t# looping through each character\n",
        "\t# of the string .\n",
        "\tfor char in string :\n",
        "\n",
        "\t\t# check the character is present in\n",
        "\t\t# string t or not.\n",
        "\t\t# if this condition is true\n",
        "\t\t# assign 1 to the count variable\n",
        "\t\t# and break out of the for loop\n",
        "\t\t# otherwise pass\n",
        "\t\tif char not in t :\n",
        "\t\t\tcount = 1\n",
        "\t\t\tbreak\n",
        "\t\telse :\n",
        "\t\t\tpass\n",
        "\t\t\n",
        "\t# after coming out of the loop\n",
        "\t# check value of count is non-zero or not\n",
        "\t# if the value is non-zero the en condition is true\n",
        "\t# and string is not accepted\n",
        "\t# otherwise string is accepted\n",
        "\tif count :\n",
        "\t\tprint(\"No\")\n",
        "\telse :\n",
        "\t\tprint(\"Yes\")\n",
        "\n",
        "\n",
        "\n",
        "# driver code\n",
        "if __name__ == \"__main__\" :\n",
        "\n",
        "\tstring = \"001021010001010\"\n",
        "\n",
        "\t# function calling\n",
        "\tcheck2(string)\n"
      ],
      "execution_count": 1,
      "outputs": [
        {
          "output_type": "stream",
          "text": [
            "No\n"
          ],
          "name": "stdout"
        }
      ]
    },
    {
      "cell_type": "code",
      "metadata": {
        "colab": {
          "base_uri": "https://localhost:8080/"
        },
        "id": "7ebvC3DehMEg",
        "outputId": "e29b3946-cf8b-4fc4-d381-7419f7d72bf7"
      },
      "source": [
        "##Python program to find uncommon words from two Strings\n",
        "def uncommon(a,b):\n",
        "\tlist_a = a.split()\n",
        "\tlist_b = b.split()\n",
        "\tuc = ''\n",
        "\tfor i in list_a:\n",
        "\t\tif i not in list_b:\n",
        "\t\t\tuc = uc+\" \"+i\n",
        "\tfor j in list_b:\n",
        "\t\tif j not in list_a:\n",
        "\t\t\tuc = uc+\" \"+j\n",
        "\n",
        "\treturn uc\n",
        "\n",
        "# Driver code\n",
        "a = \"apple banana mango\"\n",
        "b = \"banana fruits mango\"\n",
        "print(uncommon(a,b))\n"
      ],
      "execution_count": 2,
      "outputs": [
        {
          "output_type": "stream",
          "text": [
            " apple fruits\n"
          ],
          "name": "stdout"
        }
      ]
    },
    {
      "cell_type": "code",
      "metadata": {
        "colab": {
          "base_uri": "https://localhost:8080/"
        },
        "id": "z6aAyWBEhYnB",
        "outputId": "37954a29-1cec-439a-8947-90362f0bac59"
      },
      "source": [
        "##Python – Replace duplicate Occurrence in String\n",
        "# Python3 code to demonstrate working of\n",
        "# Replace duplicate Occurrence in String\n",
        "# Using keys() + index() + list comprehension\n",
        "\n",
        "# initializing string\n",
        "test_str = 'Gfg is best . Gfg also has Classes now. Classes help understand better . '\n",
        "\n",
        "# printing original string\n",
        "print(\"The original string is : \" + str(test_str))\n",
        "\n",
        "# initializing replace mapping\n",
        "repl_dict = {'Gfg' : 'It', 'Classes' : 'They' }\n",
        "\n",
        "# Replace duplicate Occurrence in String\n",
        "# Using keys() + index() + list comprehension\n",
        "test_list = test_str.split(' ')\n",
        "res = ' '.join([repl_dict.get(val) if val in repl_dict.keys() and test_list.index(val) != idx\n",
        "\t\t\t\t\t\t\t\telse val for idx, val in enumerate(test_list)])\n",
        "\n",
        "# printing result\n",
        "print(\"The string after replacing : \" + str(res))\n"
      ],
      "execution_count": 3,
      "outputs": [
        {
          "output_type": "stream",
          "text": [
            "The original string is : Gfg is best . Gfg also has Classes now. Classes help understand better . \n",
            "The string after replacing : Gfg is best . It also has Classes now. They help understand better . \n"
          ],
          "name": "stdout"
        }
      ]
    },
    {
      "cell_type": "code",
      "metadata": {
        "id": "yuwmGVDIhhtV"
      },
      "source": [
        ""
      ],
      "execution_count": null,
      "outputs": []
    }
  ]
}