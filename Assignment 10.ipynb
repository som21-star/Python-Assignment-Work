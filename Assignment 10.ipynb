{
  "nbformat": 4,
  "nbformat_minor": 0,
  "metadata": {
    "colab": {
      "name": "Untitled30.ipynb",
      "provenance": []
    },
    "kernelspec": {
      "name": "python3",
      "display_name": "Python 3"
    },
    "language_info": {
      "name": "python"
    }
  },
  "cells": [
    {
      "cell_type": "code",
      "metadata": {
        "colab": {
          "base_uri": "https://localhost:8080/"
        },
        "id": "QVkmvLB5eb1e",
        "outputId": "b980e923-312a-4163-a202-d0ac3aba586c"
      },
      "source": [
        "##Python | Ways to remove a key from dictionary\n",
        "# Python code to demonstrate\n",
        "# removal of dict. pair\n",
        "# using items() + dict comprehension\n",
        "\n",
        "# Initializing dictionary\n",
        "test_dict = {\"Arushi\" : 22, \"Anuradha\" : 21, \"Mani\" : 21, \"Haritha\" : 21}\n",
        "\n",
        "# Printing dictionary before removal\n",
        "print (\"The dictionary before performing remove is : \" + str(test_dict))\n",
        "\n",
        "# Using items() + dict comprehension to remove a dict. pair\n",
        "# removes Mani\n",
        "new_dict = {key:val for key, val in test_dict.items() if key != 'Mani'}\n",
        "\n",
        "# Printing dictionary after removal\n",
        "print (\"The dictionary after remove is : \" + str(new_dict))\n"
      ],
      "execution_count": 1,
      "outputs": [
        {
          "output_type": "stream",
          "text": [
            "The dictionary before performing remove is : {'Arushi': 22, 'Anuradha': 21, 'Mani': 21, 'Haritha': 21}\n",
            "The dictionary after remove is : {'Arushi': 22, 'Anuradha': 21, 'Haritha': 21}\n"
          ],
          "name": "stdout"
        }
      ]
    },
    {
      "cell_type": "code",
      "metadata": {
        "colab": {
          "base_uri": "https://localhost:8080/"
        },
        "id": "zqxcX_TEeoOW",
        "outputId": "b19667cd-9922-44d0-c5df-63bc4972530a"
      },
      "source": [
        "##Ways to sort list of dictionaries by values in Python – Using itemgetter\n",
        "# Python code demonstrate the working of sorted()\n",
        "# and itemgetter\n",
        "\n",
        "# importing \"operator\" for implementing itemgetter\n",
        "from operator import itemgetter\n",
        "\n",
        "# Initializing list of dictionaries\n",
        "lis = [{ \"name\" : \"Nandini\", \"age\" : 20},\n",
        "{ \"name\" : \"Manjeet\", \"age\" : 20 },\n",
        "{ \"name\" : \"Nikhil\" , \"age\" : 19 }]\n",
        "\n",
        "# using sorted and itemgetter to print list sorted by age\n",
        "print (\"The list printed sorting by age: \")\n",
        "print (sorted(lis, key=itemgetter('age')))\n",
        "\n",
        "print (\"\\r\")\n",
        "\n",
        "# using sorted and itemgetter to print list sorted by both age and name\n",
        "# notice that \"Manjeet\" now comes before \"Nandini\"\n",
        "print (\"The list printed sorting by age and name: \")\n",
        "print (sorted(lis, key=itemgetter('age', 'name')))\n",
        "\n",
        "print (\"\\r\")\n",
        "\n",
        "# using sorted and itemgetter to print list sorted by age in descending order\n",
        "print (\"The list printed sorting by age in descending order: \")\n",
        "print (sorted(lis, key=itemgetter('age'),reverse = True))\n"
      ],
      "execution_count": 5,
      "outputs": [
        {
          "output_type": "stream",
          "text": [
            "The list printed sorting by age: \n",
            "[{'name': 'Nikhil', 'age': 19}, {'name': 'Nandini', 'age': 20}, {'name': 'Manjeet', 'age': 20}]\n",
            "\r\n",
            "The list printed sorting by age and name: \n",
            "[{'name': 'Nikhil', 'age': 19}, {'name': 'Manjeet', 'age': 20}, {'name': 'Nandini', 'age': 20}]\n",
            "\r\n",
            "The list printed sorting by age in descending order: \n",
            "[{'name': 'Nandini', 'age': 20}, {'name': 'Manjeet', 'age': 20}, {'name': 'Nikhil', 'age': 19}]\n"
          ],
          "name": "stdout"
        }
      ]
    },
    {
      "cell_type": "code",
      "metadata": {
        "colab": {
          "base_uri": "https://localhost:8080/",
          "height": 129
        },
        "id": "howKlJ2qeCYF",
        "outputId": "66388ff8-568f-4add-d1e5-8c12cdf7c36e"
      },
      "source": [
        "##Ways to sort list of dictionaries by values in Python – Using lambda function\n",
        "# Python code demonstrate the working of\n",
        "# sorted() with lambda\n",
        "\n",
        "# Initializing list of dictionaries\n",
        "lis = [{ \"name\" : \"Nandini\", \"age\" : 20},\n",
        "{ \"name\" : \"Manjeet\", \"age\" : 20 },\n",
        "{ \"name\" : \"Nikhil\" , \"age\" : 19 }]\n",
        "\n",
        "# using sorted and lambda to print list sorted\n",
        "# by age\n",
        "print \"The list printed sorting by age: \"\n",
        "print sorted(lis, key = lambda i: i['age'])\n",
        "\n",
        "print (\"\\r\")\n",
        "\n",
        "# using sorted and lambda to print list sorted\n",
        "# by both age and name. Notice that \"Manjeet\"\n",
        "# now comes before \"Nandini\"\n",
        "print \"The list printed sorting by age and name: \"\n",
        "print sorted(lis, key = lambda i: (i['age'], i['name']))\n",
        "\n",
        "print (\"\\r\")\n",
        "\n",
        "# using sorted and lambda to print list sorted\n",
        "# by age in descending order\n",
        "print \"The list printed sorting by age in descending order: \"\n",
        "print sorted(lis, key = lambda i: i['age'],reverse=True)\n"
      ],
      "execution_count": 6,
      "outputs": [
        {
          "output_type": "error",
          "ename": "SyntaxError",
          "evalue": "ignored",
          "traceback": [
            "\u001b[0;36m  File \u001b[0;32m\"<ipython-input-6-46ae694f2462>\"\u001b[0;36m, line \u001b[0;32m12\u001b[0m\n\u001b[0;31m    print \"The list printed sorting by age: \"\u001b[0m\n\u001b[0m                                            ^\u001b[0m\n\u001b[0;31mSyntaxError\u001b[0m\u001b[0;31m:\u001b[0m Missing parentheses in call to 'print'. Did you mean print(\"The list printed sorting by age: \")?\n"
          ]
        }
      ]
    },
    {
      "cell_type": "code",
      "metadata": {
        "id": "lvfhcs0XekDD"
      },
      "source": [
        ""
      ],
      "execution_count": null,
      "outputs": []
    }
  ]
}