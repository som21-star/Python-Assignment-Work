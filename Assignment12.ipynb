{
  "nbformat": 4,
  "nbformat_minor": 0,
  "metadata": {
    "colab": {
      "name": "Untitled32.ipynb",
      "provenance": []
    },
    "kernelspec": {
      "name": "python3",
      "display_name": "Python 3"
    },
    "language_info": {
      "name": "python"
    }
  },
  "cells": [
    {
      "cell_type": "code",
      "metadata": {
        "colab": {
          "base_uri": "https://localhost:8080/"
        },
        "id": "-WuiJ3FeiciN",
        "outputId": "267cf22c-29b2-4aba-ad92-71c68b7f870e"
      },
      "source": [
        "#Python | Convert a list of Tuples into Dictionary\n",
        "# Python code to convert into dictionary\n",
        "def Convert(tup, di):\n",
        "\tdi = dict(tup)\n",
        "\treturn di\n",
        "\t\n",
        "# Driver Code\n",
        "tups = [(\"akash\", 10), (\"gaurav\", 12), (\"anand\", 14),\n",
        "\t(\"suraj\", 20), (\"akhil\", 25), (\"ashish\", 30)]\n",
        "dictionary = {}\n",
        "print (Convert(tups, dictionary))\n"
      ],
      "execution_count": 1,
      "outputs": [
        {
          "output_type": "stream",
          "text": [
            "{'akash': 10, 'gaurav': 12, 'anand': 14, 'suraj': 20, 'akhil': 25, 'ashish': 30}\n"
          ],
          "name": "stdout"
        }
      ]
    },
    {
      "cell_type": "code",
      "metadata": {
        "colab": {
          "base_uri": "https://localhost:8080/"
        },
        "id": "1czotZ_Pi15O",
        "outputId": "e20871d2-f662-4ecf-d6e2-897c55350207"
      },
      "source": [
        "## Python code to find if we can make first string\n",
        "# from second by deleting some characters from\n",
        "# second and rearranging remaining characters.\n",
        "from collections import Counter\n",
        "\n",
        "def makeString(str1,str2):\n",
        "\n",
        "\t# convert both strings into dictionaries\n",
        "\t# output will be like str1=\"aabbcc\",\n",
        "\t# dict1={'a':2,'b':2,'c':2}\n",
        "\t# str2 = 'abbbcc', dict2={'a':1,'b':3,'c':2}\n",
        "\tdict1 = Counter(str1)\n",
        "\tdict2 = Counter(str2)\n",
        "\n",
        "\t# take intersection of two dictionries\n",
        "\t# output will be result = {'a':1,'b':2,'c':2}\n",
        "\tresult = dict1 & dict2\n",
        "\n",
        "\t# compare resultant dictionary with first\n",
        "\t# dictionary comparison first compares keys\n",
        "\t# and then compares their corresponding values\n",
        "\treturn result == dict1\n",
        "\n",
        "# Driver program\n",
        "if __name__ == \"__main__\":\n",
        "\tstr1 = 'ABHISHEKsinGH'\n",
        "\tstr2 = 'gfhfBHkooIHnfndSHEKsiAnG'\n",
        "\tif (makeString(str1,str2)==True):\n",
        "\t\tprint(\"Possible\")\n",
        "\telse:\n",
        "\t\tprint(\"Not Possible\")\n"
      ],
      "execution_count": 2,
      "outputs": [
        {
          "output_type": "stream",
          "text": [
            "Possible\n"
          ],
          "name": "stdout"
        }
      ]
    },
    {
      "cell_type": "code",
      "metadata": {
        "colab": {
          "base_uri": "https://localhost:8080/"
        },
        "id": "bDGL91QUjUzK",
        "outputId": "5d3ff63d-c5f6-4eb9-c2c0-6f3356d34506"
      },
      "source": [
        "##Python dictionary, set and counter to check if frequencies can become same\n",
        "from collections import Counter\n",
        "def check_all_same(my_input):\n",
        "   my_dict = Counter(my_input)\n",
        "   input_2 = list(set(my_dict.values()))\n",
        "   if len(input_2)>2:\n",
        "      print('The frequencies are not same')\n",
        "   elif len (input_2)==2 and input_2[1]-input_2[0]>1:\n",
        "      print('The frequencies are not same')\n",
        "   else:\n",
        "      print('The frequencies are same')\n",
        "\n",
        "my_str = 'xxxyyyzzzzzz'\n",
        "print(\"The string is :\")\n",
        "print(my_str)\n",
        "check_all_same(my_str)"
      ],
      "execution_count": 3,
      "outputs": [
        {
          "output_type": "stream",
          "text": [
            "The string is :\n",
            "xxxyyyzzzzzz\n",
            "The frequencies are not same\n"
          ],
          "name": "stdout"
        }
      ]
    },
    {
      "cell_type": "code",
      "metadata": {
        "id": "XDWKQsGFjnxq"
      },
      "source": [
        "##Scraping And Finding Ordered Words In A Dictionary using Python\n",
        "# Python program to find ordered words\n",
        "import requests\n",
        "\n",
        "# Scrapes the words from the URL below and stores\n",
        "# them in a list\n",
        "def getWords():\n",
        "\n",
        "\t# contains about 2500 words\n",
        "\turl = \"http://www.puzzlers.org/pub/wordlists/unixdict.txt\"\n",
        "\tfetchData = requests.get(url)\n",
        "\n",
        "\t# extracts the content of the webpage\n",
        "\twordList = fetchData.content\n",
        "\n",
        "\t# decodes the UTF-8 encoded text and splits the\n",
        "\t# string to turn it into a list of words\n",
        "\twordList = wordList.decode(\"utf-8\").split()\n",
        "\n",
        "\treturn wordList\n",
        "\n",
        "\n",
        "# function to determine whether a word is ordered or not\n",
        "def isOrdered():\n",
        "\n",
        "\t# fetching the wordList\n",
        "\tcollection = getWords()\n",
        "\n",
        "\t# since the first few of the elements of the\n",
        "\t# dictionary are numbers, getting rid of those\n",
        "\t# numbers by slicing off the first 17 elements\n",
        "\tcollection = collection[16:]\n",
        "\tword = ''\n",
        "\n",
        "\tfor word in collection:\n",
        "\t\tresult = 'Word is ordered'\n",
        "\t\ti = 0\n",
        "\t\tl = len(word) - 1\n",
        "\n",
        "\t\tif (len(word) < 3): # skips the 1 and 2 lettered strings\n",
        "\t\t\tcontinue\n",
        "\n",
        "\t\t# traverses through all characters of the word in pairs\n",
        "\t\twhile i < l:\t\t\n",
        "\t\t\tif (ord(word[i]) > ord(word[i+1])):\n",
        "\t\t\t\tresult = 'Word is not ordered'\n",
        "\t\t\t\tbreak\n",
        "\t\t\telse:\n",
        "\t\t\t\ti += 1\n",
        "\n",
        "\t\t# only printing the ordered words\n",
        "\t\tif (result == 'Word is ordered'):\n",
        "\t\t\tprint(word,': ',result)\n",
        "\n",
        "\n",
        "# execute isOrdered() function\n",
        "if __name__ == '__main__':\n",
        "\tisOrdered()\n"
      ],
      "execution_count": 4,
      "outputs": []
    },
    {
      "cell_type": "code",
      "metadata": {
        "colab": {
          "base_uri": "https://localhost:8080/"
        },
        "id": "YDMkn-Vfj1Dj",
        "outputId": "39818051-97e8-4219-cc52-3be1853ea458"
      },
      "source": [
        "##Possible Words using given characters in Python\n",
        "# Function to print words which can be created\n",
        "# using given set of characters\n",
        "\n",
        "\n",
        "\n",
        "def charCount(word):\n",
        "\tdict = {}\n",
        "\tfor i in word:\n",
        "\t\tdict[i] = dict.get(i, 0) + 1\n",
        "\treturn dict\n",
        "\n",
        "\n",
        "def possible_words(lwords, charSet):\n",
        "\tfor word in lwords:\n",
        "\t\tflag = 1\n",
        "\t\tchars = charCount(word)\n",
        "\t\tfor key in chars:\n",
        "\t\t\tif key not in charSet:\n",
        "\t\t\t\tflag = 0\n",
        "\t\t\telse:\n",
        "\t\t\t\tif charSet.count(key) != chars[key]:\n",
        "\t\t\t\t\tflag = 0\n",
        "\t\tif flag == 1:\n",
        "\t\t\tprint(word)\n",
        "\n",
        "if __name__ == \"__main__\":\n",
        "\tinput = ['goo', 'bat', 'me', 'eat', 'goal', 'boy', 'run']\n",
        "\tcharSet = ['e', 'o', 'b', 'a', 'm', 'g', 'l']\n",
        "\tpossible_words(input, charSet)\n"
      ],
      "execution_count": 6,
      "outputs": [
        {
          "output_type": "stream",
          "text": [
            "me\n",
            "goal\n"
          ],
          "name": "stdout"
        }
      ]
    },
    {
      "cell_type": "code",
      "metadata": {
        "colab": {
          "base_uri": "https://localhost:8080/"
        },
        "id": "yioVz-94kL0F",
        "outputId": "9b3f701c-84a5-4462-e33c-baebf477503e"
      },
      "source": [
        "##Python – Keys associated with Values in Dictionary\n",
        "# creating a new dictionary\n",
        "my_dict ={\"java\":100, \"python\":112, \"c\":11}\n",
        "\n",
        "# list out keys and values separately\n",
        "key_list = list(my_dict.keys())\n",
        "val_list = list(my_dict.values())\n",
        "\n",
        "# print key with val 100\n",
        "position = val_list.index(100)\n",
        "print(key_list[position])\n",
        "\n",
        "# print key with val 112\n",
        "position = val_list.index(112)\n",
        "print(key_list[position])\n",
        "\n",
        "# one-liner\n",
        "print(list(my_dict.keys())[list(my_dict.values()).index(112)])\n"
      ],
      "execution_count": 7,
      "outputs": [
        {
          "output_type": "stream",
          "text": [
            "java\n",
            "python\n",
            "python\n"
          ],
          "name": "stdout"
        }
      ]
    },
    {
      "cell_type": "code",
      "metadata": {
        "colab": {
          "base_uri": "https://localhost:8080/"
        },
        "id": "sxh3pbA_kZ75",
        "outputId": "251e147d-4b51-4562-e7e7-5c0656302be7"
      },
      "source": [
        "#Python program to Find the size of a Tuple\n",
        "# sample Tuples\n",
        "Tuple1 = (\"A\", 1, \"B\", 2, \"C\", 3)\n",
        "Tuple2 = (\"Geek1\", \"Raju\", \"Geek2\", \"Nikhil\", \"Geek3\", \"Deepanshu\")\n",
        "Tuple3 = ((1, \"Lion\"), ( 2, \"Tiger\"), (3, \"Fox\"), (4, \"Wolf\"))\n",
        "\n",
        "# print the sizes of sample Tuples\n",
        "print(\"Size of Tuple1: \" + str(Tuple1.__sizeof__()) + \"bytes\")\n",
        "print(\"Size of Tuple2: \" + str(Tuple2.__sizeof__()) + \"bytes\")\n",
        "print(\"Size of Tuple3: \" + str(Tuple3.__sizeof__()) + \"bytes\")\n"
      ],
      "execution_count": 8,
      "outputs": [
        {
          "output_type": "stream",
          "text": [
            "Size of Tuple1: 72bytes\n",
            "Size of Tuple2: 72bytes\n",
            "Size of Tuple3: 56bytes\n"
          ],
          "name": "stdout"
        }
      ]
    },
    {
      "cell_type": "code",
      "metadata": {
        "colab": {
          "base_uri": "https://localhost:8080/"
        },
        "id": "35XJNpKskvRd",
        "outputId": "189a7aa1-5769-476f-c9e4-406e1c6598fa"
      },
      "source": [
        "# Python3 code to demonstrate working of\n",
        "# Maximum and Minimum K elements in Tuple\n",
        "# Using slicing + sorted()\n",
        "\n",
        "# initializing tuple\n",
        "test_tup = (5, 20, 3, 7, 6, 8)\n",
        "\n",
        "# printing original tuple\n",
        "print(\"The original tuple is : \" + str(test_tup))\n",
        "\n",
        "# initializing K\n",
        "K = 2\n",
        "\n",
        "# Maximum and Minimum K elements in Tuple\n",
        "# Using slicing + sorted()\n",
        "test_tup = list(test_tup)\n",
        "temp = sorted(test_tup)\n",
        "res = tuple(temp[:K] + temp[-K:])\n",
        "\n",
        "# printing result\n",
        "print(\"The extracted values : \" + str(res))\n"
      ],
      "execution_count": 9,
      "outputs": [
        {
          "output_type": "stream",
          "text": [
            "The original tuple is : (5, 20, 3, 7, 6, 8)\n",
            "The extracted values : (3, 5, 8, 20)\n"
          ],
          "name": "stdout"
        }
      ]
    },
    {
      "cell_type": "code",
      "metadata": {
        "colab": {
          "base_uri": "https://localhost:8080/"
        },
        "id": "lhM2zzOjk4iN",
        "outputId": "ce86ca42-baa1-402f-a7f6-9fc0bc3b6ad6"
      },
      "source": [
        "##Create a list of tuples from given list having number and its cube in each tuple\n",
        "# Python program to create a list of tuples\n",
        "# from given list having number and\n",
        "# its cube in each tuple\n",
        "\n",
        "# creating a list\n",
        "list1 = [1, 2, 5, 6]\n",
        "\n",
        "# using list comprehension to iterate each\n",
        "# values in list and create a tuple as specified\n",
        "res = [(val, pow(val, 3)) for val in list1]\n",
        "\n",
        "# print the result\n",
        "print(res)\n"
      ],
      "execution_count": 10,
      "outputs": [
        {
          "output_type": "stream",
          "text": [
            "[(1, 1), (2, 8), (5, 125), (6, 216)]\n"
          ],
          "name": "stdout"
        }
      ]
    },
    {
      "cell_type": "code",
      "metadata": {
        "colab": {
          "base_uri": "https://localhost:8080/"
        },
        "id": "5-8wMArWlBKy",
        "outputId": "e2c9d262-a877-4d06-d853-b0ef4a32f731"
      },
      "source": [
        "# Python3 code to demonstrate working of\n",
        "# Adding Tuple to List and vice - versa\n",
        "# Using tuple(), data type conversion [tuple + list]\n",
        "\n",
        "# initializing list\n",
        "test_list = [5, 6, 7]\n",
        "\n",
        "# printing original list\n",
        "print(\"The original list is : \" + str(test_list))\n",
        "\n",
        "# initializing tuple\n",
        "test_tup = (9, 10)\n",
        "\n",
        "# Adding Tuple to List and vice - versa\n",
        "# Using tuple(), data type conversion [tuple + list]\n",
        "res = tuple(list(test_tup) + test_list)\n",
        "\n",
        "# printing result\n",
        "print(\"The container after addition : \" + str(res))\n"
      ],
      "execution_count": 11,
      "outputs": [
        {
          "output_type": "stream",
          "text": [
            "The original list is : [5, 6, 7]\n",
            "The container after addition : (9, 10, 5, 6, 7)\n"
          ],
          "name": "stdout"
        }
      ]
    },
    {
      "cell_type": "code",
      "metadata": {
        "colab": {
          "base_uri": "https://localhost:8080/"
        },
        "id": "d1HCgfD3lG8o",
        "outputId": "9bf0ace8-118a-439d-9d2b-b93dabc476ef"
      },
      "source": [
        "##Python – Closest Pair to Kth index element in Tuple\n",
        "# Python3 code to demonstrate working of\n",
        "# Closest Pair to Kth index element in Tuple\n",
        "# Using min() + lambda\n",
        "\n",
        "# initializing list\n",
        "test_list = [(3, 4), (78, 76), (2, 3), (9, 8), (19, 23)]\n",
        "\n",
        "# printing original list\n",
        "print(\"The original list is : \" + str(test_list))\n",
        "\n",
        "# initializing tuple\n",
        "tup = (17, 23)\n",
        "\n",
        "# initializing K\n",
        "K = 1\n",
        "\n",
        "# Closest Pair to Kth index element in Tuple\n",
        "# Using min() + lambda\n",
        "res = min(range(len(test_list)), key = lambda sub: abs(test_list[sub][K - 1] - tup[K - 1]))\n",
        "\n",
        "# printing result\n",
        "print(\"The nearest tuple to Kth index element is : \" + str(test_list[res]))\n"
      ],
      "execution_count": 12,
      "outputs": [
        {
          "output_type": "stream",
          "text": [
            "The original list is : [(3, 4), (78, 76), (2, 3), (9, 8), (19, 23)]\n",
            "The nearest tuple to Kth index element is : (19, 23)\n"
          ],
          "name": "stdout"
        }
      ]
    },
    {
      "cell_type": "code",
      "metadata": {
        "id": "IhE8WHCzlSgA"
      },
      "source": [
        ""
      ],
      "execution_count": null,
      "outputs": []
    }
  ]
}