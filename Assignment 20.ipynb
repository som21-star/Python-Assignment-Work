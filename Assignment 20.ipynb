{
  "nbformat": 4,
  "nbformat_minor": 0,
  "metadata": {
    "colab": {
      "name": "Untitled43.ipynb",
      "provenance": []
    },
    "kernelspec": {
      "name": "python3",
      "display_name": "Python 3"
    },
    "language_info": {
      "name": "python"
    }
  },
  "cells": [
    {
      "cell_type": "code",
      "metadata": {
        "colab": {
          "base_uri": "https://localhost:8080/",
          "height": 221
        },
        "id": "ExcodS_znHN0",
        "outputId": "9a672926-480b-41df-a836-4767e32f6ba9"
      },
      "source": [
        "# READ FILE\n",
        "df = open(\"/content/info.txt\")\n",
        "\n",
        "# read file\n",
        "read = df.read()\n",
        "\n",
        "# return cursor to\n",
        "# the beginning\n",
        "# of the file.\n",
        "df.seek(0)\n",
        "read\n"
      ],
      "execution_count": 2,
      "outputs": [
        {
          "output_type": "execute_result",
          "data": {
            "application/vnd.google.colaboratory.intrinsic+json": {
              "type": "string"
            },
            "text/plain": [
              "'https://data.world/datasets/green\\n\\nhttps://data.world/city-of-ny/sxx4-xhzg\\n\\n@education:\\nhttps://datacatalog.worldbank.org/dataset/world-development-indicators\\n\\nhttps://knoema.com/kkowkdd/child-labor-and-related-economic-demographic-and-educational-trends\\n\\nhttps://knoema.com/WBEDS2017Jun/education-statistics**\\ndashboard-wise\\n\\nhttps://knoema.com/atlas/topics/Education\\n\\nhttps://knoema.com/atlas/topics/Education/datasets\\nhttps://knoema.com/kjzfyx/nobel-prizes-history-1901-2020\\n\\n@energy:\\nhttps://knoema.com/atlas/topics/Energy/Renewables/Biofuels-production\\nhttps://knoema.com/EIAINTL2018May/international-energy-data-monthly-update\\nhttps://www.eia.gov/international/data/world**\\n\\nhttps://knoema.com/statfin_salatuo_pxt_12b8/production-of-industrial-heat-in-finland-2000-2018\\nhttps://pxnet2.stat.fi/PXWeb/pxweb/en/StatFin/StatFin__ene__salatuo/statfin_salatuo_pxt_12b8.px\\n\\nhttps://knoema.com/WBIPSR2015/india-power-sector-review\\nhttps://knoema.com/nrg_125m/imports-electricity-monthly-data\\nhttps://knoema.com/BEAJJJFJJA/household-energy-consumption-canada-and-provinces\\nhttps://knoema.com/SAHUUSE2019/housing-units-use-solar-energy-in-saudi-arabia\\nhttps://knoema.com/statfin_salatuo_pxt_12b8/production-of-industrial-heat-in-finland-2000-2018\\n\\nCountry-wise data across energy indicators:\\nhttps://www.eia.gov/international/data/world\\n\\n@agriculture\\nhttps://knoema.com/atlas/topics/Agriculture\\nhttp://www.fao.org/faostat/en/#data/FBS**\\n\\n\\n@blue economy\\nhttps://data.europa.eu/en***\\nhttps://www.oecd.org/ocean/data/\\nhttps://www.oceaneconomics.org/\\nhttps://stats.oecd.org/Index.aspx?DataSetCode=GREEN_GROWTH\\nhttps://www.oecd.org/greengrowth/publicationsdocuments/datasets/\\nbuild better than these nasty report\\nhttps://www.oecd.org/dac/environment-development/rioconventions.htm\\n\\n\\n\\n\\n\\n\\n'"
            ]
          },
          "metadata": {
            "tags": []
          },
          "execution_count": 2
        }
      ]
    },
    {
      "cell_type": "code",
      "metadata": {
        "colab": {
          "base_uri": "https://localhost:8080/"
        },
        "id": "TcAPkIdsnMJ-",
        "outputId": "6f37d710-82c4-417e-d2da-c6c3335bb0a7"
      },
      "source": [
        "# Python program to count the\n",
        "# number of lines in a text file\n",
        "\n",
        "\n",
        "# Opening a file\n",
        "file = open(\"/content/info.txt\",\"r\")\n",
        "Counter = 0\n",
        "\n",
        "# Reading from file\n",
        "Content = file.read()\n",
        "CoList = Content.split(\"\\n\")\n",
        "\n",
        "for i in CoList:\n",
        "\tif i:\n",
        "\t\tCounter += 1\n",
        "\t\t\n",
        "print(\"This is the number of lines in the file\")\n",
        "print(Counter)\n"
      ],
      "execution_count": 4,
      "outputs": [
        {
          "output_type": "stream",
          "text": [
            "This is the number of lines in the file\n",
            "34\n"
          ],
          "name": "stdout"
        }
      ]
    },
    {
      "cell_type": "code",
      "metadata": {
        "id": "XT0koBlwn5YO"
      },
      "source": [
        "# defining object file1 to\n",
        "# open GeeksforGeeks file in\n",
        "# read mode\n",
        "file1 = open('/content/info.txt',\n",
        "\t\t\t'r')\n",
        "\n",
        "# defining object file2 to\n",
        "# open GeeksforGeeksUpdated file\n",
        "# in write mode\n",
        "file2 = open('/content/info.txt',\n",
        "\t\t\t'w')\n",
        "\n",
        "# reading each line from original\n",
        "# text file\n",
        "for line in file1.readlines():\n",
        "\t\n",
        "\t# reading all lines that do not\n",
        "\t# begin with \"TextGenerator\"\n",
        "\tif not (line.startswith('TextGenerator')):\n",
        "\t\t\n",
        "\t\t# printing those lines\n",
        "\t\tprint(line)\n",
        "\t\t\n",
        "\t\t# storing only those lines that\n",
        "\t\t# do not begin with \"TextGenerator\"\n",
        "\t\tfile2.write(line)\n",
        "\n",
        "# close and save the files\n",
        "file2.close()\n",
        "file1.close()\n"
      ],
      "execution_count": 5,
      "outputs": []
    },
    {
      "cell_type": "code",
      "metadata": {
        "id": "5YHOR5t9oKcM"
      },
      "source": [
        "# creating the output file\n",
        "outputFile = open('/content/info.txt', \"w\")\n",
        "\n",
        "# reading the input file\n",
        "inputFile = open('/content/info.txt', \"r\")\n",
        "\n",
        "# holds lines already seen\n",
        "lines_seen_so_far = set()\n",
        "\n",
        "# iterating each line in the file\n",
        "for line in inputFile:\n",
        "\n",
        "\t# checking if line is unique\n",
        "\tif line not in lines_seen_so_far:\n",
        "\n",
        "\t\t# write unique lines in output file\n",
        "\t\toutputFile.write(line)\n",
        "\n",
        "\t\t# adds unique lines to lines_seen_so_far\n",
        "\t\tlines_seen_so_far.add(line)\t\t\n",
        "\n",
        "# closing the file\n",
        "inputFile.close()\n",
        "outputFile.close()\n"
      ],
      "execution_count": 7,
      "outputs": []
    },
    {
      "cell_type": "code",
      "metadata": {
        "colab": {
          "base_uri": "https://localhost:8080/"
        },
        "id": "T7XEfUEQogSU",
        "outputId": "05c13d2c-4b95-4044-e8ee-45540d4efd3c"
      },
      "source": [
        "#Python Program to read List of Dictionaries from File\n",
        "def parse(d):\n",
        "\tdictionary = dict()\n",
        "\t# Removes curly braces and splits the pairs into a list\n",
        "\tpairs = d.strip('{}').split(', ')\n",
        "\tfor i in pairs:\n",
        "\t\tpair = i.split(': ')\n",
        "\t\t# Other symbols from the key-value pair should be stripped.\n",
        "\t\tdictionary[pair[0].strip('\\'\\'\\\"\\\"')] = pair[1].strip('\\'\\'\\\"\\\"')\n",
        "\treturn dictionary\n",
        "try:\n",
        "\tgeeky_file = open('geeky_file.txt', 'rt')\n",
        "\tlines = geeky_file.read().split('\\n')\n",
        "\tfor l in lines:\n",
        "\t\tif l != '':\n",
        "\t\t\tdictionary = parse(l)\n",
        "\t\t\tprint(dictionary)\n",
        "\tgeeky_file.close()\n",
        "except:\n",
        "\tprint(\"Something unexpected occurred!\")\n"
      ],
      "execution_count": 8,
      "outputs": [
        {
          "output_type": "stream",
          "text": [
            "Something unexpected occurred!\n"
          ],
          "name": "stdout"
        }
      ]
    },
    {
      "cell_type": "code",
      "metadata": {
        "colab": {
          "base_uri": "https://localhost:8080/",
          "height": 555
        },
        "id": "q5lR-nsBo01M",
        "outputId": "6102f2ce-5fee-4778-c682-4a2901b2d240"
      },
      "source": [
        "#Python – Append content of one text file to another\n",
        "# entering the file names\n",
        "firstfile = input(\"Enter the name of first file \")\n",
        "secondfile = input(\"Enter the name of second file \")\n",
        "\n",
        "# opening both files in read only mode to read initial contents\n",
        "f1 = open(firstfile, 'r')\n",
        "f2 = open(secondfile, 'r')\n",
        "\n",
        "# printing the contens of the file before appending\n",
        "print('content of first file before appending -', f1.read())\n",
        "print('content of second file before appending -', f2.read())\n",
        "\n",
        "# closing the files\n",
        "f1.close()\n",
        "f2.close()\n",
        "\n",
        "# opening first file in append mode and second file in read mode\n",
        "f1 = open(firstfile, 'a+')\n",
        "f2 = open(secondfile, 'r')\n",
        "\n",
        "# appending the contents of the second file to the first file\n",
        "f1.write(f2.read())\n",
        "\n",
        "# relocating the cursor of the files at the beginning\n",
        "f1.seek(0)\n",
        "f2.seek(0)\n",
        "\n",
        "# printing the contents of the files after appendng\n",
        "print('content of first file after appending -', f1.read())\n",
        "print('content of second file after appending -', f2.read())\n",
        "\n",
        "# closing the files\n",
        "f1.close()\n",
        "f2.close()\n"
      ],
      "execution_count": 9,
      "outputs": [
        {
          "output_type": "error",
          "ename": "KeyboardInterrupt",
          "evalue": "ignored",
          "traceback": [
            "\u001b[0;31m---------------------------------------------------------------------------\u001b[0m",
            "\u001b[0;31mKeyboardInterrupt\u001b[0m                         Traceback (most recent call last)",
            "\u001b[0;32m/usr/local/lib/python3.7/dist-packages/ipykernel/kernelbase.py\u001b[0m in \u001b[0;36m_input_request\u001b[0;34m(self, prompt, ident, parent, password)\u001b[0m\n\u001b[1;32m    728\u001b[0m             \u001b[0;32mtry\u001b[0m\u001b[0;34m:\u001b[0m\u001b[0;34m\u001b[0m\u001b[0;34m\u001b[0m\u001b[0m\n\u001b[0;32m--> 729\u001b[0;31m                 \u001b[0mident\u001b[0m\u001b[0;34m,\u001b[0m \u001b[0mreply\u001b[0m \u001b[0;34m=\u001b[0m \u001b[0mself\u001b[0m\u001b[0;34m.\u001b[0m\u001b[0msession\u001b[0m\u001b[0;34m.\u001b[0m\u001b[0mrecv\u001b[0m\u001b[0;34m(\u001b[0m\u001b[0mself\u001b[0m\u001b[0;34m.\u001b[0m\u001b[0mstdin_socket\u001b[0m\u001b[0;34m,\u001b[0m \u001b[0;36m0\u001b[0m\u001b[0;34m)\u001b[0m\u001b[0;34m\u001b[0m\u001b[0;34m\u001b[0m\u001b[0m\n\u001b[0m\u001b[1;32m    730\u001b[0m             \u001b[0;32mexcept\u001b[0m \u001b[0mException\u001b[0m\u001b[0;34m:\u001b[0m\u001b[0;34m\u001b[0m\u001b[0;34m\u001b[0m\u001b[0m\n",
            "\u001b[0;32m/usr/local/lib/python3.7/dist-packages/jupyter_client/session.py\u001b[0m in \u001b[0;36mrecv\u001b[0;34m(self, socket, mode, content, copy)\u001b[0m\n\u001b[1;32m    802\u001b[0m         \u001b[0;32mtry\u001b[0m\u001b[0;34m:\u001b[0m\u001b[0;34m\u001b[0m\u001b[0;34m\u001b[0m\u001b[0m\n\u001b[0;32m--> 803\u001b[0;31m             \u001b[0mmsg_list\u001b[0m \u001b[0;34m=\u001b[0m \u001b[0msocket\u001b[0m\u001b[0;34m.\u001b[0m\u001b[0mrecv_multipart\u001b[0m\u001b[0;34m(\u001b[0m\u001b[0mmode\u001b[0m\u001b[0;34m,\u001b[0m \u001b[0mcopy\u001b[0m\u001b[0;34m=\u001b[0m\u001b[0mcopy\u001b[0m\u001b[0;34m)\u001b[0m\u001b[0;34m\u001b[0m\u001b[0;34m\u001b[0m\u001b[0m\n\u001b[0m\u001b[1;32m    804\u001b[0m         \u001b[0;32mexcept\u001b[0m \u001b[0mzmq\u001b[0m\u001b[0;34m.\u001b[0m\u001b[0mZMQError\u001b[0m \u001b[0;32mas\u001b[0m \u001b[0me\u001b[0m\u001b[0;34m:\u001b[0m\u001b[0;34m\u001b[0m\u001b[0;34m\u001b[0m\u001b[0m\n",
            "\u001b[0;32m/usr/local/lib/python3.7/dist-packages/zmq/sugar/socket.py\u001b[0m in \u001b[0;36mrecv_multipart\u001b[0;34m(self, flags, copy, track)\u001b[0m\n\u001b[1;32m    582\u001b[0m         \"\"\"\n\u001b[0;32m--> 583\u001b[0;31m         \u001b[0mparts\u001b[0m \u001b[0;34m=\u001b[0m \u001b[0;34m[\u001b[0m\u001b[0mself\u001b[0m\u001b[0;34m.\u001b[0m\u001b[0mrecv\u001b[0m\u001b[0;34m(\u001b[0m\u001b[0mflags\u001b[0m\u001b[0;34m,\u001b[0m \u001b[0mcopy\u001b[0m\u001b[0;34m=\u001b[0m\u001b[0mcopy\u001b[0m\u001b[0;34m,\u001b[0m \u001b[0mtrack\u001b[0m\u001b[0;34m=\u001b[0m\u001b[0mtrack\u001b[0m\u001b[0;34m)\u001b[0m\u001b[0;34m]\u001b[0m\u001b[0;34m\u001b[0m\u001b[0;34m\u001b[0m\u001b[0m\n\u001b[0m\u001b[1;32m    584\u001b[0m         \u001b[0;31m# have first part already, only loop while more to receive\u001b[0m\u001b[0;34m\u001b[0m\u001b[0;34m\u001b[0m\u001b[0;34m\u001b[0m\u001b[0m\n",
            "\u001b[0;32mzmq/backend/cython/socket.pyx\u001b[0m in \u001b[0;36mzmq.backend.cython.socket.Socket.recv\u001b[0;34m()\u001b[0m\n",
            "\u001b[0;32mzmq/backend/cython/socket.pyx\u001b[0m in \u001b[0;36mzmq.backend.cython.socket.Socket.recv\u001b[0;34m()\u001b[0m\n",
            "\u001b[0;32mzmq/backend/cython/socket.pyx\u001b[0m in \u001b[0;36mzmq.backend.cython.socket._recv_copy\u001b[0;34m()\u001b[0m\n",
            "\u001b[0;32m/usr/local/lib/python3.7/dist-packages/zmq/backend/cython/checkrc.pxd\u001b[0m in \u001b[0;36mzmq.backend.cython.checkrc._check_rc\u001b[0;34m()\u001b[0m\n",
            "\u001b[0;31mKeyboardInterrupt\u001b[0m: ",
            "\nDuring handling of the above exception, another exception occurred:\n",
            "\u001b[0;31mKeyboardInterrupt\u001b[0m                         Traceback (most recent call last)",
            "\u001b[0;32m<ipython-input-9-e8b149b823e4>\u001b[0m in \u001b[0;36m<module>\u001b[0;34m()\u001b[0m\n\u001b[1;32m      1\u001b[0m \u001b[0;31m#Python – Append content of one text file to another\u001b[0m\u001b[0;34m\u001b[0m\u001b[0;34m\u001b[0m\u001b[0;34m\u001b[0m\u001b[0m\n\u001b[1;32m      2\u001b[0m \u001b[0;31m# entering the file names\u001b[0m\u001b[0;34m\u001b[0m\u001b[0;34m\u001b[0m\u001b[0;34m\u001b[0m\u001b[0m\n\u001b[0;32m----> 3\u001b[0;31m \u001b[0mfirstfile\u001b[0m \u001b[0;34m=\u001b[0m \u001b[0minput\u001b[0m\u001b[0;34m(\u001b[0m\u001b[0;34m\"Enter the name of first file \"\u001b[0m\u001b[0;34m)\u001b[0m\u001b[0;34m\u001b[0m\u001b[0;34m\u001b[0m\u001b[0m\n\u001b[0m\u001b[1;32m      4\u001b[0m \u001b[0msecondfile\u001b[0m \u001b[0;34m=\u001b[0m \u001b[0minput\u001b[0m\u001b[0;34m(\u001b[0m\u001b[0;34m\"Enter the name of second file \"\u001b[0m\u001b[0;34m)\u001b[0m\u001b[0;34m\u001b[0m\u001b[0;34m\u001b[0m\u001b[0m\n\u001b[1;32m      5\u001b[0m \u001b[0;34m\u001b[0m\u001b[0m\n",
            "\u001b[0;32m/usr/local/lib/python3.7/dist-packages/ipykernel/kernelbase.py\u001b[0m in \u001b[0;36mraw_input\u001b[0;34m(self, prompt)\u001b[0m\n\u001b[1;32m    702\u001b[0m             \u001b[0mself\u001b[0m\u001b[0;34m.\u001b[0m\u001b[0m_parent_ident\u001b[0m\u001b[0;34m,\u001b[0m\u001b[0;34m\u001b[0m\u001b[0;34m\u001b[0m\u001b[0m\n\u001b[1;32m    703\u001b[0m             \u001b[0mself\u001b[0m\u001b[0;34m.\u001b[0m\u001b[0m_parent_header\u001b[0m\u001b[0;34m,\u001b[0m\u001b[0;34m\u001b[0m\u001b[0;34m\u001b[0m\u001b[0m\n\u001b[0;32m--> 704\u001b[0;31m             \u001b[0mpassword\u001b[0m\u001b[0;34m=\u001b[0m\u001b[0;32mFalse\u001b[0m\u001b[0;34m,\u001b[0m\u001b[0;34m\u001b[0m\u001b[0;34m\u001b[0m\u001b[0m\n\u001b[0m\u001b[1;32m    705\u001b[0m         )\n\u001b[1;32m    706\u001b[0m \u001b[0;34m\u001b[0m\u001b[0m\n",
            "\u001b[0;32m/usr/local/lib/python3.7/dist-packages/ipykernel/kernelbase.py\u001b[0m in \u001b[0;36m_input_request\u001b[0;34m(self, prompt, ident, parent, password)\u001b[0m\n\u001b[1;32m    732\u001b[0m             \u001b[0;32mexcept\u001b[0m \u001b[0mKeyboardInterrupt\u001b[0m\u001b[0;34m:\u001b[0m\u001b[0;34m\u001b[0m\u001b[0;34m\u001b[0m\u001b[0m\n\u001b[1;32m    733\u001b[0m                 \u001b[0;31m# re-raise KeyboardInterrupt, to truncate traceback\u001b[0m\u001b[0;34m\u001b[0m\u001b[0;34m\u001b[0m\u001b[0;34m\u001b[0m\u001b[0m\n\u001b[0;32m--> 734\u001b[0;31m                 \u001b[0;32mraise\u001b[0m \u001b[0mKeyboardInterrupt\u001b[0m\u001b[0;34m\u001b[0m\u001b[0;34m\u001b[0m\u001b[0m\n\u001b[0m\u001b[1;32m    735\u001b[0m             \u001b[0;32melse\u001b[0m\u001b[0;34m:\u001b[0m\u001b[0;34m\u001b[0m\u001b[0;34m\u001b[0m\u001b[0m\n\u001b[1;32m    736\u001b[0m                 \u001b[0;32mbreak\u001b[0m\u001b[0;34m\u001b[0m\u001b[0;34m\u001b[0m\u001b[0m\n",
            "\u001b[0;31mKeyboardInterrupt\u001b[0m: "
          ]
        }
      ]
    },
    {
      "cell_type": "code",
      "metadata": {
        "colab": {
          "base_uri": "https://localhost:8080/"
        },
        "id": "836U8zzKo_kI",
        "outputId": "a61c5837-356a-449a-a273-4aa9e4e5d04c"
      },
      "source": [
        "# open file in read mode\n",
        "fn = open('/content/info.txt', 'r')\n",
        "\n",
        "# open other file in write mode\n",
        "fn1 = open('/content/info.txt', 'w')\n",
        "\n",
        "# read the content of the file line by line\n",
        "cont = fn.readlines()\n",
        "type(cont)\n",
        "for i in range(0, len(cont)):\n",
        "\t if(i % 2 != 0):\n",
        "\t\t fn1.write(cont[i])\n",
        "\t else:\n",
        "\t\t pass\n",
        "\n",
        "# close the file\n",
        "fn1.close()\n",
        "\n",
        "# open file in read mode\n",
        "fn1 = open('/content/info.txt', 'r')\n",
        "\n",
        "# read the content of the file\n",
        "cont1 = fn1.read()\n",
        "\n",
        "# print the content of the file\n",
        "print(cont1)\n",
        "\n",
        "# close all files\n",
        "fn.close()\n",
        "fn1.close()\n"
      ],
      "execution_count": 15,
      "outputs": [
        {
          "output_type": "stream",
          "text": [
            "\n"
          ],
          "name": "stdout"
        }
      ]
    },
    {
      "cell_type": "code",
      "metadata": {
        "colab": {
          "base_uri": "https://localhost:8080/"
        },
        "id": "a7G0yit_pPf0",
        "outputId": "85f2b848-7b44-47c5-baa6-aca0817c91c4"
      },
      "source": [
        "# open file in read mode\n",
        "fn = open('/content/info.txt', 'r')\n",
        "\n",
        "# open other file in write mode\n",
        "fn1 = open('/content/info.txt', 'w')\n",
        "\n",
        "# read the content of the file line by line\n",
        "cont = fn.readlines()\n",
        "type(cont)\n",
        "for i in range(0, len(cont)):\n",
        "\t if(i % 2 != 0):\n",
        "\t\t fn1.write(cont[i])\n",
        "\t else:\n",
        "\t\t pass\n",
        "\n",
        "# close the file\n",
        "fn1.close()\n",
        "\n",
        "# open file in read mode\n",
        "fn1 = open('/content/info.txt', 'r')\n",
        "\n",
        "# read the content of the file\n",
        "cont1 = fn1.read()\n",
        "\n",
        "# print the content of the file\n",
        "print(cont1)\n",
        "\n",
        "# close all files\n",
        "fn.close()\n",
        "fn1.close()\n"
      ],
      "execution_count": 18,
      "outputs": [
        {
          "output_type": "stream",
          "text": [
            "\n"
          ],
          "name": "stdout"
        }
      ]
    },
    {
      "cell_type": "code",
      "metadata": {
        "id": "ulN3UMiOpymp"
      },
      "source": [
        "# Python program to\n",
        "# demonstrate merging\n",
        "# of two files\n",
        "\n",
        "data = data2 = \"\"\n",
        "\n",
        "# Reading data from file1\n",
        "with open('file1.txt') as fp:\n",
        "\tdata = fp.read()\n",
        "\n",
        "# Reading data from file2\n",
        "with open('file2.txt') as fp:\n",
        "\tdata2 = fp.read()\n",
        "\n",
        "# Merging 2 files\n",
        "# To add the data of file2\n",
        "# from next line\n",
        "data += \"\\n\"\n",
        "data += data2\n",
        "\n",
        "with open ('file3.txt', 'w') as fp:\n",
        "\tfp.write(data)\n"
      ],
      "execution_count": null,
      "outputs": []
    },
    {
      "cell_type": "code",
      "metadata": {
        "id": "4L9RHRsSqGuu"
      },
      "source": [
        "# Open file in read mode\n",
        "f = open('GFG.txt', 'r')\n",
        "\n",
        "# Read the content of the\n",
        "# file and store it in a list\n",
        "lines = f.readlines()\n",
        "\t\n",
        "# Close file\n",
        "f.close()\n",
        "\n",
        "# User's choice\n",
        "choice = 1\n",
        "\n",
        "# Split the line into words\n",
        "line = lines[choice].split()\n",
        "\n",
        "# line is reversed\n",
        "Reversed = \" \".join(line[::-1])\n",
        "\n",
        "# Updating the content of the\n",
        "# file\n",
        "lines.pop(choice)\n",
        "lines.insert(choice, Reversed)\n",
        "\n",
        "# Open file in write mode\n",
        "u = open('GFG.txt', 'w')\n",
        "\n",
        "# Write the new content in file\n",
        "# and note, it is overwritten\n",
        "u.writelines(lines)\n",
        "u.close()\n"
      ],
      "execution_count": null,
      "outputs": []
    },
    {
      "cell_type": "code",
      "metadata": {
        "id": "-o24GZSRqbyj"
      },
      "source": [
        "# Open the file in write mode\n",
        "f1 = open(\"output1.txt\", \"w\")\n",
        "\n",
        "# Open the input file and get\n",
        "# the content into a variable data\n",
        "with open(\"file.txt\", \"r\") as myfile:\n",
        "\tdata = myfile.read()\n",
        "\n",
        "# For Full Reversing we will store the\n",
        "# value of data into new variable data_1\n",
        "# in a reverse order using [start: end: step],\n",
        "# where step when passed -1 will reverse\n",
        "# the string\n",
        "data_1 = data[::-1]\n",
        "\n",
        "# Now we will write the fully reverse\n",
        "# data in the output1 file using\n",
        "# following command\n",
        "f1.write(data_1)\n",
        "\n",
        "f1.close()\n"
      ],
      "execution_count": null,
      "outputs": []
    },
    {
      "cell_type": "code",
      "metadata": {
        "id": "uhpNNko_qcm-"
      },
      "source": [
        "textfile = open(\"/content/info.txt\")\n",
        "lines = textfile.readlines()\n",
        "for line in reversed(lines):\n",
        "    print(line)"
      ],
      "execution_count": 19,
      "outputs": []
    },
    {
      "cell_type": "code",
      "metadata": {
        "id": "FnYSQixYqmuI"
      },
      "source": [
        ""
      ],
      "execution_count": null,
      "outputs": []
    }
  ]
}