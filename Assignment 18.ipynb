{
  "nbformat": 4,
  "nbformat_minor": 0,
  "metadata": {
    "colab": {
      "name": "Untitled41.ipynb",
      "provenance": []
    },
    "kernelspec": {
      "name": "python3",
      "display_name": "Python 3"
    },
    "language_info": {
      "name": "python"
    }
  },
  "cells": [
    {
      "cell_type": "code",
      "metadata": {
        "colab": {
          "base_uri": "https://localhost:8080/"
        },
        "id": "iSj-ESvvvTrU",
        "outputId": "00b48721-a463-4c45-9227-da6341630010"
      },
      "source": [
        "##Python – Check whether a string starts and ends with the same character or not\n",
        "# Python program to check if a string starts\n",
        "# and ends with the same character\n",
        "\n",
        "# import re module as it provides\n",
        "# support for regular expressions\n",
        "import re\n",
        "\n",
        "# the regular expression\n",
        "regex = r'^[a-z]$|^([a-z]).*\\1$'\n",
        "\n",
        "# function for checking the string\n",
        "def check(string):\n",
        "\n",
        "\t# pass the regular expression\n",
        "\t# and the string in the search() method\n",
        "\tif(re.search(regex, string)):\n",
        "\t\tprint(\"Valid\")\n",
        "\telse:\n",
        "\t\tprint(\"Invalid\")\n",
        "\n",
        "if __name__ == '__main__' :\n",
        "\n",
        "\tsample1 = \"abba\"\n",
        "\tsample2 = \"a\"\n",
        "\tsample3 = \"abcd\"\n",
        "\n",
        "\tcheck(sample1)\n",
        "\tcheck(sample2)\n",
        "\tcheck(sample3)\n"
      ],
      "execution_count": 1,
      "outputs": [
        {
          "output_type": "stream",
          "text": [
            "Valid\n",
            "Valid\n",
            "Invalid\n"
          ],
          "name": "stdout"
        }
      ]
    },
    {
      "cell_type": "code",
      "metadata": {
        "colab": {
          "base_uri": "https://localhost:8080/"
        },
        "id": "3gKS1zX6vdWC",
        "outputId": "d0144925-c5d4-4531-84b8-66dd43a79e49"
      },
      "source": [
        "#Python regex to find sequences of one upper case letter followed by lower case letters\n",
        "# Python3 code to find sequences of one upper\n",
        "# case letter followed by lower case letters\n",
        "import re\n",
        "\n",
        "# Function to match the string\n",
        "def match(text):\n",
        "\t\t\n",
        "\t\t# regex\n",
        "\t\tpattern = '[A-Z]+[a-z]+$'\n",
        "\t\t\n",
        "\t\t# searching pattern\n",
        "\t\tif re.search(pattern, text):\n",
        "\t\t\t\treturn('Yes')\n",
        "\t\telse:\n",
        "\t\t\t\treturn('No')\n",
        "\n",
        "# Driver Function\n",
        "print(match(\"Geeks\"))\n",
        "print(match(\"geeksforGeeks\"))\n",
        "print(match(\"geeks\"))\n"
      ],
      "execution_count": 2,
      "outputs": [
        {
          "output_type": "stream",
          "text": [
            "Yes\n",
            "Yes\n",
            "No\n"
          ],
          "name": "stdout"
        }
      ]
    },
    {
      "cell_type": "code",
      "metadata": {
        "colab": {
          "base_uri": "https://localhost:8080/"
        },
        "id": "iQnxk4S-vuK_",
        "outputId": "5c3c4285-faab-4daf-94c9-3067599e977f"
      },
      "source": [
        "from collections import Counter\n",
        "\n",
        "def remov_duplicates(input):\n",
        "\n",
        "\t# split input string separated by space\n",
        "\tinput = input.split(\" \")\n",
        "\n",
        "\t# joins two adjacent elements in iterable way\n",
        "\tfor i in range(0, len(input)):\n",
        "\t\tinput[i] = \"\".join(input[i])\n",
        "\n",
        "\t# now create dictionary using counter method\n",
        "\t# which will have strings as key and their\n",
        "\t# frequencies as value\n",
        "\tUniqW = Counter(input)\n",
        "\n",
        "\t# joins two adjacent elements in iterable way\n",
        "\ts = \" \".join(UniqW.keys())\n",
        "\tprint (s)\n",
        "\n",
        "# Driver program\n",
        "if __name__ == \"__main__\":\n",
        "\tinput = 'Python is great and Java is also great'\n",
        "\tremov_duplicates(input)\n"
      ],
      "execution_count": 3,
      "outputs": [
        {
          "output_type": "stream",
          "text": [
            "Python is great and Java also\n"
          ],
          "name": "stdout"
        }
      ]
    },
    {
      "cell_type": "code",
      "metadata": {
        "colab": {
          "base_uri": "https://localhost:8080/"
        },
        "id": "wSyo2bowvzhf",
        "outputId": "3d531fc7-26fa-4e19-b9b2-63c2334e2b54"
      },
      "source": [
        "#Python | Remove all characters except letters and numbers\n",
        "# Python code to demonstrate\n",
        "# to remove all the characters\n",
        "# except numbers and alphabets\n",
        "\n",
        "import re\n",
        "\n",
        "# initialising string\n",
        "ini_string = \"123abcjw:, .@! eiw\"\n",
        "\n",
        "# printing initial string\n",
        "print (\"initial string : \", ini_string)\n",
        "\n",
        "# function to demonstrate removal of characters\n",
        "# which are not numbers and alphabets using re\n",
        "\n",
        "result = re.sub('[\\W_]+', '', ini_string)\n",
        "\n",
        "# printing final string\n",
        "print (\"final string\", result)\n"
      ],
      "execution_count": 4,
      "outputs": [
        {
          "output_type": "stream",
          "text": [
            "initial string :  123abcjw:, .@! eiw\n",
            "final string 123abcjweiw\n"
          ],
          "name": "stdout"
        }
      ]
    },
    {
      "cell_type": "code",
      "metadata": {
        "colab": {
          "base_uri": "https://localhost:8080/"
        },
        "id": "sjsNl3Tcv-VX",
        "outputId": "1863de7b-5e80-49cc-a214-35cc844f7d83"
      },
      "source": [
        "# Python program to accept string ending\n",
        "# with only alphanumeric character.\n",
        "# import re module\n",
        "\n",
        "# re module provides support\n",
        "# for regular expressions\n",
        "import re\n",
        "\n",
        "# Make a regular expression to accept string\n",
        "# ending with alphanumeric character\n",
        "regex = '[a-zA-z0-9]$'\n",
        "\t\n",
        "# Define a function for accepting string\n",
        "# ending with alphanumeric character\n",
        "def check(string):\n",
        "\n",
        "\t# pass the regular expression\n",
        "\t# and the string in search() method\n",
        "\tif(re.search(regex, string)):\n",
        "\t\tprint(\"Accept\")\n",
        "\t\t\n",
        "\telse:\n",
        "\t\tprint(\"Discard\")\n",
        "\t\n",
        "\n",
        "# Driver Code\n",
        "if __name__ == '__main__' :\n",
        "\t\n",
        "\t# Enter the string\n",
        "\tstring = \"ankirai@\"\n",
        "\t\n",
        "\t# calling run function\n",
        "\tcheck(string)\n",
        "\n",
        "\tstring = \"ankitrai326\"\n",
        "\tcheck(string)\n",
        "\n",
        "\tstring = \"ankit.\"\n",
        "\tcheck(string)\n",
        "\n",
        "\tstring = \"geeksforgeeks\"\n",
        "\tcheck(string)\n"
      ],
      "execution_count": 5,
      "outputs": [
        {
          "output_type": "stream",
          "text": [
            "Discard\n",
            "Accept\n",
            "Discard\n",
            "Accept\n"
          ],
          "name": "stdout"
        }
      ]
    },
    {
      "cell_type": "code",
      "metadata": {
        "colab": {
          "base_uri": "https://localhost:8080/"
        },
        "id": "tBY_2sJBwJg8",
        "outputId": "bdb805c5-2b78-4359-e94d-2da8e35d452b"
      },
      "source": [
        "# Python program to accept string starting with a vowel\n",
        "\n",
        "# import re module\n",
        "\n",
        "# re module provides support\n",
        "# for regular expressions\n",
        "import re\n",
        "\n",
        "# Make a regular expression\n",
        "# to accept string starting with vowel\n",
        "regex = '^[aeiouAEIOU][A-Za-z0-9_]*'\n",
        "\t\n",
        "# Define a function for\n",
        "# accepting string start with vowel\n",
        "def check(string):\n",
        "\n",
        "\t# pass the regular expression\n",
        "\t# and the string in search() method\n",
        "\tif(re.search(regex, string)):\n",
        "\t\tprint(\"Valid\")\n",
        "\t\t\n",
        "\telse:\n",
        "\t\tprint(\"Invalid\")\n",
        "\t\n",
        "\n",
        "# Driver Code\n",
        "if __name__ == '__main__' :\n",
        "\t\n",
        "\t# Enter the string\n",
        "\tstring = \"ankit\"\n",
        "\t\n",
        "\t# calling run function\n",
        "\tcheck(string)\n",
        "\n",
        "\tstring = \"geeks\"\n",
        "\tcheck(string)\n",
        "\n",
        "\tstring = \"sandeep\"\n",
        "\tcheck(string)\n"
      ],
      "execution_count": 6,
      "outputs": [
        {
          "output_type": "stream",
          "text": [
            "Valid\n",
            "Invalid\n",
            "Invalid\n"
          ],
          "name": "stdout"
        }
      ]
    },
    {
      "cell_type": "code",
      "metadata": {
        "colab": {
          "base_uri": "https://localhost:8080/",
          "height": 128
        },
        "id": "RlT65QlXwPF1",
        "outputId": "b8448942-3c3e-4ef8-cd56-23511eeb7c58"
      },
      "source": [
        "# import library\n",
        "import re\n",
        "\n",
        "# define a function\n",
        "def find(string, sample) :\n",
        "\t\n",
        "# check substring present\n",
        "# in a string or not\n",
        "if (sample in string):\n",
        "\n",
        "\ty = \"^\" + sample\n",
        "\n",
        "\t# check if string starts\n",
        "\t# with the substring\n",
        "\tx = re.search(y, string)\n",
        "\n",
        "\tif x :\n",
        "\t\tprint(\"string starts with the given substring\")\n",
        "\n",
        "\telse :\n",
        "\t\tprint(\"string doesn't start with the given substring\")\n",
        "\n",
        "else :\n",
        "\tprint(\"entered string isn't a substring\")\n",
        "\n",
        "\n",
        "# Driver code\n",
        "string = \"geeks for geeks makes learning fun\"\n",
        "sample = \"geeks\"\n",
        "\n",
        "# function call\n",
        "find(string, sample)\n",
        "\n",
        "sample = \"makes\"\n",
        "\n",
        "# function call\n",
        "find(string, sample)\n"
      ],
      "execution_count": 7,
      "outputs": [
        {
          "output_type": "error",
          "ename": "IndentationError",
          "evalue": "ignored",
          "traceback": [
            "\u001b[0;36m  File \u001b[0;32m\"<ipython-input-7-5bea3bcb7666>\"\u001b[0;36m, line \u001b[0;32m9\u001b[0m\n\u001b[0;31m    if (sample in string):\u001b[0m\n\u001b[0m     ^\u001b[0m\n\u001b[0;31mIndentationError\u001b[0m\u001b[0;31m:\u001b[0m expected an indented block\n"
          ]
        }
      ]
    },
    {
      "cell_type": "code",
      "metadata": {
        "colab": {
          "base_uri": "https://localhost:8080/"
        },
        "id": "4908VAvqwW80",
        "outputId": "ab67aacf-fad1-4885-fbdf-5b2f38138184"
      },
      "source": [
        "# Python3 program to check\n",
        "# URL is valid or not\n",
        "# using regular expression\n",
        "import re\n",
        "\n",
        "# Function to validate URL\n",
        "# using regular expression\n",
        "def isValidURL(str):\n",
        "\n",
        "\t# Regex to check valid URL\n",
        "\tregex = (\"((http|https)://)(www.)?\" +\n",
        "\t\t\t\"[a-zA-Z0-9@:%._\\\\+~#?&//=]\" +\n",
        "\t\t\t\"{2,256}\\\\.[a-z]\" +\n",
        "\t\t\t\"{2,6}\\\\b([-a-zA-Z0-9@:%\" +\n",
        "\t\t\t\"._\\\\+~#?&//=]*)\")\n",
        "\t\n",
        "\t# Compile the ReGex\n",
        "\tp = re.compile(regex)\n",
        "\n",
        "\t# If the string is empty\n",
        "\t# return false\n",
        "\tif (str == None):\n",
        "\t\treturn False\n",
        "\n",
        "\t# Return if the string\n",
        "\t# matched the ReGex\n",
        "\tif(re.search(p, str)):\n",
        "\t\treturn True\n",
        "\telse:\n",
        "\t\treturn False\n",
        "\n",
        "# Driver code\n",
        "\n",
        "# Test Case 1:\n",
        "url = \"https://www.geeksforgeeks.org\"\n",
        "\n",
        "if(isValidURL(url) == True):\n",
        "\tprint(\"Yes\")\n",
        "else:\n",
        "\tprint(\"No\")\n"
      ],
      "execution_count": 9,
      "outputs": [
        {
          "output_type": "stream",
          "text": [
            "Yes\n"
          ],
          "name": "stdout"
        }
      ]
    },
    {
      "cell_type": "code",
      "metadata": {
        "colab": {
          "base_uri": "https://localhost:8080/"
        },
        "id": "KprIjYjkwdnT",
        "outputId": "75c188fc-d302-4b80-e6ee-760e1a31c4a5"
      },
      "source": [
        "# import library\n",
        "import re\n",
        "\n",
        "# url link\n",
        "s = 'https://www.geeksforgeeks.org/'\n",
        "\n",
        "# finding the protocol\n",
        "obj1 = re.findall('(\\w+)://',\n",
        "\t\t\t\ts)\n",
        "print(obj1)\n",
        "\n",
        "# finding the hostname which may\n",
        "# contain dash or dots\n",
        "obj2 = re.findall('://www.([\\w\\-\\.]+)',\n",
        "\t\t\t\ts)\n",
        "print(obj2)\n"
      ],
      "execution_count": 10,
      "outputs": [
        {
          "output_type": "stream",
          "text": [
            "['https']\n",
            "['geeksforgeeks.org']\n"
          ],
          "name": "stdout"
        }
      ]
    },
    {
      "cell_type": "code",
      "metadata": {
        "colab": {
          "base_uri": "https://localhost:8080/"
        },
        "id": "UR4XbhbKww7b",
        "outputId": "ba39be8b-8dfe-4528-e204-3189ce920f02"
      },
      "source": [
        "# Python program to validate an Ip address\n",
        "\n",
        "# re module provides support\n",
        "# for regular expressions\n",
        "import re\n",
        "\n",
        "# Make a regular expression\n",
        "# for validating an Ip-address\n",
        "regex = \"^((25[0-5]|2[0-4][0-9]|1[0-9][0-9]|[1-9]?[0-9])\\.){3}(25[0-5]|2[0-4][0-9]|1[0-9][0-9]|[1-9]?[0-9])$\"\n",
        "\n",
        "\n",
        "\t\n",
        "# Define a function for\n",
        "# validate an Ip address\n",
        "def check(Ip):\n",
        "\n",
        "\t# pass the regular expression\n",
        "\t# and the string in search() method\n",
        "\tif(re.search(regex, Ip)):\n",
        "\t\tprint(\"Valid Ip address\")\n",
        "\t\t\n",
        "\telse:\n",
        "\t\tprint(\"Invalid Ip address\")\n",
        "\t\n",
        "\n",
        "# Driver Code\n",
        "if __name__ == '__main__' :\n",
        "\t\n",
        "\t# Enter the Ip address\n",
        "\tIp = \"192.168.0.1\"\n",
        "\t\n",
        "\t# calling run function\n",
        "\tcheck(Ip)\n",
        "\n",
        "\tIp = \"110.234.52.124\"\n",
        "\tcheck(Ip)\n",
        "\n",
        "\tIp = \"366.1.2.2\"\n",
        "\tcheck(Ip)\n"
      ],
      "execution_count": 11,
      "outputs": [
        {
          "output_type": "stream",
          "text": [
            "Valid Ip address\n",
            "Valid Ip address\n",
            "Invalid Ip address\n"
          ],
          "name": "stdout"
        }
      ]
    },
    {
      "cell_type": "code",
      "metadata": {
        "id": "ggbTCVIlw4Y9"
      },
      "source": [
        ""
      ],
      "execution_count": null,
      "outputs": []
    }
  ]
}