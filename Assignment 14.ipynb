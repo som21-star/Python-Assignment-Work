{
  "nbformat": 4,
  "nbformat_minor": 0,
  "metadata": {
    "colab": {
      "name": "Untitled34.ipynb",
      "provenance": []
    },
    "kernelspec": {
      "name": "python3",
      "display_name": "Python 3"
    },
    "language_info": {
      "name": "python"
    }
  },
  "cells": [
    {
      "cell_type": "code",
      "metadata": {
        "colab": {
          "base_uri": "https://localhost:8080/"
        },
        "id": "NJSxmgSDo3DC",
        "outputId": "809b4098-5377-4be5-bd26-3c7c76ab7a34"
      },
      "source": [
        "##Python Program for Recursive Insertion Sort\n",
        "# Recursive Python program for insertion sort\n",
        "# Recursive function to sort an array using insertion sort\n",
        "\n",
        "def insertionSortRecursive(arr,n):\n",
        "\t# base case\n",
        "\tif n<=1:\n",
        "\t\treturn\n",
        "\t\n",
        "\t# Sort first n-1 elements\n",
        "\tinsertionSortRecursive(arr,n-1)\n",
        "\t'''Insert last element at its correct position\n",
        "\t\tin sorted array.'''\n",
        "\tlast = arr[n-1]\n",
        "\tj = n-2\n",
        "\t\n",
        "\t# Move elements of arr[0..i-1], that are\n",
        "\t# greater than key, to one position ahead\n",
        "\t# of their current position\n",
        "\twhile (j>=0 and arr[j]>last):\n",
        "\t\tarr[j+1] = arr[j]\n",
        "\t\tj = j-1\n",
        "\n",
        "\tarr[j+1]=last\n",
        "\t\n",
        "# A utility function to print an array of size n\n",
        "def printArray(arr,n):\n",
        "\tfor i in range(n):\n",
        "\t\tprint (arr[i])\n",
        "\n",
        "# Driver program to test insertion sort\n",
        "arr = [12,11,13,5,6]\n",
        "n = len(arr)\n",
        "insertionSortRecursive(arr, n)\n",
        "printArray(arr, n)\n"
      ],
      "execution_count": 3,
      "outputs": [
        {
          "output_type": "stream",
          "text": [
            "5\n",
            "6\n",
            "11\n",
            "12\n",
            "13\n"
          ],
          "name": "stdout"
        }
      ]
    },
    {
      "cell_type": "code",
      "metadata": {
        "colab": {
          "base_uri": "https://localhost:8080/"
        },
        "id": "DDDrJ7Rzo_g_",
        "outputId": "f44ed539-abd5-4c94-c6c0-917768ce10d2"
      },
      "source": [
        "# Python program for implementation of Quicksort Sort\n",
        "\n",
        "# This function takes last element as pivot, places\n",
        "# the pivot element at its correct position in sorted\n",
        "# array, and places all smaller (smaller than pivot)\n",
        "# to left of pivot and all greater elements to right\n",
        "# of pivot\n",
        "\n",
        "\n",
        "def partition(arr, low, high):\n",
        "\ti = (low-1)\t\t # index of smaller element\n",
        "\tpivot = arr[high]\t # pivot\n",
        "\n",
        "\tfor j in range(low, high):\n",
        "\n",
        "\t\t# If current element is smaller than or\n",
        "\t\t# equal to pivot\n",
        "\t\tif arr[j] <= pivot:\n",
        "\n",
        "\t\t\t# increment index of smaller element\n",
        "\t\t\ti = i+1\n",
        "\t\t\tarr[i], arr[j] = arr[j], arr[i]\n",
        "\n",
        "\tarr[i+1], arr[high] = arr[high], arr[i+1]\n",
        "\treturn (i+1)\n",
        "\n",
        "# The main function that implements QuickSort\n",
        "# arr[] --> Array to be sorted,\n",
        "# low --> Starting index,\n",
        "# high --> Ending index\n",
        "\n",
        "# Function to do Quick sort\n",
        "\n",
        "\n",
        "def quickSort(arr, low, high):\n",
        "\tif len(arr) == 1:\n",
        "\t\treturn arr\n",
        "\tif low < high:\n",
        "\n",
        "\t\t# pi is partitioning index, arr[p] is now\n",
        "\t\t# at right place\n",
        "\t\tpi = partition(arr, low, high)\n",
        "\n",
        "\t\t# Separately sort elements before\n",
        "\t\t# partition and after partition\n",
        "\t\tquickSort(arr, low, pi-1)\n",
        "\t\tquickSort(arr, pi+1, high)\n",
        "\n",
        "\n",
        "# Driver code to test above\n",
        "arr = [10, 7, 8, 9, 1, 5]\n",
        "n = len(arr)\n",
        "quickSort(arr, 0, n-1)\n",
        "print(\"Sorted array is:\")\n",
        "for i in range(n):\n",
        "\tprint(\"%d\" % arr[i]),\n",
        "\n"
      ],
      "execution_count": 5,
      "outputs": [
        {
          "output_type": "stream",
          "text": [
            "Sorted array is:\n",
            "1\n",
            "5\n",
            "7\n",
            "8\n",
            "9\n",
            "10\n"
          ],
          "name": "stdout"
        }
      ]
    },
    {
      "cell_type": "code",
      "metadata": {
        "colab": {
          "base_uri": "https://localhost:8080/"
        },
        "id": "S7Itu2tNpGE6",
        "outputId": "0d79b455-f203-4614-dbf5-c2bde27f3626"
      },
      "source": [
        "##Python Program for Iterative Quick Sort\n",
        "# Python program for implementation of Quicksort\n",
        "\n",
        "# This function is same in both iterative and recursive\n",
        "def partition(arr,l,h):\n",
        "\ti = ( l - 1 )\n",
        "\tx = arr[h]\n",
        "\n",
        "\tfor j in range(l , h):\n",
        "\t\tif arr[j] <= x:\n",
        "\n",
        "\t\t\t# increment index of smaller element\n",
        "\t\t\ti = i+1\n",
        "\t\t\tarr[i],arr[j] = arr[j],arr[i]\n",
        "\n",
        "\tarr[i+1],arr[h] = arr[h],arr[i+1]\n",
        "\treturn (i+1)\n",
        "\n",
        "# Function to do Quick sort\n",
        "# arr[] --> Array to be sorted,\n",
        "# l --> Starting index,\n",
        "# h --> Ending index\n",
        "def quickSortIterative(arr,l,h):\n",
        "\n",
        "\t# Create an auxiliary stack\n",
        "\tsize = h - l + 1\n",
        "\tstack = [0] * (size)\n",
        "\n",
        "\t# initialize top of stack\n",
        "\ttop = -1\n",
        "\n",
        "\t# push initial values of l and h to stack\n",
        "\ttop = top + 1\n",
        "\tstack[top] = l\n",
        "\ttop = top + 1\n",
        "\tstack[top] = h\n",
        "\n",
        "\t# Keep popping from stack while is not empty\n",
        "\twhile top >= 0:\n",
        "\n",
        "\t\t# Pop h and l\n",
        "\t\th = stack[top]\n",
        "\t\ttop = top - 1\n",
        "\t\tl = stack[top]\n",
        "\t\ttop = top - 1\n",
        "\n",
        "\t\t# Set pivot element at its correct position in\n",
        "\t\t# sorted array\n",
        "\t\tp = partition( arr, l, h )\n",
        "\n",
        "\t\t# If there are elements on left side of pivot,\n",
        "\t\t# then push left side to stack\n",
        "\t\tif p-1 > l:\n",
        "\t\t\ttop = top + 1\n",
        "\t\t\tstack[top] = l\n",
        "\t\t\ttop = top + 1\n",
        "\t\t\tstack[top] = p - 1\n",
        "\n",
        "\t\t# If there are elements on right side of pivot,\n",
        "\t\t# then push right side to stack\n",
        "\t\tif p+1 < h:\n",
        "\t\t\ttop = top + 1\n",
        "\t\t\tstack[top] = p + 1\n",
        "\t\t\ttop = top + 1\n",
        "\t\t\tstack[top] = h\n",
        "\n",
        "# Driver code to test above\n",
        "arr = [4, 3, 5, 2, 1, 3, 2, 3]\n",
        "n = len(arr)\n",
        "quickSortIterative(arr, 0, n-1)\n",
        "print (\"Sorted array is:\")\n",
        "for i in range(n):\n",
        "  print (\"%d\" %arr[i]) "
      ],
      "execution_count": 8,
      "outputs": [
        {
          "output_type": "stream",
          "text": [
            "Sorted array is:\n",
            "1\n",
            "2\n",
            "2\n",
            "3\n",
            "3\n",
            "3\n",
            "4\n",
            "5\n"
          ],
          "name": "stdout"
        }
      ]
    },
    {
      "cell_type": "code",
      "metadata": {
        "colab": {
          "base_uri": "https://localhost:8080/"
        },
        "id": "E7xVwqIBpbUM",
        "outputId": "40fb62ee-e878-4a9a-d311-84584d0544b0"
      },
      "source": [
        "# Python program for implementation of Selection\n",
        "# Sort\n",
        "import sys\n",
        "A = [64, 25, 12, 22, 11]\n",
        "\n",
        "# Traverse through all array elements\n",
        "for i in range(len(A)):\n",
        "\t\n",
        "\t# Find the minimum element in remaining\n",
        "\t# unsorted array\n",
        "\tmin_idx = i\n",
        "\tfor j in range(i+1, len(A)):\n",
        "\t\tif A[min_idx] > A[j]:\n",
        "\t\t\tmin_idx = j\n",
        "\t\t\t\n",
        "\t# Swap the found minimum element with\n",
        "\t# the first element\t\t\n",
        "\tA[i], A[min_idx] = A[min_idx], A[i]\n",
        "\n",
        "# Driver code to test above\n",
        "print (\"Sorted array\")\n",
        "for i in range(len(A)):\n",
        "\tprint(\"%d\" %A[i]),\n"
      ],
      "execution_count": 9,
      "outputs": [
        {
          "output_type": "stream",
          "text": [
            "Sorted array\n",
            "11\n",
            "12\n",
            "22\n",
            "25\n",
            "64\n"
          ],
          "name": "stdout"
        }
      ]
    },
    {
      "cell_type": "code",
      "metadata": {
        "colab": {
          "base_uri": "https://localhost:8080/"
        },
        "id": "hSStwibGpq7i",
        "outputId": "c23966e4-799f-44de-8678-ff7c934fedfa"
      },
      "source": [
        "# Python program for implementation of Bubble Sort\n",
        "\n",
        "def bubbleSort(arr):\n",
        "\tn = len(arr)\n",
        "\n",
        "\t# Traverse through all array elements\n",
        "\tfor i in range(n-1):\n",
        "\t# range(n) also work but outer loop will repeat one time more than needed.\n",
        "\n",
        "\t\t# Last i elements are already in place\n",
        "\t\tfor j in range(0, n-i-1):\n",
        "\n",
        "\t\t\t# traverse the array from 0 to n-i-1\n",
        "\t\t\t# Swap if the element found is greater\n",
        "\t\t\t# than the next element\n",
        "\t\t\tif arr[j] > arr[j + 1] :\n",
        "\t\t\t\tarr[j], arr[j + 1] = arr[j + 1], arr[j]\n",
        "\n",
        "# Driver code to test above\n",
        "arr = [64, 34, 25, 12, 22, 11, 90]\n",
        "\n",
        "bubbleSort(arr)\n",
        "\n",
        "print (\"Sorted array is:\")\n",
        "for i in range(len(arr)):\n",
        "\tprint (\"% d\" % arr[i]),\n"
      ],
      "execution_count": 10,
      "outputs": [
        {
          "output_type": "stream",
          "text": [
            "Sorted array is:\n",
            " 11\n",
            " 12\n",
            " 22\n",
            " 25\n",
            " 34\n",
            " 64\n",
            " 90\n"
          ],
          "name": "stdout"
        }
      ]
    },
    {
      "cell_type": "code",
      "metadata": {
        "colab": {
          "base_uri": "https://localhost:8080/"
        },
        "id": "rve8fzzkpwR7",
        "outputId": "85ec0a69-f2d5-4da8-d59b-e15f367d5f53"
      },
      "source": [
        "# Python program for implementation of MergeSort\n",
        "\n",
        "# Merges two subarrays of arr[].\n",
        "# First subarray is arr[l..m]\n",
        "# Second subarray is arr[m+1..r]\n",
        "def merge(arr, l, m, r):\n",
        "\tn1 = m - l + 1\n",
        "\tn2 = r- m\n",
        "\n",
        "\t# create temp arrays\n",
        "\tL = [0] * (n1)\n",
        "\tR = [0] * (n2)\n",
        "\n",
        "\t# Copy data to temp arrays L[] and R[]\n",
        "\tfor i in range(0 , n1):\n",
        "\t\tL[i] = arr[l + i]\n",
        "\n",
        "\tfor j in range(0 , n2):\n",
        "\t\tR[j] = arr[m + 1 + j]\n",
        "\n",
        "\t# Merge the temp arrays back into arr[l..r]\n",
        "\ti = 0\t # Initial index of first subarray\n",
        "\tj = 0\t # Initial index of second subarray\n",
        "\tk = l\t # Initial index of merged subarray\n",
        "\n",
        "\twhile i < n1 and j < n2 :\n",
        "\t\tif L[i] <= R[j]:\n",
        "\t\t\tarr[k] = L[i]\n",
        "\t\t\ti += 1\n",
        "\t\telse:\n",
        "\t\t\tarr[k] = R[j]\n",
        "\t\t\tj += 1\n",
        "\t\tk += 1\n",
        "\n",
        "\t# Copy the remaining elements of L[], if there\n",
        "\t# are any\n",
        "\twhile i < n1:\n",
        "\t\tarr[k] = L[i]\n",
        "\t\ti += 1\n",
        "\t\tk += 1\n",
        "\n",
        "\t# Copy the remaining elements of R[], if there\n",
        "\t# are any\n",
        "\twhile j < n2:\n",
        "\t\tarr[k] = R[j]\n",
        "\t\tj += 1\n",
        "\t\tk += 1\n",
        "\n",
        "# l is for left index and r is right index of the\n",
        "# sub-array of arr to be sorted\n",
        "def mergeSort(arr,l,r):\n",
        "\tif l < r:\n",
        "\n",
        "\t\t# Same as (l+r)//2, but avoids overflow for\n",
        "\t\t# large l and h\n",
        "\t\tm = (l+(r-1))//2\n",
        "\n",
        "\t\t# Sort first and second halves\n",
        "\t\tmergeSort(arr, l, m)\n",
        "\t\tmergeSort(arr, m+1, r)\n",
        "\t\tmerge(arr, l, m, r)\n",
        "\n",
        "\n",
        "# Driver code to test above\n",
        "arr = [12, 11, 13, 5, 6, 7]\n",
        "n = len(arr)\n",
        "print (\"Given array is\")\n",
        "for i in range(n):\n",
        "\tprint (\"%d\" %arr[i]),\n",
        "\n",
        "mergeSort(arr,0,n-1)\n",
        "print (\"\\n\\nSorted array is\")\n",
        "for i in range(n):\n",
        "\tprint (\"%d\" %arr[i])\n"
      ],
      "execution_count": 12,
      "outputs": [
        {
          "output_type": "stream",
          "text": [
            "Given array is\n",
            "12\n",
            "11\n",
            "13\n",
            "5\n",
            "6\n",
            "7\n",
            "\n",
            "\n",
            "Sorted array is\n",
            "5\n",
            "6\n",
            "7\n",
            "11\n",
            "12\n",
            "13\n"
          ],
          "name": "stdout"
        }
      ]
    },
    {
      "cell_type": "code",
      "metadata": {
        "colab": {
          "base_uri": "https://localhost:8080/",
          "height": 401
        },
        "id": "0zdZHTW-p56N",
        "outputId": "61b07e3a-30df-4bce-8286-a1eb87066e5e"
      },
      "source": [
        "# Recursive Python Program for merge sort\n",
        "\n",
        "# Recursive Python Program for merge sort\n",
        "\n",
        "def merge(left, right):\n",
        "\tif not len(left) or not len(right):\n",
        "\t\treturn left or right\n",
        "\n",
        "\tresult = []\n",
        "\ti, j = 0, 0\n",
        "\twhile (len(result) < len(left) + len(right)):\n",
        "\t\tif left[i] < right[j]:\n",
        "\t\t\tresult.append(left[i])\n",
        "\t\t\ti+= 1\n",
        "\t\telse:\n",
        "\t\t\tresult.append(right[j])\n",
        "\t\t\tj+= 1\n",
        "\t\tif i == len(left) or j == len(right):\n",
        "\t\t\tresult.extend(left[i:] or right[j:])\n",
        "\t\t\tbreak\n",
        "\n",
        "\treturn result\n",
        "\n",
        "def mergesort(list):\n",
        "\tif len(list) < 2:\n",
        "\t\treturn list\n",
        "\n",
        "\tmiddle = len(list)/2\n",
        "\tleft = mergesort(list[:middle])\n",
        "\tright = mergesort(list[middle:])\n",
        "\n",
        "\treturn merge(left, right)\n",
        "\t\n",
        "seq = [12, 11, 13, 5, 6, 7]\n",
        "print(\"Given array is\")\n",
        "print(seq);\n",
        "print(\"\\n\")\n",
        "print(\"Sorted array is\")\n",
        "print(mergesort(seq))"
      ],
      "execution_count": 16,
      "outputs": [
        {
          "output_type": "stream",
          "text": [
            "Given array is\n",
            "[12, 11, 13, 5, 6, 7]\n",
            "\n",
            "\n",
            "Sorted array is\n"
          ],
          "name": "stdout"
        },
        {
          "output_type": "error",
          "ename": "TypeError",
          "evalue": "ignored",
          "traceback": [
            "\u001b[0;31m---------------------------------------------------------------------------\u001b[0m",
            "\u001b[0;31mTypeError\u001b[0m                                 Traceback (most recent call last)",
            "\u001b[0;32m<ipython-input-16-af82c140fa01>\u001b[0m in \u001b[0;36m<module>\u001b[0;34m()\u001b[0m\n\u001b[1;32m     37\u001b[0m \u001b[0mprint\u001b[0m\u001b[0;34m(\u001b[0m\u001b[0;34m\"\\n\"\u001b[0m\u001b[0;34m)\u001b[0m\u001b[0;34m\u001b[0m\u001b[0;34m\u001b[0m\u001b[0m\n\u001b[1;32m     38\u001b[0m \u001b[0mprint\u001b[0m\u001b[0;34m(\u001b[0m\u001b[0;34m\"Sorted array is\"\u001b[0m\u001b[0;34m)\u001b[0m\u001b[0;34m\u001b[0m\u001b[0;34m\u001b[0m\u001b[0m\n\u001b[0;32m---> 39\u001b[0;31m \u001b[0mprint\u001b[0m\u001b[0;34m(\u001b[0m\u001b[0mmergesort\u001b[0m\u001b[0;34m(\u001b[0m\u001b[0mseq\u001b[0m\u001b[0;34m)\u001b[0m\u001b[0;34m)\u001b[0m\u001b[0;34m\u001b[0m\u001b[0;34m\u001b[0m\u001b[0m\n\u001b[0m",
            "\u001b[0;32m<ipython-input-16-af82c140fa01>\u001b[0m in \u001b[0;36mmergesort\u001b[0;34m(list)\u001b[0m\n\u001b[1;32m     27\u001b[0m \u001b[0;34m\u001b[0m\u001b[0m\n\u001b[1;32m     28\u001b[0m         \u001b[0mmiddle\u001b[0m \u001b[0;34m=\u001b[0m \u001b[0mlen\u001b[0m\u001b[0;34m(\u001b[0m\u001b[0mlist\u001b[0m\u001b[0;34m)\u001b[0m\u001b[0;34m/\u001b[0m\u001b[0;36m2\u001b[0m\u001b[0;34m\u001b[0m\u001b[0;34m\u001b[0m\u001b[0m\n\u001b[0;32m---> 29\u001b[0;31m         \u001b[0mleft\u001b[0m \u001b[0;34m=\u001b[0m \u001b[0mmergesort\u001b[0m\u001b[0;34m(\u001b[0m\u001b[0mlist\u001b[0m\u001b[0;34m[\u001b[0m\u001b[0;34m:\u001b[0m\u001b[0mmiddle\u001b[0m\u001b[0;34m]\u001b[0m\u001b[0;34m)\u001b[0m\u001b[0;34m\u001b[0m\u001b[0;34m\u001b[0m\u001b[0m\n\u001b[0m\u001b[1;32m     30\u001b[0m         \u001b[0mright\u001b[0m \u001b[0;34m=\u001b[0m \u001b[0mmergesort\u001b[0m\u001b[0;34m(\u001b[0m\u001b[0mlist\u001b[0m\u001b[0;34m[\u001b[0m\u001b[0mmiddle\u001b[0m\u001b[0;34m:\u001b[0m\u001b[0;34m]\u001b[0m\u001b[0;34m)\u001b[0m\u001b[0;34m\u001b[0m\u001b[0;34m\u001b[0m\u001b[0m\n\u001b[1;32m     31\u001b[0m \u001b[0;34m\u001b[0m\u001b[0m\n",
            "\u001b[0;31mTypeError\u001b[0m: slice indices must be integers or None or have an __index__ method"
          ]
        }
      ]
    },
    {
      "cell_type": "code",
      "metadata": {
        "colab": {
          "base_uri": "https://localhost:8080/"
        },
        "id": "kmpQ0tn1qFg1",
        "outputId": "ff568279-2481-484b-82ba-c5ec3cf199f2"
      },
      "source": [
        "# Python program for implementation of heap Sort\n",
        "\n",
        "# To heapify subtree rooted at index i.\n",
        "# n is size of heap\n",
        "def heapify(arr, n, i):\n",
        "\tlargest = i # Initialize largest as root\n",
        "\tl = 2 * i + 1\t # left = 2*i + 1\n",
        "\tr = 2 * i + 2\t # right = 2*i + 2\n",
        "\n",
        "\t# See if left child of root exists and is\n",
        "\t# greater than root\n",
        "\tif l < n and arr[i] < arr[l]:\n",
        "\t\tlargest = l\n",
        "\n",
        "\t# See if right child of root exists and is\n",
        "\t# greater than root\n",
        "\tif r < n and arr[largest] < arr[r]:\n",
        "\t\tlargest = r\n",
        "\n",
        "\t# Change root, if needed\n",
        "\tif largest != i:\n",
        "\t\tarr[i],arr[largest] = arr[largest],arr[i] # swap\n",
        "\n",
        "\t\t# Heapify the root.\n",
        "\t\theapify(arr, n, largest)\n",
        "\n",
        "# The main function to sort an array of given size\n",
        "def heapSort(arr):\n",
        "\tn = len(arr)\n",
        "\n",
        "\t# Build a maxheap.\n",
        "\t# Since last parent will be at ((n//2)-1) we can start at that location.\n",
        "\tfor i in range(n // 2 - 1, -1, -1):\n",
        "\t\theapify(arr, n, i)\n",
        "\n",
        "\t# One by one extract elements\n",
        "\tfor i in range(n-1, 0, -1):\n",
        "\t\tarr[i], arr[0] = arr[0], arr[i] # swap\n",
        "\t\theapify(arr, i, 0)\n",
        "\n",
        "# Driver code to test above\n",
        "arr = [ 12, 11, 13, 5, 6, 7]\n",
        "heapSort(arr)\n",
        "n = len(arr)\n",
        "print (\"Sorted array is\")\n",
        "for i in range(n):\n",
        "\tprint (\"%d\" %arr[i])"
      ],
      "execution_count": 17,
      "outputs": [
        {
          "output_type": "stream",
          "text": [
            "Sorted array is\n",
            "5\n",
            "6\n",
            "7\n",
            "11\n",
            "12\n",
            "13\n"
          ],
          "name": "stdout"
        }
      ]
    },
    {
      "cell_type": "code",
      "metadata": {
        "colab": {
          "base_uri": "https://localhost:8080/",
          "height": 452
        },
        "id": "nLF-CQAteImu",
        "outputId": "fd2f6bfa-2ddd-403c-e39c-60262a21e2db"
      },
      "source": [
        "##Python Program for ShellSort\n",
        "# Python program for implementation of Shell Sort\n",
        "\n",
        "def shellSort(arr):\n",
        "\n",
        "\t# Start with a big gap, then reduce the gap\n",
        "\tn = len(arr)\n",
        "\tgap = n/2\n",
        "\n",
        "\t# Do a gapped insertion sort for this gap size.\n",
        "\t# The first gap elements a[0..gap-1] are already in gapped\n",
        "\t# order keep adding one more element until the entire array\n",
        "\t# is gap sorted\n",
        "\twhile gap > 0:\n",
        "\n",
        "\t\tfor i in range(gap,n):\n",
        "\n",
        "\t\t\t# add a[i] to the elements that have been gap sorted\n",
        "\t\t\t# save a[i] in temp and make a hole at position i\n",
        "\t\t\ttemp = arr[i]\n",
        "\n",
        "\t\t\t# shift earlier gap-sorted elements up until the correct\n",
        "\t\t\t# location for a[i] is found\n",
        "\t\t\tj = i\n",
        "\t\t\twhile j >= gap and arr[j-gap] >temp:\n",
        "\t\t\t\tarr[j] = arr[j-gap]\n",
        "\t\t\t\tj -= gap\n",
        "\n",
        "\t\t\t# put temp (the original a[i]) in its correct location\n",
        "\t\t\tarr[j] = temp\n",
        "\t\tgap /= 2\n",
        "\n",
        "\n",
        "# Driver code to test above\n",
        "arr = [ 12, 34, 54, 2, 3]\n",
        "\n",
        "n = len(arr)\n",
        "print (\"Array before sorting:\")\n",
        "for i in range(n):\n",
        "\tprint(arr[i]),\n",
        "\n",
        "shellSort(arr)\n",
        "\n",
        "print (\"\\nArray after sorting:\")\n",
        "for i in range(n):\n",
        "\tprint(arr[i])"
      ],
      "execution_count": 18,
      "outputs": [
        {
          "output_type": "stream",
          "text": [
            "Array before sorting:\n",
            "12\n",
            "34\n",
            "54\n",
            "2\n",
            "3\n"
          ],
          "name": "stdout"
        },
        {
          "output_type": "error",
          "ename": "TypeError",
          "evalue": "ignored",
          "traceback": [
            "\u001b[0;31m---------------------------------------------------------------------------\u001b[0m",
            "\u001b[0;31mTypeError\u001b[0m                                 Traceback (most recent call last)",
            "\u001b[0;32m<ipython-input-18-e40d97f363fb>\u001b[0m in \u001b[0;36m<module>\u001b[0;34m()\u001b[0m\n\u001b[1;32m     40\u001b[0m         \u001b[0mprint\u001b[0m\u001b[0;34m(\u001b[0m\u001b[0marr\u001b[0m\u001b[0;34m[\u001b[0m\u001b[0mi\u001b[0m\u001b[0;34m]\u001b[0m\u001b[0;34m)\u001b[0m\u001b[0;34m,\u001b[0m\u001b[0;34m\u001b[0m\u001b[0;34m\u001b[0m\u001b[0m\n\u001b[1;32m     41\u001b[0m \u001b[0;34m\u001b[0m\u001b[0m\n\u001b[0;32m---> 42\u001b[0;31m \u001b[0mshellSort\u001b[0m\u001b[0;34m(\u001b[0m\u001b[0marr\u001b[0m\u001b[0;34m)\u001b[0m\u001b[0;34m\u001b[0m\u001b[0;34m\u001b[0m\u001b[0m\n\u001b[0m\u001b[1;32m     43\u001b[0m \u001b[0;34m\u001b[0m\u001b[0m\n\u001b[1;32m     44\u001b[0m \u001b[0mprint\u001b[0m \u001b[0;34m(\u001b[0m\u001b[0;34m\"\\nArray after sorting:\"\u001b[0m\u001b[0;34m)\u001b[0m\u001b[0;34m\u001b[0m\u001b[0;34m\u001b[0m\u001b[0m\n",
            "\u001b[0;32m<ipython-input-18-e40d97f363fb>\u001b[0m in \u001b[0;36mshellSort\u001b[0;34m(arr)\u001b[0m\n\u001b[1;32m     14\u001b[0m         \u001b[0;32mwhile\u001b[0m \u001b[0mgap\u001b[0m \u001b[0;34m>\u001b[0m \u001b[0;36m0\u001b[0m\u001b[0;34m:\u001b[0m\u001b[0;34m\u001b[0m\u001b[0;34m\u001b[0m\u001b[0m\n\u001b[1;32m     15\u001b[0m \u001b[0;34m\u001b[0m\u001b[0m\n\u001b[0;32m---> 16\u001b[0;31m                 \u001b[0;32mfor\u001b[0m \u001b[0mi\u001b[0m \u001b[0;32min\u001b[0m \u001b[0mrange\u001b[0m\u001b[0;34m(\u001b[0m\u001b[0mgap\u001b[0m\u001b[0;34m,\u001b[0m\u001b[0mn\u001b[0m\u001b[0;34m)\u001b[0m\u001b[0;34m:\u001b[0m\u001b[0;34m\u001b[0m\u001b[0;34m\u001b[0m\u001b[0m\n\u001b[0m\u001b[1;32m     17\u001b[0m \u001b[0;34m\u001b[0m\u001b[0m\n\u001b[1;32m     18\u001b[0m                         \u001b[0;31m# add a[i] to the elements that have been gap sorted\u001b[0m\u001b[0;34m\u001b[0m\u001b[0;34m\u001b[0m\u001b[0;34m\u001b[0m\u001b[0m\n",
            "\u001b[0;31mTypeError\u001b[0m: 'float' object cannot be interpreted as an integer"
          ]
        }
      ]
    },
    {
      "cell_type": "code",
      "metadata": {
        "id": "U0SCisr9g9nu"
      },
      "source": [
        ""
      ],
      "execution_count": null,
      "outputs": []
    }
  ]
}