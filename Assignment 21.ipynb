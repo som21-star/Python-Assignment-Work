{
  "nbformat": 4,
  "nbformat_minor": 0,
  "metadata": {
    "colab": {
      "name": "Untitled44.ipynb",
      "provenance": []
    },
    "kernelspec": {
      "name": "python3",
      "display_name": "Python 3"
    },
    "language_info": {
      "name": "python"
    }
  },
  "cells": [
    {
      "cell_type": "code",
      "metadata": {
        "colab": {
          "base_uri": "https://localhost:8080/"
        },
        "id": "uN0H4HAcrAZk",
        "outputId": "26986249-482e-4e38-83a5-23c601e6cd71"
      },
      "source": [
        "#Write a Python program to find those numbers which are divisible by 7\n",
        "#and multiple of 5, between 1500 and 2700 (both included).\n",
        "nl=[]\n",
        "for x in range(1500, 2701):\n",
        "    if (x%7==0) and (x%5==0):\n",
        "        nl.append(str(x))\n",
        "print (','.join(nl))\n"
      ],
      "execution_count": 1,
      "outputs": [
        {
          "output_type": "stream",
          "text": [
            "1505,1540,1575,1610,1645,1680,1715,1750,1785,1820,1855,1890,1925,1960,1995,2030,2065,2100,2135,2170,2205,2240,2275,2310,2345,2380,2415,2450,2485,2520,2555,2590,2625,2660,2695\n"
          ],
          "name": "stdout"
        }
      ]
    },
    {
      "cell_type": "code",
      "metadata": {
        "colab": {
          "base_uri": "https://localhost:8080/"
        },
        "id": "UiB8w4rarOvb",
        "outputId": "bcd5073e-b182-466b-c893-082535f5da83"
      },
      "source": [
        "#Write a Python program that accepts a word from the user and reverse it.\n",
        "word = input(\"Input a word to reverse: \")\n",
        "\n",
        "for char in range(len(word) - 1, -1, -1):\n",
        "  print(word[char], end=\"\")\n",
        "print(\"\\n\")\n"
      ],
      "execution_count": 2,
      "outputs": [
        {
          "output_type": "stream",
          "text": [
            "Input a word to reverse: kite\n",
            "etik\n",
            "\n"
          ],
          "name": "stdout"
        }
      ]
    },
    {
      "cell_type": "code",
      "metadata": {
        "colab": {
          "base_uri": "https://localhost:8080/"
        },
        "id": "qt3R_-4grcKj",
        "outputId": "cd9ac29a-c5a5-4998-c08c-fff4d6a97ea1"
      },
      "source": [
        "#Write a Python program to calculate a dog&#39;s age in dog&#39;s years.  Note:\n",
        "#For the first two years, a dog year is equal to 10.5 human years. After\n",
        "#that, each dog year equals 4 human years.\n",
        "h_age = int(input(\"Input a dog's age in human years: \"))\n",
        "\n",
        "if h_age < 0:\n",
        "\tprint(\"Age must be positive number.\")\n",
        "\texit()\n",
        "elif h_age <= 2:\n",
        "\td_age = h_age * 10.5\n",
        "else:\n",
        "\td_age = 21 + (h_age - 2)*4\n",
        "\n",
        "print(\"The dog's age in dog's years is\", d_age)\n"
      ],
      "execution_count": 3,
      "outputs": [
        {
          "output_type": "stream",
          "text": [
            "Input a dog's age in human years: 12\n",
            "The dog's age in dog's years is 61\n"
          ],
          "name": "stdout"
        }
      ]
    },
    {
      "cell_type": "code",
      "metadata": {
        "colab": {
          "base_uri": "https://localhost:8080/"
        },
        "id": "xxUqPC8SruwG",
        "outputId": "34133755-39f4-43c1-f984-57fc69ff1206"
      },
      "source": [
        "#Write a Python program to check a triangle is equilateral, isosceles or scalene\n",
        "print(\"Input lengths of the triangle sides: \")\n",
        "x = int(input(\"x: \"))\n",
        "y = int(input(\"y: \"))\n",
        "z = int(input(\"z: \"))\n",
        "\n",
        "if x == y == z:\n",
        "\tprint(\"Equilateral triangle\")\n",
        "elif x==y or y==z or z==x:\n",
        "\tprint(\"isosceles triangle\")\n",
        "else:\n",
        "\tprint(\"Scalene triangle\")\n"
      ],
      "execution_count": 4,
      "outputs": [
        {
          "output_type": "stream",
          "text": [
            "Input lengths of the triangle sides: \n",
            "x: 3\n",
            "y: 4\n",
            "z: 6\n",
            "Scalene triangle\n"
          ],
          "name": "stdout"
        }
      ]
    },
    {
      "cell_type": "code",
      "metadata": {
        "colab": {
          "base_uri": "https://localhost:8080/"
        },
        "id": "DSGM2Bm4r-vZ",
        "outputId": "cfcb80c5-86b6-443c-8f65-127faac5160a"
      },
      "source": [
        "#Write a Python program to detect the number of local variables declared in a function.\n",
        "def abc():\n",
        "    x = 1\n",
        "    y = 2\n",
        "    str1= \"w3resource\"\n",
        "    print(\"Python Exercises\")\n",
        "\n",
        "print(abc.__code__.co_nlocals)\n"
      ],
      "execution_count": 5,
      "outputs": [
        {
          "output_type": "stream",
          "text": [
            "3\n"
          ],
          "name": "stdout"
        }
      ]
    },
    {
      "cell_type": "code",
      "metadata": {
        "colab": {
          "base_uri": "https://localhost:8080/"
        },
        "id": "Br3qCw7lsVtT",
        "outputId": "0233a9b6-64d1-4f23-fe7e-da1891eb3efb"
      },
      "source": [
        "#Write a Python program to execute a string containing Python code.\n",
        "mycode = 'print(\"hello world\")'\n",
        "code = \"\"\"\n",
        "def mutiply(x,y):\n",
        "    return x*y\n",
        "\n",
        "print('Multiply of 2 and 3 is: ',mutiply(2,3))\n",
        "\"\"\"\n",
        "exec(mycode)\n",
        "exec(code)\n"
      ],
      "execution_count": 6,
      "outputs": [
        {
          "output_type": "stream",
          "text": [
            "hello world\n",
            "Multiply of 2 and 3 is:  6\n"
          ],
          "name": "stdout"
        }
      ]
    },
    {
      "cell_type": "code",
      "metadata": {
        "colab": {
          "base_uri": "https://localhost:8080/"
        },
        "id": "bLACSU7WscuY",
        "outputId": "308463cc-a945-4256-8548-c59d79425599"
      },
      "source": [
        "#Write a Python program to convert a given list of tuples to a list of strings using map function.\n",
        "# Python3 code to demonstrate\n",
        "# conversion of list of tuple to list of list\n",
        "# using list comprehension + join()\n",
        "\n",
        "# initializing list\n",
        "test_list = [('G', 'E', 'E', 'K', 'S'), ('F', 'O', 'R'),\n",
        "\t\t\t\t\t\t\t('G', 'E', 'E', 'K', 'S')]\n",
        "\n",
        "# printing the original list\n",
        "print (\"The original list is : \" + str(test_list))\n",
        "\n",
        "# using list comprehension + join()\n",
        "# conversion of list of tuple to list of list\n",
        "res = [''.join(i) for i in test_list]\n",
        "\n",
        "# printing result\n",
        "print (\"The list after conversion to list of string : \" + str(res))\n"
      ],
      "execution_count": 7,
      "outputs": [
        {
          "output_type": "stream",
          "text": [
            "The original list is : [('G', 'E', 'E', 'K', 'S'), ('F', 'O', 'R'), ('G', 'E', 'E', 'K', 'S')]\n",
            "The list after conversion to list of string : ['GEEKS', 'FOR', 'GEEKS']\n"
          ],
          "name": "stdout"
        }
      ]
    },
    {
      "cell_type": "code",
      "metadata": {
        "colab": {
          "base_uri": "https://localhost:8080/"
        },
        "id": "Z-L9-mZCsmZr",
        "outputId": "6c783cdf-3156-4eef-d26f-bb2b8401300f"
      },
      "source": [
        "#Write a Python program to split a given dictionary of lists into list of dictionaries using map function.\n",
        "def list_of_dicts(marks):\n",
        "    result = map(dict, zip(*[[(key, val) for val in value] for key, value in marks.items()]))\n",
        "    return list(result)\n",
        "marks = {'Science': [88, 89, 62, 95], 'Language': [77, 78, 84, 80]}\n",
        "print(\"Original dictionary of lists:\")\n",
        "print(marks)\n",
        "print(\"\\nSplit said dictionary of lists into list of dictionaries:\")\n",
        "print(list_of_dicts(marks))\n"
      ],
      "execution_count": 8,
      "outputs": [
        {
          "output_type": "stream",
          "text": [
            "Original dictionary of lists:\n",
            "{'Science': [88, 89, 62, 95], 'Language': [77, 78, 84, 80]}\n",
            "\n",
            "Split said dictionary of lists into list of dictionaries:\n",
            "[{'Science': 88, 'Language': 77}, {'Science': 89, 'Language': 78}, {'Science': 62, 'Language': 84}, {'Science': 95, 'Language': 80}]\n"
          ],
          "name": "stdout"
        }
      ]
    },
    {
      "cell_type": "code",
      "metadata": {
        "colab": {
          "base_uri": "https://localhost:8080/",
          "height": 229
        },
        "id": "Z2ykBoo-svt0",
        "outputId": "7565ef4e-0f77-4529-d24b-32376246d307"
      },
      "source": [
        "#Write a Python program to scan a specified directory and identify the sub directories and files.\n",
        "import os\n",
        "root = 'g:\\\\testpath\\\\'\n",
        "for entry in os.scandir(root):\n",
        "   if entry.is_dir():\n",
        "       typ = 'dir'\n",
        "   elif entry.is_file():\n",
        "       typ = 'file'\n",
        "   elif entry.is_symlink():\n",
        "       typ = 'link'\n",
        "   else:\n",
        "       typ = 'unknown'\n",
        "   print('{name} {typ}'.format(\n",
        "       name=entry.name,\n",
        "       typ=typ,\n",
        "   ))\n"
      ],
      "execution_count": 9,
      "outputs": [
        {
          "output_type": "error",
          "ename": "FileNotFoundError",
          "evalue": "ignored",
          "traceback": [
            "\u001b[0;31m---------------------------------------------------------------------------\u001b[0m",
            "\u001b[0;31mFileNotFoundError\u001b[0m                         Traceback (most recent call last)",
            "\u001b[0;32m<ipython-input-9-6b55136da851>\u001b[0m in \u001b[0;36m<module>\u001b[0;34m()\u001b[0m\n\u001b[1;32m      2\u001b[0m \u001b[0;32mimport\u001b[0m \u001b[0mos\u001b[0m\u001b[0;34m\u001b[0m\u001b[0;34m\u001b[0m\u001b[0m\n\u001b[1;32m      3\u001b[0m \u001b[0mroot\u001b[0m \u001b[0;34m=\u001b[0m \u001b[0;34m'g:\\\\testpath\\\\'\u001b[0m\u001b[0;34m\u001b[0m\u001b[0;34m\u001b[0m\u001b[0m\n\u001b[0;32m----> 4\u001b[0;31m \u001b[0;32mfor\u001b[0m \u001b[0mentry\u001b[0m \u001b[0;32min\u001b[0m \u001b[0mos\u001b[0m\u001b[0;34m.\u001b[0m\u001b[0mscandir\u001b[0m\u001b[0;34m(\u001b[0m\u001b[0mroot\u001b[0m\u001b[0;34m)\u001b[0m\u001b[0;34m:\u001b[0m\u001b[0;34m\u001b[0m\u001b[0;34m\u001b[0m\u001b[0m\n\u001b[0m\u001b[1;32m      5\u001b[0m    \u001b[0;32mif\u001b[0m \u001b[0mentry\u001b[0m\u001b[0;34m.\u001b[0m\u001b[0mis_dir\u001b[0m\u001b[0;34m(\u001b[0m\u001b[0;34m)\u001b[0m\u001b[0;34m:\u001b[0m\u001b[0;34m\u001b[0m\u001b[0;34m\u001b[0m\u001b[0m\n\u001b[1;32m      6\u001b[0m        \u001b[0mtyp\u001b[0m \u001b[0;34m=\u001b[0m \u001b[0;34m'dir'\u001b[0m\u001b[0;34m\u001b[0m\u001b[0;34m\u001b[0m\u001b[0m\n",
            "\u001b[0;31mFileNotFoundError\u001b[0m: [Errno 2] No such file or directory: 'g:\\\\testpath\\\\'"
          ]
        }
      ]
    },
    {
      "cell_type": "code",
      "metadata": {
        "id": "YBnhmpJrs6N8"
      },
      "source": [
        "#Write a Python program to parse a string representing time and returns the structure time.\n"
      ],
      "execution_count": null,
      "outputs": []
    },
    {
      "cell_type": "code",
      "metadata": {
        "colab": {
          "base_uri": "https://localhost:8080/"
        },
        "id": "b_YWw0b9tcDa",
        "outputId": "82351345-68b5-4d42-c1e7-e23ecaeb1fca"
      },
      "source": [
        "import requests\n",
        "payload = {'key1': 'value1', 'key2': 'value2'}\n",
        "print(\"Parameters: \",payload)\n",
        "r = requests.get('https://httpbin.org/get', params=payload)\n",
        "print(\"Print the url to check the URL has been correctly encoded or not!\")\n",
        "print(r.url)\n",
        "print(\"\\nPass a list of items as a value:\")\n",
        "payload = {'key1': 'value1', 'key2': ['value2', 'value3']}\n",
        "print(\"Parameters: \",payload)\n",
        "r = requests.get('https://httpbin.org/get', params=payload)\n",
        "print(\"Print the url to check the URL has been correctly encoded or not!\")\n",
        "print(r.url)\n"
      ],
      "execution_count": 10,
      "outputs": [
        {
          "output_type": "stream",
          "text": [
            "Parameters:  {'key1': 'value1', 'key2': 'value2'}\n",
            "Print the url to check the URL has been correctly encoded or not!\n",
            "https://httpbin.org/get?key1=value1&key2=value2\n",
            "\n",
            "Pass a list of items as a value:\n",
            "Parameters:  {'key1': 'value1', 'key2': ['value2', 'value3']}\n",
            "Print the url to check the URL has been correctly encoded or not!\n",
            "https://httpbin.org/get?key1=value1&key2=value2&key2=value3\n"
          ],
          "name": "stdout"
        }
      ]
    },
    {
      "cell_type": "code",
      "metadata": {
        "colab": {
          "base_uri": "https://localhost:8080/",
          "height": 467
        },
        "id": "dqjHYTz6tdEM",
        "outputId": "26ce995d-cbbb-463b-8e5a-71d00fec4505"
      },
      "source": [
        "#Write a Python code to send a request to a web page, and print the\n",
        "#information of headers. Also parse these values and print key-value\n",
        "#pairs holding various information.\n",
        "import requests\n",
        "r = requests.get('https://api.github.com/')\n",
        "response = r.headers\n",
        "print(\"Headers information of the said response:\")\n",
        "print(response)\n",
        "print(\"\\nVarious Key-value pairs information of the said resource and request:\")\n",
        "\n",
        "print(\"Date: \",r.headers['date'])\n",
        "print(\"server: \",r.headers['server'])\n",
        "print(\"status: \",r.headers['status'])\n",
        "print(\"cache-control: \",r.headers['cache-control'])\n",
        "print(\"vary: \",r.headers['vary'])\n",
        "print(\"x-github-media-type: \",r.headers['x-github-media-type'])\n",
        "print(\"access-control-expose-headers: \",r.headers['access-control-expose-headers'])\n",
        "print(\"strict-transport-security: \",r.headers['strict-transport-security'])\n",
        "print(\"x-content-type-options: \",r.headers['x-content-type-options'])\n",
        "print(\"x-xss-protection: \",r.headers['x-xss-protection'])\n",
        "print(\"referrer-policy: \",r.headers['referrer-policy'])\n",
        "print(\"content-security-policy: \",r.headers['content-security-policy'])\n",
        "print(\"content-encoding: \",r.headers['content-encoding'])\n",
        "print(\"X-Ratelimit-Remaining: \",r.headers['X-Ratelimit-Remaining'])\n",
        "print(\"X-Ratelimit-Reset: \",r.headers['X-Ratelimit-Reset'])\n",
        "print(\"X-Ratelimit-Used: \",r.headers['X-Ratelimit-Used'])\n",
        "print(\"Accept-Ranges:\",r.headers['Accept-Ranges'])\n",
        "print(\"X-GitHub-Request-Id:\",r.headers['X-GitHub-Request-Id'])\n"
      ],
      "execution_count": 11,
      "outputs": [
        {
          "output_type": "stream",
          "text": [
            "Headers information of the said response:\n",
            "{'Server': 'GitHub.com', 'Date': 'Fri, 02 Jul 2021 09:28:02 GMT', 'Cache-Control': 'public, max-age=60, s-maxage=60', 'Vary': 'Accept, Accept-Encoding, Accept, X-Requested-With', 'ETag': '\"27278c3efffccc4a7be1bf315653b901b14f2989b2c2600d7cc2e90a97ffbf60\"', 'Access-Control-Expose-Headers': 'ETag, Link, Location, Retry-After, X-GitHub-OTP, X-RateLimit-Limit, X-RateLimit-Remaining, X-RateLimit-Used, X-RateLimit-Resource, X-RateLimit-Reset, X-OAuth-Scopes, X-Accepted-OAuth-Scopes, X-Poll-Interval, X-GitHub-Media-Type, Deprecation, Sunset', 'Access-Control-Allow-Origin': '*', 'Strict-Transport-Security': 'max-age=31536000; includeSubdomains; preload', 'X-Frame-Options': 'deny', 'X-Content-Type-Options': 'nosniff', 'X-XSS-Protection': '0', 'Referrer-Policy': 'origin-when-cross-origin, strict-origin-when-cross-origin', 'Content-Security-Policy': \"default-src 'none'\", 'Content-Type': 'application/json; charset=utf-8', 'X-GitHub-Media-Type': 'github.v3; format=json', 'Content-Encoding': 'gzip', 'X-RateLimit-Limit': '60', 'X-RateLimit-Remaining': '59', 'X-RateLimit-Reset': '1625221689', 'X-RateLimit-Resource': 'core', 'X-RateLimit-Used': '1', 'Accept-Ranges': 'bytes', 'Content-Length': '512', 'X-GitHub-Request-Id': 'E344:2775:2A836:2B82E:60DEDC29'}\n",
            "\n",
            "Various Key-value pairs information of the said resource and request:\n",
            "Date:  Fri, 02 Jul 2021 09:28:02 GMT\n",
            "server:  GitHub.com\n"
          ],
          "name": "stdout"
        },
        {
          "output_type": "error",
          "ename": "KeyError",
          "evalue": "ignored",
          "traceback": [
            "\u001b[0;31m---------------------------------------------------------------------------\u001b[0m",
            "\u001b[0;31mKeyError\u001b[0m                                  Traceback (most recent call last)",
            "\u001b[0;32m<ipython-input-11-9759651eff53>\u001b[0m in \u001b[0;36m<module>\u001b[0;34m()\u001b[0m\n\u001b[1;32m     11\u001b[0m \u001b[0mprint\u001b[0m\u001b[0;34m(\u001b[0m\u001b[0;34m\"Date: \"\u001b[0m\u001b[0;34m,\u001b[0m\u001b[0mr\u001b[0m\u001b[0;34m.\u001b[0m\u001b[0mheaders\u001b[0m\u001b[0;34m[\u001b[0m\u001b[0;34m'date'\u001b[0m\u001b[0;34m]\u001b[0m\u001b[0;34m)\u001b[0m\u001b[0;34m\u001b[0m\u001b[0;34m\u001b[0m\u001b[0m\n\u001b[1;32m     12\u001b[0m \u001b[0mprint\u001b[0m\u001b[0;34m(\u001b[0m\u001b[0;34m\"server: \"\u001b[0m\u001b[0;34m,\u001b[0m\u001b[0mr\u001b[0m\u001b[0;34m.\u001b[0m\u001b[0mheaders\u001b[0m\u001b[0;34m[\u001b[0m\u001b[0;34m'server'\u001b[0m\u001b[0;34m]\u001b[0m\u001b[0;34m)\u001b[0m\u001b[0;34m\u001b[0m\u001b[0;34m\u001b[0m\u001b[0m\n\u001b[0;32m---> 13\u001b[0;31m \u001b[0mprint\u001b[0m\u001b[0;34m(\u001b[0m\u001b[0;34m\"status: \"\u001b[0m\u001b[0;34m,\u001b[0m\u001b[0mr\u001b[0m\u001b[0;34m.\u001b[0m\u001b[0mheaders\u001b[0m\u001b[0;34m[\u001b[0m\u001b[0;34m'status'\u001b[0m\u001b[0;34m]\u001b[0m\u001b[0;34m)\u001b[0m\u001b[0;34m\u001b[0m\u001b[0;34m\u001b[0m\u001b[0m\n\u001b[0m\u001b[1;32m     14\u001b[0m \u001b[0mprint\u001b[0m\u001b[0;34m(\u001b[0m\u001b[0;34m\"cache-control: \"\u001b[0m\u001b[0;34m,\u001b[0m\u001b[0mr\u001b[0m\u001b[0;34m.\u001b[0m\u001b[0mheaders\u001b[0m\u001b[0;34m[\u001b[0m\u001b[0;34m'cache-control'\u001b[0m\u001b[0;34m]\u001b[0m\u001b[0;34m)\u001b[0m\u001b[0;34m\u001b[0m\u001b[0;34m\u001b[0m\u001b[0m\n\u001b[1;32m     15\u001b[0m \u001b[0mprint\u001b[0m\u001b[0;34m(\u001b[0m\u001b[0;34m\"vary: \"\u001b[0m\u001b[0;34m,\u001b[0m\u001b[0mr\u001b[0m\u001b[0;34m.\u001b[0m\u001b[0mheaders\u001b[0m\u001b[0;34m[\u001b[0m\u001b[0;34m'vary'\u001b[0m\u001b[0;34m]\u001b[0m\u001b[0;34m)\u001b[0m\u001b[0;34m\u001b[0m\u001b[0;34m\u001b[0m\u001b[0m\n",
            "\u001b[0;32m/usr/local/lib/python3.7/dist-packages/requests/structures.py\u001b[0m in \u001b[0;36m__getitem__\u001b[0;34m(self, key)\u001b[0m\n\u001b[1;32m     52\u001b[0m \u001b[0;34m\u001b[0m\u001b[0m\n\u001b[1;32m     53\u001b[0m     \u001b[0;32mdef\u001b[0m \u001b[0m__getitem__\u001b[0m\u001b[0;34m(\u001b[0m\u001b[0mself\u001b[0m\u001b[0;34m,\u001b[0m \u001b[0mkey\u001b[0m\u001b[0;34m)\u001b[0m\u001b[0;34m:\u001b[0m\u001b[0;34m\u001b[0m\u001b[0;34m\u001b[0m\u001b[0m\n\u001b[0;32m---> 54\u001b[0;31m         \u001b[0;32mreturn\u001b[0m \u001b[0mself\u001b[0m\u001b[0;34m.\u001b[0m\u001b[0m_store\u001b[0m\u001b[0;34m[\u001b[0m\u001b[0mkey\u001b[0m\u001b[0;34m.\u001b[0m\u001b[0mlower\u001b[0m\u001b[0;34m(\u001b[0m\u001b[0;34m)\u001b[0m\u001b[0;34m]\u001b[0m\u001b[0;34m[\u001b[0m\u001b[0;36m1\u001b[0m\u001b[0;34m]\u001b[0m\u001b[0;34m\u001b[0m\u001b[0;34m\u001b[0m\u001b[0m\n\u001b[0m\u001b[1;32m     55\u001b[0m \u001b[0;34m\u001b[0m\u001b[0m\n\u001b[1;32m     56\u001b[0m     \u001b[0;32mdef\u001b[0m \u001b[0m__delitem__\u001b[0m\u001b[0;34m(\u001b[0m\u001b[0mself\u001b[0m\u001b[0;34m,\u001b[0m \u001b[0mkey\u001b[0m\u001b[0;34m)\u001b[0m\u001b[0;34m:\u001b[0m\u001b[0;34m\u001b[0m\u001b[0;34m\u001b[0m\u001b[0m\n",
            "\u001b[0;31mKeyError\u001b[0m: 'status'"
          ]
        }
      ]
    },
    {
      "cell_type": "code",
      "metadata": {
        "colab": {
          "base_uri": "https://localhost:8080/"
        },
        "id": "YRC4ftzEtmuG",
        "outputId": "903033cd-647c-4afe-ada8-779f20d2d73e"
      },
      "source": [
        "##Write a Python program to write a Python dictionary to a csv file. After\n",
        "#writing the CSV file read the CSV file and display the content.\n",
        "import csv\n",
        "csv_columns = ['id','Column1', 'Column2', 'Column3', 'Column4', 'Column5']\n",
        "dict_data = {'id':['1', '2', '3'],\n",
        "    'Column1':[33, 25, 56],\n",
        "    'Column2':[35, 30, 30],\n",
        "    'Column3':[21, 40, 55],\n",
        "    'Column4':[71, 25, 55],\n",
        "    'Column5':[10, 10, 40], }\n",
        "csv_file = \"temp.csv\"\n",
        "try:\n",
        "   with open(csv_file, 'w') as csvfile:\n",
        "       writer = csv.DictWriter(csvfile, fieldnames=csv_columns)\n",
        "       writer.writeheader()\n",
        "       for data in dict_data:\n",
        "           writer.writerow(dict_data)\n",
        "except IOError:\n",
        "   print(\"I/O error\")\n",
        "data = csv.DictReader(open(csv_file))\n",
        "print(\"CSV file as a dictionary:\\n\")\n",
        "for row in data:\n",
        "   print(row)\n"
      ],
      "execution_count": 12,
      "outputs": [
        {
          "output_type": "stream",
          "text": [
            "CSV file as a dictionary:\n",
            "\n",
            "OrderedDict([('id', \"['1', '2', '3']\"), ('Column1', '[33, 25, 56]'), ('Column2', '[35, 30, 30]'), ('Column3', '[21, 40, 55]'), ('Column4', '[71, 25, 55]'), ('Column5', '[10, 10, 40]')])\n",
            "OrderedDict([('id', \"['1', '2', '3']\"), ('Column1', '[33, 25, 56]'), ('Column2', '[35, 30, 30]'), ('Column3', '[21, 40, 55]'), ('Column4', '[71, 25, 55]'), ('Column5', '[10, 10, 40]')])\n",
            "OrderedDict([('id', \"['1', '2', '3']\"), ('Column1', '[33, 25, 56]'), ('Column2', '[35, 30, 30]'), ('Column3', '[21, 40, 55]'), ('Column4', '[71, 25, 55]'), ('Column5', '[10, 10, 40]')])\n",
            "OrderedDict([('id', \"['1', '2', '3']\"), ('Column1', '[33, 25, 56]'), ('Column2', '[35, 30, 30]'), ('Column3', '[21, 40, 55]'), ('Column4', '[71, 25, 55]'), ('Column5', '[10, 10, 40]')])\n",
            "OrderedDict([('id', \"['1', '2', '3']\"), ('Column1', '[33, 25, 56]'), ('Column2', '[35, 30, 30]'), ('Column3', '[21, 40, 55]'), ('Column4', '[71, 25, 55]'), ('Column5', '[10, 10, 40]')])\n",
            "OrderedDict([('id', \"['1', '2', '3']\"), ('Column1', '[33, 25, 56]'), ('Column2', '[35, 30, 30]'), ('Column3', '[21, 40, 55]'), ('Column4', '[71, 25, 55]'), ('Column5', '[10, 10, 40]')])\n"
          ],
          "name": "stdout"
        }
      ]
    },
    {
      "cell_type": "code",
      "metadata": {
        "colab": {
          "base_uri": "https://localhost:8080/",
          "height": 229
        },
        "id": "DHQ4Yx3ItvvO",
        "outputId": "73d9fa47-745e-4bc0-b94f-0d27c5a55750"
      },
      "source": [
        "#Write a Python program that reads each row of a given csv file and skip\n",
        "#the header of the file. Also print the number of rows and the field\n",
        "#names.\n",
        "import csv\n",
        "fields = []\n",
        "rows = []\n",
        "with open('departments.csv', newline='') as csvfile:\n",
        " data = csv.reader(csvfile, delimiter=' ', quotechar=',')\n",
        " # Following command skips the first row of the CSV file.\n",
        " fields = next(data)\n",
        " for row in data:\n",
        "   print(', '.join(row))\n",
        "print(\"\\nTotal no. of rows: %d\"%(data.line_num))\n",
        "print('Field names are:')\n",
        "print(', '.join(field for field in fields))\n"
      ],
      "execution_count": 13,
      "outputs": [
        {
          "output_type": "error",
          "ename": "FileNotFoundError",
          "evalue": "ignored",
          "traceback": [
            "\u001b[0;31m---------------------------------------------------------------------------\u001b[0m",
            "\u001b[0;31mFileNotFoundError\u001b[0m                         Traceback (most recent call last)",
            "\u001b[0;32m<ipython-input-13-2161183a0cac>\u001b[0m in \u001b[0;36m<module>\u001b[0;34m()\u001b[0m\n\u001b[1;32m      5\u001b[0m \u001b[0mfields\u001b[0m \u001b[0;34m=\u001b[0m \u001b[0;34m[\u001b[0m\u001b[0;34m]\u001b[0m\u001b[0;34m\u001b[0m\u001b[0;34m\u001b[0m\u001b[0m\n\u001b[1;32m      6\u001b[0m \u001b[0mrows\u001b[0m \u001b[0;34m=\u001b[0m \u001b[0;34m[\u001b[0m\u001b[0;34m]\u001b[0m\u001b[0;34m\u001b[0m\u001b[0;34m\u001b[0m\u001b[0m\n\u001b[0;32m----> 7\u001b[0;31m \u001b[0;32mwith\u001b[0m \u001b[0mopen\u001b[0m\u001b[0;34m(\u001b[0m\u001b[0;34m'departments.csv'\u001b[0m\u001b[0;34m,\u001b[0m \u001b[0mnewline\u001b[0m\u001b[0;34m=\u001b[0m\u001b[0;34m''\u001b[0m\u001b[0;34m)\u001b[0m \u001b[0;32mas\u001b[0m \u001b[0mcsvfile\u001b[0m\u001b[0;34m:\u001b[0m\u001b[0;34m\u001b[0m\u001b[0;34m\u001b[0m\u001b[0m\n\u001b[0m\u001b[1;32m      8\u001b[0m  \u001b[0mdata\u001b[0m \u001b[0;34m=\u001b[0m \u001b[0mcsv\u001b[0m\u001b[0;34m.\u001b[0m\u001b[0mreader\u001b[0m\u001b[0;34m(\u001b[0m\u001b[0mcsvfile\u001b[0m\u001b[0;34m,\u001b[0m \u001b[0mdelimiter\u001b[0m\u001b[0;34m=\u001b[0m\u001b[0;34m' '\u001b[0m\u001b[0;34m,\u001b[0m \u001b[0mquotechar\u001b[0m\u001b[0;34m=\u001b[0m\u001b[0;34m','\u001b[0m\u001b[0;34m)\u001b[0m\u001b[0;34m\u001b[0m\u001b[0;34m\u001b[0m\u001b[0m\n\u001b[1;32m      9\u001b[0m  \u001b[0;31m# Following command skips the first row of the CSV file.\u001b[0m\u001b[0;34m\u001b[0m\u001b[0;34m\u001b[0m\u001b[0;34m\u001b[0m\u001b[0m\n",
            "\u001b[0;31mFileNotFoundError\u001b[0m: [Errno 2] No such file or directory: 'departments.csv'"
          ]
        }
      ]
    },
    {
      "cell_type": "code",
      "metadata": {
        "colab": {
          "base_uri": "https://localhost:8080/"
        },
        "id": "C5nQqp3nt8Cp",
        "outputId": "0ce91f22-13ed-4aa6-c12c-e6c2dbeaa562"
      },
      "source": [
        "#Write a Python program to check that a string contains only a certain set\n",
        "#of characters (in this case a-z, A-Z and 0-9)\n",
        "import re\n",
        "def is_allowed_specific_char(string):\n",
        "    charRe = re.compile(r'[^a-zA-Z0-9.]')\n",
        "    string = charRe.search(string)\n",
        "    return not bool(string)\n",
        "\n",
        "print(is_allowed_specific_char(\"ABCDEFabcdef123450\")) \n",
        "print(is_allowed_specific_char(\"*&%@#!}{\"))\n"
      ],
      "execution_count": 14,
      "outputs": [
        {
          "output_type": "stream",
          "text": [
            "True\n",
            "False\n"
          ],
          "name": "stdout"
        }
      ]
    },
    {
      "cell_type": "code",
      "metadata": {
        "id": "6G769wpOuFhH"
      },
      "source": [
        ""
      ],
      "execution_count": null,
      "outputs": []
    }
  ]
}