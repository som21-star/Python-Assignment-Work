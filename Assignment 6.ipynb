{
  "nbformat": 4,
  "nbformat_minor": 0,
  "metadata": {
    "colab": {
      "name": "Untitled26.ipynb",
      "provenance": []
    },
    "kernelspec": {
      "name": "python3",
      "display_name": "Python 3"
    },
    "language_info": {
      "name": "python"
    }
  },
  "cells": [
    {
      "cell_type": "code",
      "metadata": {
        "colab": {
          "base_uri": "https://localhost:8080/"
        },
        "id": "REOTpRDemMuF",
        "outputId": "1c108ed6-6edf-458d-a9fa-5db9511b7a3e"
      },
      "source": [
        "#Python program to add two Matrices\n",
        "# Program to add two matrices using nested loop\n",
        "\n",
        "X = [[12,7,3],\n",
        "    [4 ,5,6],\n",
        "    [7 ,8,9]]\n",
        "\n",
        "Y = [[5,8,1],\n",
        "    [6,7,3],\n",
        "    [4,5,9]]\n",
        "\n",
        "result = [[0,0,0],\n",
        "         [0,0,0],\n",
        "         [0,0,0]]\n",
        "\n",
        "# iterate through rows\n",
        "for i in range(len(X)):\n",
        "   # iterate through columns\n",
        "   for j in range(len(X[0])):\n",
        "       result[i][j] = X[i][j] + Y[i][j]\n",
        "\n",
        "for r in result:\n",
        "   print(r)"
      ],
      "execution_count": 1,
      "outputs": [
        {
          "output_type": "stream",
          "text": [
            "[17, 15, 4]\n",
            "[10, 12, 9]\n",
            "[11, 13, 18]\n"
          ],
          "name": "stdout"
        }
      ]
    },
    {
      "cell_type": "code",
      "metadata": {
        "colab": {
          "base_uri": "https://localhost:8080/"
        },
        "id": "jHyqV7nUmS2P",
        "outputId": "76b95d59-974e-410f-edb5-3c47e16a9872"
      },
      "source": [
        "# Program to multiply two matrices using nested loops\n",
        "\n",
        "# 3x3 matrix\n",
        "X = [[12,7,3],\n",
        "    [4 ,5,6],\n",
        "    [7 ,8,9]]\n",
        "# 3x4 matrix\n",
        "Y = [[5,8,1,2],\n",
        "    [6,7,3,0],\n",
        "    [4,5,9,1]]\n",
        "# result is 3x4\n",
        "result = [[0,0,0,0],\n",
        "         [0,0,0,0],\n",
        "         [0,0,0,0]]\n",
        "\n",
        "# iterate through rows of X\n",
        "for i in range(len(X)):\n",
        "   # iterate through columns of Y\n",
        "   for j in range(len(Y[0])):\n",
        "       # iterate through rows of Y\n",
        "       for k in range(len(Y)):\n",
        "           result[i][j] += X[i][k] * Y[k][j]\n",
        "\n",
        "for r in result:\n",
        "   print(r)\n"
      ],
      "execution_count": 2,
      "outputs": [
        {
          "output_type": "stream",
          "text": [
            "[114, 160, 60, 27]\n",
            "[74, 97, 73, 14]\n",
            "[119, 157, 112, 23]\n"
          ],
          "name": "stdout"
        }
      ]
    },
    {
      "cell_type": "code",
      "metadata": {
        "colab": {
          "base_uri": "https://localhost:8080/"
        },
        "id": "qc3HhvDnmYZ4",
        "outputId": "0ee3ef4a-c84a-4b55-b591-7334aee790db"
      },
      "source": [
        "# Program to multiply two matrices (vectorized implementation)\n",
        "\n",
        "# Program to multiply two matrices (vectorized implementation)\n",
        "import numpy as np\n",
        "# take a 3x3 matrix\n",
        "A = [[12, 7, 3],\n",
        "\t[4, 5, 6],\n",
        "\t[7, 8, 9]]\n",
        "\n",
        "# take a 3x4 matrix\n",
        "B = [[5, 8, 1, 2],\n",
        "\t[6, 7, 3, 0],\n",
        "\t[4, 5, 9, 1]]\n",
        "\n",
        "# result will be 3x4\n",
        "\n",
        "result= [[0,0,0,0],\n",
        "\t\t[0,0,0,0],\n",
        "\t\t[0,0,0,0]]\n",
        "\n",
        "result = np.dot(A,B)\n",
        "\n",
        "for r in result:\n",
        "\tprint(r)\n"
      ],
      "execution_count": 3,
      "outputs": [
        {
          "output_type": "stream",
          "text": [
            "[114 160  60  27]\n",
            "[74 97 73 14]\n",
            "[119 157 112  23]\n"
          ],
          "name": "stdout"
        }
      ]
    },
    {
      "cell_type": "code",
      "metadata": {
        "colab": {
          "base_uri": "https://localhost:8080/"
        },
        "id": "7dWruuvGmozt",
        "outputId": "d847b293-e798-4604-f11c-8b918620fe45"
      },
      "source": [
        "# importing numpy as np\n",
        "import numpy as np\n",
        "\n",
        "\n",
        "# creating first matrix\n",
        "A = np.array([[1, 2], [3, 4]])\n",
        "\n",
        "# creating second matrix\n",
        "B = np.array([[4, 5], [6, 7]])\n",
        "\n",
        "print(\"Printing elements of first matrix\")\n",
        "print(A)\n",
        "print(\"Printing elements of second matrix\")\n",
        "print(B)\n",
        "\n",
        "# subtracting two matrix\n",
        "print(\"Subtraction of two matrix\")\n",
        "print(np.subtract(A, B))\n"
      ],
      "execution_count": 4,
      "outputs": [
        {
          "output_type": "stream",
          "text": [
            "Printing elements of first matrix\n",
            "[[1 2]\n",
            " [3 4]]\n",
            "Printing elements of second matrix\n",
            "[[4 5]\n",
            " [6 7]]\n",
            "Subtraction of two matrix\n",
            "[[-3 -3]\n",
            " [-3 -3]]\n"
          ],
          "name": "stdout"
        }
      ]
    },
    {
      "cell_type": "code",
      "metadata": {
        "colab": {
          "base_uri": "https://localhost:8080/"
        },
        "id": "K4ibi8pImyxS",
        "outputId": "77c3ca55-61cd-4815-beea-7b7806119c0e"
      },
      "source": [
        "## You need to install numpy in order to import it\n",
        "# Numpy transpose returns similar result when\n",
        "# applied on 1D matrix\n",
        "import numpy\n",
        "matrix=[[1,2,3],[4,5,6]]\n",
        "print(matrix)\n",
        "print(\"\\n\")\n",
        "print(numpy.transpose(matrix))\n"
      ],
      "execution_count": 5,
      "outputs": [
        {
          "output_type": "stream",
          "text": [
            "[[1, 2, 3], [4, 5, 6]]\n",
            "\n",
            "\n",
            "[[1 4]\n",
            " [2 5]\n",
            " [3 6]]\n"
          ],
          "name": "stdout"
        }
      ]
    },
    {
      "cell_type": "code",
      "metadata": {
        "colab": {
          "base_uri": "https://localhost:8080/"
        },
        "id": "9RnuFpIYm7Bk",
        "outputId": "45a0ced0-a3a5-410c-d71f-dc0cf31f0223"
      },
      "source": [
        "# Python3 code to demonstrate\n",
        "# matrix creation of n * n\n",
        "# using list comprehension\n",
        "\n",
        "# initializing N\n",
        "N = 4\n",
        "\n",
        "# printing dimension\n",
        "print(\"The dimension : \" + str(N))\n",
        "\n",
        "# using list comprehension\n",
        "# matrix creation of n * n\n",
        "res = [list(range(1 + N * i, 1 + N * (i + 1)))\n",
        "\t\t\t\t\t\t\tfor i in range(N)]\n",
        "\n",
        "# print result\n",
        "print(\"The created matrix of N * N: \" + str(res))\n"
      ],
      "execution_count": 6,
      "outputs": [
        {
          "output_type": "stream",
          "text": [
            "The dimension : 4\n",
            "The created matrix of N * N: [[1, 2, 3, 4], [5, 6, 7, 8], [9, 10, 11, 12], [13, 14, 15, 16]]\n"
          ],
          "name": "stdout"
        }
      ]
    },
    {
      "cell_type": "code",
      "metadata": {
        "colab": {
          "base_uri": "https://localhost:8080/"
        },
        "id": "otxOlZKonrt0",
        "outputId": "070521ab-38e5-4cf7-c960-eeac440804c4"
      },
      "source": [
        "#Python | Get Kth Column of Matrix\n",
        "# Python3 code to demonstrate working of\n",
        "# Get Kth Column of Matrix\n",
        "# using list comprehension\n",
        "\n",
        "# initialize list\n",
        "test_list = [[4, 5, 6], [8, 1, 10], [7, 12, 5]]\n",
        "\n",
        "# printing original list\n",
        "print(\"The original list is : \" + str(test_list))\n",
        "\n",
        "# initialize K\n",
        "K = 2\n",
        "\n",
        "# Get Kth Column of Matrix\n",
        "# using list comprehension\n",
        "res = [sub[K] for sub in test_list]\n",
        "\n",
        "# printing result\n",
        "print(\"The Kth column of matrix is : \" + str(res))\n"
      ],
      "execution_count": 7,
      "outputs": [
        {
          "output_type": "stream",
          "text": [
            "The original list is : [[4, 5, 6], [8, 1, 10], [7, 12, 5]]\n",
            "The Kth column of matrix is : [6, 10, 5]\n"
          ],
          "name": "stdout"
        }
      ]
    },
    {
      "cell_type": "code",
      "metadata": {
        "colab": {
          "base_uri": "https://localhost:8080/"
        },
        "id": "u7eZBidXoFrz",
        "outputId": "384c92be-1242-454a-d926-750038df6f52"
      },
      "source": [
        "#Python – Vertical Concatenation in Matrix\n",
        "# Python3 code to demonstrate working of\n",
        "# Vertical Concatenation in Matrix\n",
        "# Using join() + list comprehension + zip_longest()\n",
        "from itertools import zip_longest\n",
        "\n",
        "# initializing lists\n",
        "test_list = [[\"Gfg\", \"good\"], [\"is\", \"for\"], [\"Best\"]]\n",
        "\n",
        "# printing original list\n",
        "print(\"The original list : \" + str(test_list))\n",
        "\n",
        "# using join to concaternate, zip_longest filling values using\n",
        "# \"fill\"\n",
        "res = [\"\".join(ele) for ele in zip_longest(*test_list, fillvalue =\"\")]\n",
        "\n",
        "# printing result\n",
        "print(\"List after column Concatenation : \" + str(res))\n"
      ],
      "execution_count": 8,
      "outputs": [
        {
          "output_type": "stream",
          "text": [
            "The original list : [['Gfg', 'good'], ['is', 'for'], ['Best']]\n",
            "List after column Concatenation : ['GfgisBest', 'goodfor']\n"
          ],
          "name": "stdout"
        }
      ]
    },
    {
      "cell_type": "code",
      "metadata": {
        "colab": {
          "base_uri": "https://localhost:8080/"
        },
        "id": "A-fqVtzToQAP",
        "outputId": "e43281db-113d-45b1-e0f9-12cf8e56b6f9"
      },
      "source": [
        "#Python program to check if a string is palindrome or not\n",
        "# function which return reverse of a string\n",
        "\n",
        "def isPalindrome(s):\n",
        "\treturn s == s[::-1]\n",
        "\n",
        "\n",
        "# Driver code\n",
        "s = \"malayalam\"\n",
        "ans = isPalindrome(s)\n",
        "\n",
        "if ans:\n",
        "\tprint(\"Yes\")\n",
        "else:\n",
        "\tprint(\"No\")\n"
      ],
      "execution_count": 9,
      "outputs": [
        {
          "output_type": "stream",
          "text": [
            "Yes\n"
          ],
          "name": "stdout"
        }
      ]
    },
    {
      "cell_type": "code",
      "metadata": {
        "colab": {
          "base_uri": "https://localhost:8080/"
        },
        "id": "5jjZCgPxoejz",
        "outputId": "0dd423ba-eb41-4251-9941-22cb3d4f60b7"
      },
      "source": [
        "# Python program to demonstrate\n",
        "# symmetry and palindrome of the\n",
        "# string\n",
        "\n",
        "\n",
        "# Function to check whether the\n",
        "# string is plaindrome or not\n",
        "def palindrome(a):\n",
        "\n",
        "\t# finding the mid, start\n",
        "\t# and last index of the string\n",
        "\tmid = (len(a)-1)//2\n",
        "\tstart = 0\n",
        "\tlast = len(a)-1\n",
        "\tflag = 0\n",
        "\n",
        "\t# A loop till the mid of the\n",
        "\t# string\n",
        "\twhile(start<mid):\n",
        "\n",
        "\t\t# comparing letters from right\n",
        "\t\t# from the letters from left\n",
        "\t\tif (a[start]== a[last]):\n",
        "\t\t\t\n",
        "\t\t\tstart += 1\n",
        "\t\t\tlast -= 1\n",
        "\t\t\t\n",
        "\t\telse:\n",
        "\t\t\tflag = 1\n",
        "\t\t\tbreak;\n",
        "\t\t\t\n",
        "\t# Checking the flag variable to\n",
        "\t# check if the string is palindrome\n",
        "\t# or not\n",
        "\tif flag == 0:\n",
        "\t\tprint(\"The entered string is palindrome\")\n",
        "\telse:\n",
        "\t\tprint(\"The entered string is not palindrome\")\n",
        "\t\t\n",
        "# Function to check whether the\n",
        "# string is symmetrical or not\t\t\n",
        "def symmetry(a):\n",
        "\t\n",
        "\tn = len(a)\n",
        "\tflag = 0\n",
        "\t\n",
        "\t# Check if the string's length\n",
        "\t# is odd or even\n",
        "\tif n%2:\n",
        "\t\tmid = n//2 +1\n",
        "\telse:\n",
        "\t\tmid = n//2\n",
        "\t\t\n",
        "\tstart1 = 0\n",
        "\tstart2 = mid\n",
        "\t\n",
        "\twhile(start1 < mid and start2 < n):\n",
        "\t\t\n",
        "\t\tif (a[start1]== a[start2]):\n",
        "\t\t\tstart1 = start1 + 1\n",
        "\t\t\tstart2 = start2 + 1\n",
        "\t\telse:\n",
        "\t\t\tflag = 1\n",
        "\t\t\tbreak\n",
        "\t\n",
        "\t# Checking the flag variable to\n",
        "\t# check if the string is symmetrical\n",
        "\t# or not\n",
        "\tif flag == 0:\n",
        "\t\tprint(\"The entered string is symmetrical\")\n",
        "\telse:\n",
        "\t\tprint(\"The entered string is not symmetrical\")\n",
        "\t\t\n",
        "# Driver code\n",
        "string = 'amaama'\n",
        "palindrome(string)\n",
        "symmetry(string)\n"
      ],
      "execution_count": 10,
      "outputs": [
        {
          "output_type": "stream",
          "text": [
            "The entered string is palindrome\n",
            "The entered string is symmetrical\n"
          ],
          "name": "stdout"
        }
      ]
    },
    {
      "cell_type": "code",
      "metadata": {
        "id": "C6Fd3VluowAa"
      },
      "source": [
        ""
      ],
      "execution_count": null,
      "outputs": []
    }
  ]
}