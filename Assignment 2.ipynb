{
  "nbformat": 4,
  "nbformat_minor": 0,
  "metadata": {
    "colab": {
      "name": "Untitled22.ipynb",
      "provenance": []
    },
    "kernelspec": {
      "name": "python3",
      "display_name": "Python 3"
    },
    "language_info": {
      "name": "python"
    }
  },
  "cells": [
    {
      "cell_type": "code",
      "metadata": {
        "colab": {
          "base_uri": "https://localhost:8080/"
        },
        "id": "jXT6fsPakIP3",
        "outputId": "69641bba-1f96-40bb-d22b-6343eb7b224b"
      },
      "source": [
        "##Python Program for n-th Fibonacci number\n",
        "def Fibonacci(n):\n",
        "    if n<= 0:\n",
        "        print(\"Incorrect input\")\n",
        "    # First Fibonacci number is 0\n",
        "    elif n == 1:\n",
        "        return 0\n",
        "    # Second Fibonacci number is 1\n",
        "    elif n == 2:\n",
        "        return 1\n",
        "    else:\n",
        "        return Fibonacci(n-1)+Fibonacci(n-2)\n",
        " \n",
        "# Driver Program\n",
        " \n",
        "print(Fibonacci(0))"
      ],
      "execution_count": 1,
      "outputs": [
        {
          "output_type": "stream",
          "text": [
            "Incorrect input\n",
            "None\n"
          ],
          "name": "stdout"
        }
      ]
    },
    {
      "cell_type": "code",
      "metadata": {
        "colab": {
          "base_uri": "https://localhost:8080/"
        },
        "id": "N8JMfAcYl_Co",
        "outputId": "0f18f8fc-ff68-4def-f9dc-a8c032e26df9"
      },
      "source": [
        "### python program to check if x is a perfect square\n",
        "import math\n",
        "  \n",
        "# A utility function that returns true if x is perfect square\n",
        "def isPerfectSquare(x):\n",
        "    s = int(math.sqrt(x))\n",
        "    return s*s == x\n",
        "  \n",
        "# Returns true if n is a Fibinacci Number, else false\n",
        "def isFibonacci(n):\n",
        "  \n",
        "    # n is Fibinacci if one of 5*n*n + 4 or 5*n*n - 4 or both\n",
        "    # is a perferct square\n",
        "    return isPerfectSquare(5*n*n + 4) or isPerfectSquare(5*n*n - 4)\n",
        "     \n",
        "# A utility function to test above functions\n",
        "for i in range(1,11):\n",
        "     if (isFibonacci(i) == True):\n",
        "         print (i,\"is a Fibonacci Number\")\n",
        "     else:\n",
        "         print (i,\"is a not Fibonacci Number \")"
      ],
      "execution_count": 3,
      "outputs": [
        {
          "output_type": "stream",
          "text": [
            "1 is a Fibonacci Number\n",
            "2 is a Fibonacci Number\n",
            "3 is a Fibonacci Number\n",
            "4 is a not Fibonacci Number \n",
            "5 is a Fibonacci Number\n",
            "6 is a not Fibonacci Number \n",
            "7 is a not Fibonacci Number \n",
            "8 is a Fibonacci Number\n",
            "9 is a not Fibonacci Number \n",
            "10 is a not Fibonacci Number \n"
          ],
          "name": "stdout"
        }
      ]
    },
    {
      "cell_type": "code",
      "metadata": {
        "colab": {
          "base_uri": "https://localhost:8080/"
        },
        "id": "3yJ9QdGxmqNI",
        "outputId": "9f8764a4-985c-4bf4-ec05-8a8f6538d51d"
      },
      "source": [
        "##Python Program for n\\’th multiple of a number in Fibonacci Series\n",
        "# find function\n",
        "def find(k, n):\n",
        "   f1 = 0\n",
        "   f2 = 1\n",
        "   i =2;\n",
        "   #fibonacci recursion\n",
        "   while i!=0:\n",
        "      f3 = f1 + f2;\n",
        "      f1 = f2;\n",
        "      f2 = f3;\n",
        "      if f2%k == 0:\n",
        "         return n*i\n",
        "      i+=1\n",
        "   return\n",
        "# multiple of which number\n",
        "n = 5;\n",
        "# number\n",
        "k = 4;\n",
        "print(\"Position of n\\'th multiple of k in\"\"Fibonacci Series is: \", find(k,n));"
      ],
      "execution_count": 4,
      "outputs": [
        {
          "output_type": "stream",
          "text": [
            "Position of n'th multiple of k inFibonacci Series is:  30\n"
          ],
          "name": "stdout"
        }
      ]
    },
    {
      "cell_type": "code",
      "metadata": {
        "colab": {
          "base_uri": "https://localhost:8080/"
        },
        "id": "y0WQ1nwOoFrv",
        "outputId": "84e416b5-a889-406b-c971-ac6a750ff331"
      },
      "source": [
        "##Program to print ASCII Value of a character\n",
        "# Program to find the ASCII value of the given character\n",
        "\n",
        "c = 'p'\n",
        "print(\"The ASCII value of '\" + c + \"' is\", ord(c))"
      ],
      "execution_count": 5,
      "outputs": [
        {
          "output_type": "stream",
          "text": [
            "The ASCII value of 'p' is 112\n"
          ],
          "name": "stdout"
        }
      ]
    },
    {
      "cell_type": "code",
      "metadata": {
        "colab": {
          "base_uri": "https://localhost:8080/"
        },
        "id": "8Glo2SgbpyXh",
        "outputId": "879e7c32-9177-4cfd-e94d-86d202563a30"
      },
      "source": [
        "##Python Program for Sum of squares of first n natural numbers\n",
        "def squaresum(n) :\n",
        "  \n",
        "    # Iterate i from 1 \n",
        "    # and n finding \n",
        "    # square of i and\n",
        "    # add to sum.\n",
        "    sm = 0\n",
        "    for i in range(1, n+1) :\n",
        "        sm = sm + (i * i)\n",
        "      \n",
        "    return sm\n",
        "  \n",
        "# Driven Program\n",
        "n = 4\n",
        "print(squaresum(n))"
      ],
      "execution_count": 6,
      "outputs": [
        {
          "output_type": "stream",
          "text": [
            "30\n"
          ],
          "name": "stdout"
        }
      ]
    },
    {
      "cell_type": "code",
      "metadata": {
        "colab": {
          "base_uri": "https://localhost:8080/"
        },
        "id": "ESKLtILPrJkP",
        "outputId": "7d6bd5dc-a785-47ba-8278-03308714b0b2"
      },
      "source": [
        "##Python Program for cube sum of first n natural numbers\n",
        "# Returns the sum of series \n",
        "def sumOfSeries(n):\n",
        "    sum = 0\n",
        "    for i in range(1, n+1):\n",
        "        sum +=i*i*i\n",
        "          \n",
        "    return sum\n",
        "  \n",
        "   \n",
        "# Driver Function\n",
        "n = 5\n",
        "print(sumOfSeries(n))"
      ],
      "execution_count": 7,
      "outputs": [
        {
          "output_type": "stream",
          "text": [
            "225\n"
          ],
          "name": "stdout"
        }
      ]
    },
    {
      "cell_type": "code",
      "metadata": {
        "colab": {
          "base_uri": "https://localhost:8080/"
        },
        "id": "xxD4msV5rlrr",
        "outputId": "f9e2828d-3446-4cd6-bbe3-731c8369cd6b"
      },
      "source": [
        "##Python Program to find sum of array\n",
        "arr = []\n",
        "  \n",
        "# input values to list\n",
        "arr = [12, 3, 4, 15]\n",
        "  \n",
        "# sum() is an inbuilt function in python that adds \n",
        "# all the elements in list,set and tuples and returns\n",
        "# the value \n",
        "ans = sum(arr)\n",
        "  \n",
        "# display sum\n",
        "print ('Sum of the array is ',ans)"
      ],
      "execution_count": 8,
      "outputs": [
        {
          "output_type": "stream",
          "text": [
            "Sum of the array is  34\n"
          ],
          "name": "stdout"
        }
      ]
    },
    {
      "cell_type": "code",
      "metadata": {
        "colab": {
          "base_uri": "https://localhost:8080/"
        },
        "id": "UVQogkgjeafe",
        "outputId": "3da435a7-6056-4ddd-8f2e-bc906a3a499a"
      },
      "source": [
        "##Python Program to find largest element in an array\n",
        "def max_num_in_list( list ):\n",
        "    max = list[ 0 ]\n",
        "    for a in list:\n",
        "        if a > max:\n",
        "            max = a\n",
        "    return max\n",
        "print(max_num_in_list([1, 2, -8, 0]))"
      ],
      "execution_count": 9,
      "outputs": [
        {
          "output_type": "stream",
          "text": [
            "2\n"
          ],
          "name": "stdout"
        }
      ]
    },
    {
      "cell_type": "code",
      "metadata": {
        "colab": {
          "base_uri": "https://localhost:8080/"
        },
        "id": "8cO-Frcae4G-",
        "outputId": "a55b17b6-82ce-469f-fa9d-ff7b7c4e0708"
      },
      "source": [
        "##Python Program for array rotation\n",
        "#Function to left rotate arr[] of size n by d*/\n",
        "def leftRotate(arr, d, n):\n",
        "    for i in range(d):\n",
        "        leftRotatebyOne(arr, n)\n",
        " \n",
        "#Function to left Rotate arr[] of size n by 1*/ \n",
        "def leftRotatebyOne(arr, n):\n",
        "    temp = arr[0]\n",
        "    for i in range(n-1):\n",
        "        arr[i] = arr[i+1]\n",
        "    arr[n-1] = temp\n",
        "         \n",
        " \n",
        "# utility function to print an array */\n",
        "def printArray(arr,size):\n",
        "    for i in range(size):\n",
        "        print (\"%d\"% arr[i],end=\" \")\n",
        " \n",
        "  \n",
        "# Driver program to test above functions */\n",
        "arr = [1, 2, 3, 4, 5, 6, 7]\n",
        "leftRotate(arr, 2, 7)\n",
        "printArray(arr, 7)"
      ],
      "execution_count": 10,
      "outputs": [
        {
          "output_type": "stream",
          "text": [
            "3 4 5 6 7 1 2 "
          ],
          "name": "stdout"
        }
      ]
    },
    {
      "cell_type": "code",
      "metadata": {
        "colab": {
          "base_uri": "https://localhost:8080/"
        },
        "id": "f7OlYEnaezqg",
        "outputId": "3ec26b3b-cc91-4c53-9eff-adc247d3aec7"
      },
      "source": [
        "##Python Program for Reversal algorithm for array rotation\n",
        "def rverseArray(arr, start, end):\n",
        "    while (start < end):\n",
        "        temp = arr[start]\n",
        "        arr[start] = arr[end]\n",
        "        arr[end] = temp\n",
        "        start += 1\n",
        "        end = end-1\n",
        "  \n",
        "# Function to left rotate arr[] of size n by d\n",
        "def leftRotate(arr, d):\n",
        "    n = len(arr)\n",
        "    rverseArray(arr, 0, d-1)\n",
        "    rverseArray(arr, d, n-1)\n",
        "    rverseArray(arr, 0, n-1)\n",
        "  \n",
        "# Function to print an array\n",
        "def printArray(arr):\n",
        "    for i in range(0, len(arr)):\n",
        "        print (arr[i])\n",
        "  \n",
        "# Driver function to test above functions\n",
        "arr = [1, 2, 3, 4, 5, 6, 7]\n",
        "leftRotate(arr, 2) # Rotate array by 2\n",
        "printArray(list(arr))\n",
        "  "
      ],
      "execution_count": 12,
      "outputs": [
        {
          "output_type": "stream",
          "text": [
            "3\n",
            "4\n",
            "5\n",
            "6\n",
            "7\n",
            "1\n",
            "2\n"
          ],
          "name": "stdout"
        }
      ]
    },
    {
      "cell_type": "code",
      "metadata": {
        "colab": {
          "base_uri": "https://localhost:8080/"
        },
        "id": "gSxzWfFtfALl",
        "outputId": "a1d8ea61-514c-4221-b444-a8be41f3dbbf"
      },
      "source": [
        "##Python Program to Split the array and add the first part to the end\n",
        "def splitArr(arr, n, k): \n",
        "    for i in range(0, k): \n",
        "        x = arr[0]\n",
        "        for j in range(0, n-1):\n",
        "            arr[j] = arr[j + 1]\n",
        "          \n",
        "        arr[n-1] = x\n",
        "          \n",
        "  \n",
        "# main\n",
        "arr = [12, 10, 5, 6, 52, 36]\n",
        "n = len(arr)\n",
        "position = 2\n",
        "  \n",
        "splitArr(arr, n, position)\n",
        "  \n",
        "for i in range(0, n): \n",
        "    print(arr[i], end = ' ')"
      ],
      "execution_count": 13,
      "outputs": [
        {
          "output_type": "stream",
          "text": [
            "5 6 52 36 12 10 "
          ],
          "name": "stdout"
        }
      ]
    },
    {
      "cell_type": "code",
      "metadata": {
        "id": "S8ZfKcL7f4mm"
      },
      "source": [
        ""
      ],
      "execution_count": null,
      "outputs": []
    }
  ]
}