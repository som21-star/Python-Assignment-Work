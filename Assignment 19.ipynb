{
  "nbformat": 4,
  "nbformat_minor": 0,
  "metadata": {
    "colab": {
      "name": "Untitled42.ipynb",
      "provenance": []
    },
    "kernelspec": {
      "name": "python3",
      "display_name": "Python 3"
    },
    "language_info": {
      "name": "python"
    }
  },
  "cells": [
    {
      "cell_type": "code",
      "metadata": {
        "colab": {
          "base_uri": "https://localhost:8080/"
        },
        "id": "hECr4yoJxMKy",
        "outputId": "167dc908-1a35-4046-f3e1-8b96f61f7537"
      },
      "source": [
        "# Python program to validate an Email\n",
        "\n",
        "# import re module\n",
        "\n",
        "# re module provides support\n",
        "# for regular expressions\n",
        "import re\n",
        "\n",
        "# Make a regular expression\n",
        "# for validating an Email\n",
        "regex = r'\\b[A-Za-z0-9._%+-]+@[A-Za-z0-9.-]+\\.[A-Z|a-z]{2,}\\b'\n",
        "\n",
        "# Define a function for\n",
        "# for validating an Email\n",
        "\n",
        "\n",
        "def check(email):\n",
        "\n",
        "\t# pass the regular expression\n",
        "\t# and the string in search() method\n",
        "\tif(re.match(regex, email)):\n",
        "\t\tprint(\"Valid Email\")\n",
        "\n",
        "\telse:\n",
        "\t\tprint(\"Invalid Email\")\n",
        "\n",
        "\n",
        "# Driver Code\n",
        "if __name__ == '__main__':\n",
        "\n",
        "\t# Enter the email\n",
        "\temail = \"ankitrai326@gmail.com\"\n",
        "\n",
        "\t# calling run function\n",
        "\tcheck(email)\n",
        "\n",
        "\temail = \"my.ownsite@our-earth.org\"\n",
        "\tcheck(email)\n",
        "\n",
        "\temail = \"ankitrai326.com\"\n",
        "\tcheck(email)\n"
      ],
      "execution_count": 1,
      "outputs": [
        {
          "output_type": "stream",
          "text": [
            "Valid Email\n",
            "Valid Email\n",
            "Invalid Email\n"
          ],
          "name": "stdout"
        }
      ]
    },
    {
      "cell_type": "code",
      "metadata": {
        "colab": {
          "base_uri": "https://localhost:8080/"
        },
        "id": "tZuLwwZcxPRP",
        "outputId": "f4f7c402-d4ba-489f-e237-a3a80f34278d"
      },
      "source": [
        "# import library\n",
        "import re\n",
        "\n",
        "# list of different types of file\n",
        "filenames = [\"gfg.html\", \"geeks.xml\",\n",
        "\t\t\t\"computer.txt\", \"geeksforgeeks.jpg\"]\n",
        "\n",
        "for file in filenames:\n",
        "\t# search given pattern in the line\n",
        "\tmatch = re.search(\"\\.xml$\", file)\n",
        "\n",
        "\t# if match is found\n",
        "\tif match:\n",
        "\t\tprint(\"The file ending with .xml is:\",\n",
        "\t\t\tfile)\n"
      ],
      "execution_count": 2,
      "outputs": [
        {
          "output_type": "stream",
          "text": [
            "The file ending with .xml is: geeks.xml\n"
          ],
          "name": "stdout"
        }
      ]
    },
    {
      "cell_type": "code",
      "metadata": {
        "colab": {
          "base_uri": "https://localhost:8080/",
          "height": 128
        },
        "id": "A9BR1TLAxdRf",
        "outputId": "cc9ef8a5-f02c-45a5-d1a4-ec449ba0e8bd"
      },
      "source": [
        "# importing the module\n",
        "import re\n",
        "\n",
        "# opening and reading the file\n",
        "with open('C:/Users/user/Desktop/New Text Document.txt') as fh:\n",
        "fstring = fh.readlines()\n",
        "\n",
        "# declaring the regex pattern for IP addresses\n",
        "pattern = re.compile(r'(\\d{1,3}\\.\\d{1,3}\\.\\d{1,3}\\.\\d{1,3})')\n",
        "\n",
        "# initializing the list object\n",
        "lst=[]\n",
        "\n",
        "# extracting the IP addresses\n",
        "for line in fstring:\n",
        "lst.append(pattern.search(line)[0])\n",
        "\n",
        "# displaying the extracted IP adresses\n",
        "print(lst)\n"
      ],
      "execution_count": 3,
      "outputs": [
        {
          "output_type": "error",
          "ename": "IndentationError",
          "evalue": "ignored",
          "traceback": [
            "\u001b[0;36m  File \u001b[0;32m\"<ipython-input-3-cd00d5fbb11e>\"\u001b[0;36m, line \u001b[0;32m6\u001b[0m\n\u001b[0;31m    fstring = fh.readlines()\u001b[0m\n\u001b[0m          ^\u001b[0m\n\u001b[0;31mIndentationError\u001b[0m\u001b[0;31m:\u001b[0m expected an indented block\n"
          ]
        }
      ]
    },
    {
      "cell_type": "code",
      "metadata": {
        "colab": {
          "base_uri": "https://localhost:8080/"
        },
        "id": "LxsS0cWxxwBi",
        "outputId": "d24a1224-3ad7-4687-ed71-a397719ce571"
      },
      "source": [
        "# Python program to check validation of password\n",
        "# Module of regular expression is used with search()\n",
        "import re\n",
        "password = \"R@m@_f0rtu9e$\"\n",
        "flag = 0\n",
        "while True:\n",
        "\tif (len(password)<8):\n",
        "\t\tflag = -1\n",
        "\t\tbreak\n",
        "\telif not re.search(\"[a-z]\", password):\n",
        "\t\tflag = -1\n",
        "\t\tbreak\n",
        "\telif not re.search(\"[A-Z]\", password):\n",
        "\t\tflag = -1\n",
        "\t\tbreak\n",
        "\telif not re.search(\"[0-9]\", password):\n",
        "\t\tflag = -1\n",
        "\t\tbreak\n",
        "\telif not re.search(\"[_@$]\", password):\n",
        "\t\tflag = -1\n",
        "\t\tbreak\n",
        "\telif re.search(\"\\s\", password):\n",
        "\t\tflag = -1\n",
        "\t\tbreak\n",
        "\telse:\n",
        "\t\tflag = 0\n",
        "\t\tprint(\"Valid Password\")\n",
        "\t\tbreak\n",
        "\n",
        "if flag ==-1:\n",
        "\tprint(\"Not a Valid Password\")\n"
      ],
      "execution_count": 4,
      "outputs": [
        {
          "output_type": "stream",
          "text": [
            "Valid Password\n"
          ],
          "name": "stdout"
        }
      ]
    },
    {
      "cell_type": "code",
      "metadata": {
        "colab": {
          "base_uri": "https://localhost:8080/"
        },
        "id": "FryiUArQx2Is",
        "outputId": "943db133-6139-47ba-bbae-217b73119f21"
      },
      "source": [
        "# Categorizing password as Strong or\n",
        "# Weak in Python using Regex\n",
        "\n",
        "\n",
        "import re\n",
        "\n",
        "\n",
        "# Function to categorize password\n",
        "def password(v):\n",
        "\n",
        "\t# the password should not be a\n",
        "\t# newline or space\n",
        "\tif v == \"\\n\" or v == \" \":\n",
        "\t\treturn \"Password cannot be a newline or space!\"\n",
        "\n",
        "\t# the password length should be in\n",
        "\t# between 9 and 20\n",
        "\tif 9 <= len(v) <= 20:\n",
        "\n",
        "\t\t# checks for occurrence of a character\n",
        "\t\t# three or more times in a row\n",
        "\t\tif re.search(r'(.)\\1\\1', v):\n",
        "\t\t\treturn \"Weak Password: Same character repeats three or more times in a row\"\n",
        "\n",
        "\t\t# checks for occurrence of same string\n",
        "\t\t# pattern( minimum of two character length)\n",
        "\t\t# repeating\n",
        "\t\tif re.search(r'(..)(.*?)\\1', v):\n",
        "\t\t\treturn \"Weak password: Same string pattern repetition\"\n",
        "\n",
        "\t\telse:\n",
        "\t\t\treturn \"Strong Password!\"\n",
        "\n",
        "\telse:\n",
        "\t\treturn \"Password length must be 9-20 characters!\"\n",
        "\n",
        "# Main method\n",
        "def main():\n",
        "\n",
        "\t# Driver code\n",
        "\tprint(password(\"Qggf!@ghf3\"))\n",
        "\tprint(password(\"Gggksforgeeks\"))\n",
        "\tprint(password(\"aaabnil1gu\"))\n",
        "\tprint(password(\"Aasd!feasn\"))\n",
        "\tprint(password(\"772*hd897\"))\n",
        "\tprint(password(\" \"))\n",
        "\n",
        "\n",
        "# Driver Code\n",
        "if __name__ == '__main__':\n",
        "\tmain()\n"
      ],
      "execution_count": 5,
      "outputs": [
        {
          "output_type": "stream",
          "text": [
            "Strong Password!\n",
            "Weak password: Same string pattern repetition\n",
            "Weak Password: Same character repeats three or more times in a row\n",
            "Weak password: Same string pattern repetition\n",
            "Strong Password!\n",
            "Password cannot be a newline or space!\n"
          ],
          "name": "stdout"
        }
      ]
    },
    {
      "cell_type": "code",
      "metadata": {
        "colab": {
          "base_uri": "https://localhost:8080/",
          "height": 229
        },
        "id": "5rYfe0pfx-nY",
        "outputId": "a356407b-0ace-47cb-c116-d037bbf75826"
      },
      "source": [
        "# Python program to read\n",
        "# file word by word\n",
        "\n",
        "# opening the text file\n",
        "with open('GFG.txt','r') as file:\n",
        "\n",
        "\t# reading each line\t\n",
        "\tfor line in file:\n",
        "\n",
        "\t\t# reading each word\t\t\n",
        "\t\tfor word in line.split():\n",
        "\n",
        "\t\t\t# displaying the words\t\t\n",
        "\t\t\tprint(word)\n"
      ],
      "execution_count": 6,
      "outputs": [
        {
          "output_type": "error",
          "ename": "FileNotFoundError",
          "evalue": "ignored",
          "traceback": [
            "\u001b[0;31m---------------------------------------------------------------------------\u001b[0m",
            "\u001b[0;31mFileNotFoundError\u001b[0m                         Traceback (most recent call last)",
            "\u001b[0;32m<ipython-input-6-7a349f4dffdf>\u001b[0m in \u001b[0;36m<module>\u001b[0;34m()\u001b[0m\n\u001b[1;32m      3\u001b[0m \u001b[0;34m\u001b[0m\u001b[0m\n\u001b[1;32m      4\u001b[0m \u001b[0;31m# opening the text file\u001b[0m\u001b[0;34m\u001b[0m\u001b[0;34m\u001b[0m\u001b[0;34m\u001b[0m\u001b[0m\n\u001b[0;32m----> 5\u001b[0;31m \u001b[0;32mwith\u001b[0m \u001b[0mopen\u001b[0m\u001b[0;34m(\u001b[0m\u001b[0;34m'GFG.txt'\u001b[0m\u001b[0;34m,\u001b[0m\u001b[0;34m'r'\u001b[0m\u001b[0;34m)\u001b[0m \u001b[0;32mas\u001b[0m \u001b[0mfile\u001b[0m\u001b[0;34m:\u001b[0m\u001b[0;34m\u001b[0m\u001b[0;34m\u001b[0m\u001b[0m\n\u001b[0m\u001b[1;32m      6\u001b[0m \u001b[0;34m\u001b[0m\u001b[0m\n\u001b[1;32m      7\u001b[0m         \u001b[0;31m# reading each line\u001b[0m\u001b[0;34m\u001b[0m\u001b[0;34m\u001b[0m\u001b[0;34m\u001b[0m\u001b[0m\n",
            "\u001b[0;31mFileNotFoundError\u001b[0m: [Errno 2] No such file or directory: 'GFG.txt'"
          ]
        }
      ]
    },
    {
      "cell_type": "code",
      "metadata": {
        "colab": {
          "base_uri": "https://localhost:8080/",
          "height": 229
        },
        "id": "5WOOY4NbyEZw",
        "outputId": "298d8de3-f311-48e1-821d-cb6e180e75dc"
      },
      "source": [
        "# Python program to read\n",
        "# file word by word\n",
        "\n",
        "# opening the text file\n",
        "with open('GFG.txt','r') as file:\n",
        "\n",
        "\t# reading each line\t\n",
        "\tfor line in file:\n",
        "\n",
        "\t\t# reading each word\t\t\n",
        "\t\tfor word in line.split():\n",
        "\n",
        "\t\t\t# displaying the words\t\t\n",
        "\t\t\tprint(word)\n"
      ],
      "execution_count": 7,
      "outputs": [
        {
          "output_type": "error",
          "ename": "FileNotFoundError",
          "evalue": "ignored",
          "traceback": [
            "\u001b[0;31m---------------------------------------------------------------------------\u001b[0m",
            "\u001b[0;31mFileNotFoundError\u001b[0m                         Traceback (most recent call last)",
            "\u001b[0;32m<ipython-input-7-7a349f4dffdf>\u001b[0m in \u001b[0;36m<module>\u001b[0;34m()\u001b[0m\n\u001b[1;32m      3\u001b[0m \u001b[0;34m\u001b[0m\u001b[0m\n\u001b[1;32m      4\u001b[0m \u001b[0;31m# opening the text file\u001b[0m\u001b[0;34m\u001b[0m\u001b[0;34m\u001b[0m\u001b[0;34m\u001b[0m\u001b[0m\n\u001b[0;32m----> 5\u001b[0;31m \u001b[0;32mwith\u001b[0m \u001b[0mopen\u001b[0m\u001b[0;34m(\u001b[0m\u001b[0;34m'GFG.txt'\u001b[0m\u001b[0;34m,\u001b[0m\u001b[0;34m'r'\u001b[0m\u001b[0;34m)\u001b[0m \u001b[0;32mas\u001b[0m \u001b[0mfile\u001b[0m\u001b[0;34m:\u001b[0m\u001b[0;34m\u001b[0m\u001b[0;34m\u001b[0m\u001b[0m\n\u001b[0m\u001b[1;32m      6\u001b[0m \u001b[0;34m\u001b[0m\u001b[0m\n\u001b[1;32m      7\u001b[0m         \u001b[0;31m# reading each line\u001b[0m\u001b[0;34m\u001b[0m\u001b[0;34m\u001b[0m\u001b[0;34m\u001b[0m\u001b[0m\n",
            "\u001b[0;31mFileNotFoundError\u001b[0m: [Errno 2] No such file or directory: 'GFG.txt'"
          ]
        }
      ]
    },
    {
      "cell_type": "code",
      "metadata": {
        "colab": {
          "base_uri": "https://localhost:8080/"
        },
        "id": "vLBV87PTyIFT",
        "outputId": "6142751e-5268-4a93-dd5e-28ccf2fb5cc9"
      },
      "source": [
        "# Python implementation to compute\n",
        "# number of characters, words, spaces\n",
        "# and lines in a file\n",
        "\n",
        "# Function to count number\n",
        "# of characters, words, spaces\n",
        "# and lines in a file\n",
        "def counter(fname):\n",
        "\n",
        "\t# variable to store total word count\n",
        "\tnum_words = 0\n",
        "\t\n",
        "\t# variable to store total line count\n",
        "\tnum_lines = 0\n",
        "\t\n",
        "\t# variable to store total character count\n",
        "\tnum_charc = 0\n",
        "\t\n",
        "\t# variable to store total space count\n",
        "\tnum_spaces = 0\n",
        "\t\n",
        "\t# opening file using with() method\n",
        "\t# so that file gets closed\n",
        "\t# after completion of work\n",
        "\twith open(fname, 'r') as f:\n",
        "\t\t\n",
        "\t\t# loop to iterate file\n",
        "\t\t# line by line\n",
        "\t\tfor line in f:\n",
        "\t\t\t\n",
        "\t\t\t# incrementing value of\n",
        "\t\t\t# num_lines with each\n",
        "\t\t\t# iteration of loop to\n",
        "\t\t\t# store total line count\n",
        "\t\t\tnum_lines += 1\n",
        "\t\t\t\n",
        "\t\t\t# declaring a variable word\n",
        "\t\t\t# and assigning its value as Y\n",
        "\t\t\t# because every file is\n",
        "\t\t\t# supposed to start with\n",
        "\t\t\t# a word or a character\n",
        "\t\t\tword = 'Y'\n",
        "\t\t\t\n",
        "\t\t\t# loop to iterate every\n",
        "\t\t\t# line letter by letter\n",
        "\t\t\tfor letter in line:\n",
        "\t\t\t\t\n",
        "\t\t\t\t# condition to check\n",
        "\t\t\t\t# that the encountered character\n",
        "\t\t\t\t# is not white space and a word\n",
        "\t\t\t\tif (letter != ' ' and word == 'Y'):\n",
        "\t\t\t\t\t\n",
        "\t\t\t\t\t# incrementing the word\n",
        "\t\t\t\t\t# count by 1\n",
        "\t\t\t\t\tnum_words += 1\n",
        "\t\t\t\t\t\n",
        "\t\t\t\t\t# assigning value N to\n",
        "\t\t\t\t\t# variable word because until\n",
        "\t\t\t\t\t# space will not encounter\n",
        "\t\t\t\t\t# a word can not be completed\n",
        "\t\t\t\t\tword = 'N'\n",
        "\t\t\t\t\t\n",
        "\t\t\t\t# condition to check\n",
        "\t\t\t\t# that the encountered character\n",
        "\t\t\t\t# is a white space\n",
        "\t\t\t\telif (letter == ' '):\n",
        "\t\t\t\t\t\n",
        "\t\t\t\t\t# incrementing the space\n",
        "\t\t\t\t\t# count by 1\n",
        "\t\t\t\t\tnum_spaces += 1\n",
        "\t\t\t\t\t\n",
        "\t\t\t\t\t# assigning value Y to\n",
        "\t\t\t\t\t# variable word because after\n",
        "\t\t\t\t\t# white space a word\n",
        "\t\t\t\t\t# is supposed to occur\n",
        "\t\t\t\t\tword = 'Y'\n",
        "\t\t\t\t\t\n",
        "\t\t\t\t# loop to iterate every\n",
        "\t\t\t\t# letter character by\n",
        "\t\t\t\t# character\n",
        "\t\t\t\tfor i in letter:\n",
        "\t\t\t\t\t\n",
        "\t\t\t\t\t# condition to check\n",
        "\t\t\t\t\t# that the encountered character\n",
        "\t\t\t\t\t# is not white space and not\n",
        "\t\t\t\t\t# a newline character\n",
        "\t\t\t\t\tif(i !=\" \" and i !=\"\\n\"):\n",
        "\t\t\t\t\t\t\n",
        "\t\t\t\t\t\t# incrementing character\n",
        "\t\t\t\t\t\t# count by 1\n",
        "\t\t\t\t\t\tnum_charc += 1\n",
        "\t\t\t\t\t\t\n",
        "\t# printing total word count\n",
        "\tprint(\"Number of words in text file: \", num_words)\n",
        "\t\n",
        "\t# printing total line count\n",
        "\tprint(\"Number of lines in text file: \", num_lines)\n",
        "\t\n",
        "\t# printing total character count\n",
        "\tprint('Number of characters in text file: ', num_charc)\n",
        "\t\n",
        "\t# printing total space count\n",
        "\tprint('Number of spaces in text file: ', num_spaces)\n",
        "\t\n",
        "# Driver Code:\n",
        "if __name__ == '__main__':\n",
        "\tfname = 'File1.txt'\n",
        "\ttry:\n",
        "\t\tcounter(fname)\n",
        "\texcept:\n",
        "\t\tprint('File not found')\n"
      ],
      "execution_count": 8,
      "outputs": [
        {
          "output_type": "stream",
          "text": [
            "File not found\n"
          ],
          "name": "stdout"
        }
      ]
    },
    {
      "cell_type": "code",
      "metadata": {
        "colab": {
          "base_uri": "https://localhost:8080/",
          "height": 229
        },
        "id": "DSbpyL3ayU1t",
        "outputId": "b8c32082-7d74-4623-db24-4adc94239c7f"
      },
      "source": [
        "# Python program to count the\n",
        "# occurrences of key-value pair\n",
        "# in the text file\n",
        "\n",
        "\n",
        "# opening text file\n",
        "f = open(\"file.txt\", \"r\")\n",
        "d = dict()\n",
        "\n",
        "for res in f:\n",
        "\t# removing new line and extra\n",
        "\t# space characters\n",
        "\tres = res.strip()\n",
        "\n",
        "\t# changing ase to prevent matching\n",
        "\t# errors\n",
        "\tres = res.lower()\n",
        "\n",
        "\t# separating key-value pairs\n",
        "\tlines = res.split()\n",
        "\n",
        "\tfor line in lines:\n",
        "\n",
        "\t\tif line in d:\n",
        "\n",
        "\t\t\t# If the key-value pair\n",
        "\t\t\t# is present in d then\n",
        "\t\t\t# increment its value by one\n",
        "\t\t\td[line] = d[line]+1\n",
        "\t\telse:\n",
        "\n",
        "\t\t\t# Insert the key-value pair\n",
        "\t\t\t# in the dictionary and sets\n",
        "\t\t\t# its value to one\n",
        "\t\t\td[line] = 1\n",
        "\n",
        "f.close()\n",
        "\n",
        "# Printing Result\n",
        "for key in list(d.keys()):\n",
        "\tprint(\"The count of {} is {}\".format(key,d[key]))\n",
        "\n"
      ],
      "execution_count": 9,
      "outputs": [
        {
          "output_type": "error",
          "ename": "FileNotFoundError",
          "evalue": "ignored",
          "traceback": [
            "\u001b[0;31m---------------------------------------------------------------------------\u001b[0m",
            "\u001b[0;31mFileNotFoundError\u001b[0m                         Traceback (most recent call last)",
            "\u001b[0;32m<ipython-input-9-a6a8a29d1c3c>\u001b[0m in \u001b[0;36m<module>\u001b[0;34m()\u001b[0m\n\u001b[1;32m      5\u001b[0m \u001b[0;34m\u001b[0m\u001b[0m\n\u001b[1;32m      6\u001b[0m \u001b[0;31m# opening text file\u001b[0m\u001b[0;34m\u001b[0m\u001b[0;34m\u001b[0m\u001b[0;34m\u001b[0m\u001b[0m\n\u001b[0;32m----> 7\u001b[0;31m \u001b[0mf\u001b[0m \u001b[0;34m=\u001b[0m \u001b[0mopen\u001b[0m\u001b[0;34m(\u001b[0m\u001b[0;34m\"file.txt\"\u001b[0m\u001b[0;34m,\u001b[0m \u001b[0;34m\"r\"\u001b[0m\u001b[0;34m)\u001b[0m\u001b[0;34m\u001b[0m\u001b[0;34m\u001b[0m\u001b[0m\n\u001b[0m\u001b[1;32m      8\u001b[0m \u001b[0md\u001b[0m \u001b[0;34m=\u001b[0m \u001b[0mdict\u001b[0m\u001b[0;34m(\u001b[0m\u001b[0;34m)\u001b[0m\u001b[0;34m\u001b[0m\u001b[0;34m\u001b[0m\u001b[0m\n\u001b[1;32m      9\u001b[0m \u001b[0;34m\u001b[0m\u001b[0m\n",
            "\u001b[0;31mFileNotFoundError\u001b[0m: [Errno 2] No such file or directory: 'file.txt'"
          ]
        }
      ]
    },
    {
      "cell_type": "code",
      "metadata": {
        "colab": {
          "base_uri": "https://localhost:8080/",
          "height": 229
        },
        "id": "uMRS9V32ybpk",
        "outputId": "5a5e928e-90f4-4716-8c5b-42feb51d9491"
      },
      "source": [
        "count = 1\n",
        "chrw = \"\"\n",
        "\n",
        "# text file\n",
        "file = open('textfile.txt', 'r')\n",
        "while 1:\n",
        "\tsp = file.read(1)\n",
        "\n",
        "\tif count<= 3:\n",
        "\t\tchrw = chrw + sp\n",
        "\n",
        "\tif count>3:\n",
        "\t\tif sp ==\" \":\n",
        "\t\t\tcount = 0\n",
        "\t\t\tif len(chrw)>0:\n",
        "\t\t\t\tprint(chrw)\n",
        "\t\t\t\tchrw =\"\"\n",
        "\t\telif sp !=\" \":\n",
        "\t\t\tchrw =\"\"\n",
        "\tcount = count + 1\n",
        "\n",
        "\tif not sp:\n",
        "\t\tbreak\n",
        "\n",
        "file.close()\n"
      ],
      "execution_count": 10,
      "outputs": [
        {
          "output_type": "error",
          "ename": "FileNotFoundError",
          "evalue": "ignored",
          "traceback": [
            "\u001b[0;31m---------------------------------------------------------------------------\u001b[0m",
            "\u001b[0;31mFileNotFoundError\u001b[0m                         Traceback (most recent call last)",
            "\u001b[0;32m<ipython-input-10-fd75ceff1b85>\u001b[0m in \u001b[0;36m<module>\u001b[0;34m()\u001b[0m\n\u001b[1;32m      3\u001b[0m \u001b[0;34m\u001b[0m\u001b[0m\n\u001b[1;32m      4\u001b[0m \u001b[0;31m# text file\u001b[0m\u001b[0;34m\u001b[0m\u001b[0;34m\u001b[0m\u001b[0;34m\u001b[0m\u001b[0m\n\u001b[0;32m----> 5\u001b[0;31m \u001b[0mfile\u001b[0m \u001b[0;34m=\u001b[0m \u001b[0mopen\u001b[0m\u001b[0;34m(\u001b[0m\u001b[0;34m'textfile.txt'\u001b[0m\u001b[0;34m,\u001b[0m \u001b[0;34m'r'\u001b[0m\u001b[0;34m)\u001b[0m\u001b[0;34m\u001b[0m\u001b[0;34m\u001b[0m\u001b[0m\n\u001b[0m\u001b[1;32m      6\u001b[0m \u001b[0;32mwhile\u001b[0m \u001b[0;36m1\u001b[0m\u001b[0;34m:\u001b[0m\u001b[0;34m\u001b[0m\u001b[0;34m\u001b[0m\u001b[0m\n\u001b[1;32m      7\u001b[0m         \u001b[0msp\u001b[0m \u001b[0;34m=\u001b[0m \u001b[0mfile\u001b[0m\u001b[0;34m.\u001b[0m\u001b[0mread\u001b[0m\u001b[0;34m(\u001b[0m\u001b[0;36m1\u001b[0m\u001b[0;34m)\u001b[0m\u001b[0;34m\u001b[0m\u001b[0;34m\u001b[0m\u001b[0m\n",
            "\u001b[0;31mFileNotFoundError\u001b[0m: [Errno 2] No such file or directory: 'textfile.txt'"
          ]
        }
      ]
    },
    {
      "cell_type": "code",
      "metadata": {
        "id": "Q8aOLjLOygz5"
      },
      "source": [
        ""
      ],
      "execution_count": null,
      "outputs": []
    }
  ]
}