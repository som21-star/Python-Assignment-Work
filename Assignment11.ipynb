{
  "nbformat": 4,
  "nbformat_minor": 0,
  "metadata": {
    "colab": {
      "name": "Untitled31.ipynb",
      "provenance": []
    },
    "kernelspec": {
      "name": "python3",
      "display_name": "Python 3"
    },
    "language_info": {
      "name": "python"
    }
  },
  "cells": [
    {
      "cell_type": "code",
      "metadata": {
        "colab": {
          "base_uri": "https://localhost:8080/"
        },
        "id": "HHKizvF-m7D1",
        "outputId": "d013c5e1-024c-419d-c3ed-8e1da54a4ff5"
      },
      "source": [
        "##Python – Sort Dictionary key and values List\n",
        "# Python3 code to demonstrate working of\n",
        "# Sort Dictionary key and values List\n",
        "# Using dictionary comprehension + sorted()\n",
        "\n",
        "# initializing dictionary\n",
        "test_dict = {'gfg': [7, 6, 3],\n",
        "\t\t\t'is': [2, 10, 3],\n",
        "\t\t\t'best': [19, 4]}\n",
        "\n",
        "# printing original dictionary\n",
        "print(\"The original dictionary is : \" + str(test_dict))\n",
        "\n",
        "# Sort Dictionary key and values List\n",
        "# Using dictionary comprehension + sorted()\n",
        "res = {key : sorted(test_dict[key]) for key in sorted(test_dict)}\n",
        "\n",
        "# printing result\n",
        "print(\"The sorted dictionary : \" + str(res))\n"
      ],
      "execution_count": 1,
      "outputs": [
        {
          "output_type": "stream",
          "text": [
            "The original dictionary is : {'gfg': [7, 6, 3], 'is': [2, 10, 3], 'best': [19, 4]}\n",
            "The sorted dictionary : {'best': [4, 19], 'gfg': [3, 6, 7], 'is': [2, 3, 10]}\n"
          ],
          "name": "stdout"
        }
      ]
    },
    {
      "cell_type": "code",
      "metadata": {
        "colab": {
          "base_uri": "https://localhost:8080/"
        },
        "id": "pepc9N5InG6y",
        "outputId": "ed433877-e821-48f2-ee8e-67086d6dee40"
      },
      "source": [
        "##Handling missing keys in Python dictionaries\n",
        "country_code = {'India' : '0091',\n",
        "\t\t\t\t'Australia' : '0025',\n",
        "\t\t\t\t'Nepal' : '00977'}\n",
        "\n",
        "# search dictionary for country code of India\n",
        "print(country_code.get('India', 'Not Found'))\n",
        "\n",
        "# search dictionary for country code of Japan\n",
        "print(country_code.get('Japan', 'Not Found'))"
      ],
      "execution_count": 3,
      "outputs": [
        {
          "output_type": "stream",
          "text": [
            "0091\n",
            "Not Found\n"
          ],
          "name": "stdout"
        }
      ]
    },
    {
      "cell_type": "code",
      "metadata": {
        "colab": {
          "base_uri": "https://localhost:8080/"
        },
        "id": "lpihedF8n3sS",
        "outputId": "11814c7e-1a80-4f8b-fbde-cec00510f866"
      },
      "source": [
        "##Python dictionary with keys having multiple inputs\n",
        "# Python code to demonstrate a dictionary\n",
        "# with multiple inputs in a key.\n",
        "import random as rn\n",
        "\n",
        "# creating an empty dictionary\n",
        "dict = {}\n",
        "\n",
        "# Insert first triplet in dictionary\n",
        "x, y, z = 10, 20, 30\n",
        "dict[x, y, z] = x + y - z;\n",
        "\n",
        "# Insert second triplet in dictionary\n",
        "x, y, z = 5, 2, 4\n",
        "dict[x, y, z] = x + y - z;\n",
        "\n",
        "# print the dictionary\n",
        "print(dict)\n"
      ],
      "execution_count": 4,
      "outputs": [
        {
          "output_type": "stream",
          "text": [
            "{(10, 20, 30): 0, (5, 2, 4): 3}\n"
          ],
          "name": "stdout"
        }
      ]
    },
    {
      "cell_type": "code",
      "metadata": {
        "colab": {
          "base_uri": "https://localhost:8080/"
        },
        "id": "ArNnquzYpA_O",
        "outputId": "04819292-45d2-478a-95f2-57b22cf05d15"
      },
      "source": [
        "#Print anagrams together in Python using List and Dictionary\n",
        "# Function to return all anagrams together\n",
        "def allAnagram(input):\n",
        "\t\n",
        "\t# empty dictionary which holds subsets\n",
        "\t# of all anagrams together\n",
        "\tdict = {}\n",
        "\n",
        "\t# traverse list of strings\n",
        "\tfor strVal in input:\n",
        "\t\t\n",
        "\t\t# sorted(iterable) method accepts any\n",
        "\t\t# iterable and rerturns list of items\n",
        "\t\t# in ascending order\n",
        "\t\tkey = ''.join(sorted(strVal))\n",
        "\t\t\n",
        "\t\t# now check if key exist in dictionary\n",
        "\t\t# or not. If yes then simply append the\n",
        "\t\t# strVal into the list of it's corresponding\n",
        "\t\t# key. If not then map empty list onto\n",
        "\t\t# key and then start appending values\n",
        "\t\tif key in dict.keys():\n",
        "\t\t\tdict[key].append(strVal)\n",
        "\t\telse:\n",
        "\t\t\tdict[key] = []\n",
        "\t\t\tdict[key].append(strVal)\n",
        "\n",
        "\t# traverse dictionary and concatenate values\n",
        "\t# of keys together\n",
        "\toutput = \"\"\n",
        "\tfor key,value in dict.items():\n",
        "\t\toutput = output + ' '.join(value) + ' '\n",
        "\n",
        "\treturn output\n",
        "\n",
        "# Driver function\n",
        "if __name__ == \"__main__\":\n",
        "\tinput=['cat', 'dog', 'tac', 'god', 'act']\n",
        "\tprint (allAnagram(input))\n"
      ],
      "execution_count": 5,
      "outputs": [
        {
          "output_type": "stream",
          "text": [
            "cat tac act dog god \n"
          ],
          "name": "stdout"
        }
      ]
    },
    {
      "cell_type": "code",
      "metadata": {
        "colab": {
          "base_uri": "https://localhost:8080/"
        },
        "id": "-2JaPWVHpQCh",
        "outputId": "5972eabd-1bcd-4434-a5a8-43149d49bbe0"
      },
      "source": [
        "# Function to find k'th non repeating character\n",
        "# in string\n",
        "from collections import OrderedDict\n",
        "\n",
        "def kthRepeating(input,k):\n",
        "\n",
        "\t# OrderedDict returns a dictionary data\n",
        "\t\t# structure having characters of input\n",
        "\t# string as keys in the same order they\n",
        "\t\t# were inserted and 0 as their default value\n",
        "\tdict=OrderedDict.fromkeys(input,0)\n",
        "\n",
        "\t# now traverse input string to calculate\n",
        "\t\t# frequency of each character\n",
        "\tfor ch in input:\n",
        "\t\tdict[ch]+=1\n",
        "\n",
        "\t# now extract list of all keys whose value\n",
        "\t\t# is 1 from dict Ordered Dictionary\n",
        "\tnonRepeatDict = [key for (key,value) in dict.items() if value==1]\n",
        "\t\n",
        "\t# now return (k-1)th character from above list\n",
        "\tif len(nonRepeatDict) < k:\n",
        "\t\treturn 'Less than k non-repeating characters in input.'\n",
        "\telse:\n",
        "\t\treturn nonRepeatDict[k-1]\n",
        "\n",
        "# Driver function\n",
        "if __name__ == \"__main__\":\n",
        "\tinput = \"geeksforgeeks\"\n",
        "\tk = 3\n",
        "\tprint (kthRepeating(input, k))\n"
      ],
      "execution_count": 6,
      "outputs": [
        {
          "output_type": "stream",
          "text": [
            "r\n"
          ],
          "name": "stdout"
        }
      ]
    },
    {
      "cell_type": "code",
      "metadata": {
        "colab": {
          "base_uri": "https://localhost:8080/"
        },
        "id": "TqRUv5FXfiL2",
        "outputId": "d86305a1-8ad3-4d43-a314-2e1d902d2659"
      },
      "source": [
        "##Check if binary representations of two numbers are anagram\n",
        "# function to Check if binary representations\n",
        "# of two numbers are anagram\n",
        "from collections import Counter\n",
        "\n",
        "def checkAnagram(num1,num2):\n",
        "\n",
        "\t# convert numbers into in binary\n",
        "\t# and remove first two characters of\n",
        "\t# output string because bin function\n",
        "\t# '0b' as prefix in output string\n",
        "\tbin1 = bin(num1)[2:]\n",
        "\tbin2 = bin(num2)[2:]\n",
        "\n",
        "\t# append zeros in shorter string\n",
        "\tzeros = abs(len(bin1)-len(bin2))\n",
        "\tif (len(bin1)>len(bin2)):\n",
        "\t\tbin2 = zeros * '0' + bin2\n",
        "\telse:\n",
        "\t\tbin1 = zeros * '0' + bin1\n",
        "\n",
        "\t# convert binary representations\n",
        "\t# into dictionary\n",
        "\tdict1 = Counter(bin1)\n",
        "\tdict2 = Counter(bin2)\n",
        "\n",
        "\t# compare both dictionaries\n",
        "\tif dict1 == dict2:\n",
        "\t\tprint('Yes')\n",
        "\telse:\n",
        "\t\tprint('No')\n",
        "\n",
        "# Driver program\n",
        "if __name__ == \"__main__\":\n",
        "\tnum1 = 8\n",
        "\tnum2 = 4\n",
        "\tcheckAnagram(num1,num2)\n",
        "\t\n"
      ],
      "execution_count": 7,
      "outputs": [
        {
          "output_type": "stream",
          "text": [
            "Yes\n"
          ],
          "name": "stdout"
        }
      ]
    },
    {
      "cell_type": "code",
      "metadata": {
        "colab": {
          "base_uri": "https://localhost:8080/"
        },
        "id": "AfAYjg81ftMY",
        "outputId": "ba1c6650-bbe5-4d24-8ea0-73a4683bc1ff"
      },
      "source": [
        "# Function to find the size of largest subset\n",
        "# of anagram words\n",
        "from collections import Counter\n",
        "\n",
        "def maxAnagramSize(input):\n",
        "\n",
        "\t# split input string separated by space\n",
        "\tinput = input.split(\" \")\n",
        "\n",
        "\t# sort each string in given list of strings\n",
        "\tfor i in range(0,len(input)):\n",
        "\t\tinput[i]=''.join(sorted(input[i]))\n",
        "\n",
        "\t# now create dictionary using counter method\n",
        "\t# which will have strings as key and their\n",
        "\t# frequencies as value\n",
        "\tfreqDict = Counter(input)\n",
        "\n",
        "\t# get maximum value of frequency\n",
        "\tprint (max(freqDict.values()))\n",
        "\n",
        "# Driver program\n",
        "if __name__ == \"__main__\":\n",
        "\tinput = 'ant magenta magnate tan gnamate'\n",
        "\tmaxAnagramSize(input)\n"
      ],
      "execution_count": 8,
      "outputs": [
        {
          "output_type": "stream",
          "text": [
            "3\n"
          ],
          "name": "stdout"
        }
      ]
    },
    {
      "cell_type": "code",
      "metadata": {
        "colab": {
          "base_uri": "https://localhost:8080/"
        },
        "id": "MFfeXHGAf_AJ",
        "outputId": "8c300599-a82d-4f85-9a20-5e2eaf0f2524"
      },
      "source": [
        "from collections import Counter\n",
        "\n",
        "def remov_duplicates(input):\n",
        "\n",
        "\t# split input string separated by space\n",
        "\tinput = input.split(\" \")\n",
        "\n",
        "\t# joins two adjacent elements in iterable way\n",
        "\tfor i in range(0, len(input)):\n",
        "\t\tinput[i] = \"\".join(input[i])\n",
        "\n",
        "\t# now create dictionary using counter method\n",
        "\t# which will have strings as key and their\n",
        "\t# frequencies as value\n",
        "\tUniqW = Counter(input)\n",
        "\n",
        "\t# joins two adjacent elements in iterable way\n",
        "\ts = \" \".join(UniqW.keys())\n",
        "\tprint (s)\n",
        "\n",
        "# Driver program\n",
        "if __name__ == \"__main__\":\n",
        "\tinput = 'Python is great and Java is also great'\n",
        "\tremov_duplicates(input)\n"
      ],
      "execution_count": 9,
      "outputs": [
        {
          "output_type": "stream",
          "text": [
            "Python is great and Java also\n"
          ],
          "name": "stdout"
        }
      ]
    },
    {
      "cell_type": "code",
      "metadata": {
        "colab": {
          "base_uri": "https://localhost:8080/",
          "height": 316
        },
        "id": "NS39V2f8hLGl",
        "outputId": "2d012ab8-bda4-468e-da13-40fcc5621ed5"
      },
      "source": [
        "# function to mirror characters of a string\n",
        "\n",
        "def mirrorChars(input,k):\n",
        "\n",
        "\t# create dictionary\n",
        "\toriginal = 'abcdefghijklmnopqrstuvwxyz'\n",
        "\treverse = 'zyxwvutsrqponmlkjihgfedcba'\n",
        "\tdictChars = dict(zip(original,reverse))\n",
        "\n",
        "\t# separate out string after length k to change\n",
        "\t# characters in mirror\n",
        "\tprefix = input[0:k-1]\n",
        "\tsuffix = input[k-1:]\n",
        "\tmirror = ''\n",
        "\n",
        "\t# change into mirror\n",
        "\tfor i in range(0,len(suffix)):\n",
        "\t\tmirror = mirror + dictChars[suffix[i]]\n",
        "\n",
        "\t# concat prefix and mirrored part\n",
        "\tprint (prefix+mirror)\n",
        "\t\t\n",
        "# Driver program\n",
        "if __name__ == \"__main__\":\n",
        "\tinput = 'paradox'\n",
        "\tk = 3\n",
        "\tmirrorChars(input,k)\n"
      ],
      "execution_count": 10,
      "outputs": [
        {
          "output_type": "error",
          "ename": "TypeError",
          "evalue": "ignored",
          "traceback": [
            "\u001b[0;31m---------------------------------------------------------------------------\u001b[0m",
            "\u001b[0;31mTypeError\u001b[0m                                 Traceback (most recent call last)",
            "\u001b[0;32m<ipython-input-10-d9b3a057e352>\u001b[0m in \u001b[0;36m<module>\u001b[0;34m()\u001b[0m\n\u001b[1;32m     25\u001b[0m         \u001b[0minput\u001b[0m \u001b[0;34m=\u001b[0m \u001b[0;34m'paradox'\u001b[0m\u001b[0;34m\u001b[0m\u001b[0;34m\u001b[0m\u001b[0m\n\u001b[1;32m     26\u001b[0m         \u001b[0mk\u001b[0m \u001b[0;34m=\u001b[0m \u001b[0;36m3\u001b[0m\u001b[0;34m\u001b[0m\u001b[0;34m\u001b[0m\u001b[0m\n\u001b[0;32m---> 27\u001b[0;31m         \u001b[0mmirrorChars\u001b[0m\u001b[0;34m(\u001b[0m\u001b[0minput\u001b[0m\u001b[0;34m,\u001b[0m\u001b[0mk\u001b[0m\u001b[0;34m)\u001b[0m\u001b[0;34m\u001b[0m\u001b[0;34m\u001b[0m\u001b[0m\n\u001b[0m",
            "\u001b[0;32m<ipython-input-10-d9b3a057e352>\u001b[0m in \u001b[0;36mmirrorChars\u001b[0;34m(input, k)\u001b[0m\n\u001b[1;32m      6\u001b[0m         \u001b[0moriginal\u001b[0m \u001b[0;34m=\u001b[0m \u001b[0;34m'abcdefghijklmnopqrstuvwxyz'\u001b[0m\u001b[0;34m\u001b[0m\u001b[0;34m\u001b[0m\u001b[0m\n\u001b[1;32m      7\u001b[0m         \u001b[0mreverse\u001b[0m \u001b[0;34m=\u001b[0m \u001b[0;34m'zyxwvutsrqponmlkjihgfedcba'\u001b[0m\u001b[0;34m\u001b[0m\u001b[0;34m\u001b[0m\u001b[0m\n\u001b[0;32m----> 8\u001b[0;31m         \u001b[0mdictChars\u001b[0m \u001b[0;34m=\u001b[0m \u001b[0mdict\u001b[0m\u001b[0;34m(\u001b[0m\u001b[0mzip\u001b[0m\u001b[0;34m(\u001b[0m\u001b[0moriginal\u001b[0m\u001b[0;34m,\u001b[0m\u001b[0mreverse\u001b[0m\u001b[0;34m)\u001b[0m\u001b[0;34m)\u001b[0m\u001b[0;34m\u001b[0m\u001b[0;34m\u001b[0m\u001b[0m\n\u001b[0m\u001b[1;32m      9\u001b[0m \u001b[0;34m\u001b[0m\u001b[0m\n\u001b[1;32m     10\u001b[0m         \u001b[0;31m# separate out string after length k to change\u001b[0m\u001b[0;34m\u001b[0m\u001b[0;34m\u001b[0m\u001b[0;34m\u001b[0m\u001b[0m\n",
            "\u001b[0;31mTypeError\u001b[0m: 'dict' object is not callable"
          ]
        }
      ]
    },
    {
      "cell_type": "code",
      "metadata": {
        "colab": {
          "base_uri": "https://localhost:8080/"
        },
        "id": "aOLmy6iNhPSK",
        "outputId": "0dbea8c5-5124-413c-bec9-b88d755c554e"
      },
      "source": [
        "# Python program to count the frequency of\n",
        "# elements in a list using a dictionary\n",
        "\n",
        "def CountFrequency(my_list):\n",
        "\n",
        "\t# Creating an empty dictionary\n",
        "\tfreq = {}\n",
        "\tfor item in my_list:\n",
        "\t\tif (item in freq):\n",
        "\t\t\tfreq[item] += 1\n",
        "\t\telse:\n",
        "\t\t\tfreq[item] = 1\n",
        "\n",
        "\tfor key, value in freq.items():\n",
        "\t\tprint (\"% d : % d\"%(key, value))\n",
        "\n",
        "# Driver function\n",
        "if __name__ == \"__main__\":\n",
        "\tmy_list =[1, 1, 1, 5, 5, 3, 1, 3, 3, 1, 4, 4, 4, 2, 2, 2, 2]\n",
        "\n",
        "\tCountFrequency(my_list)\n"
      ],
      "execution_count": 11,
      "outputs": [
        {
          "output_type": "stream",
          "text": [
            " 1 :  5\n",
            " 5 :  2\n",
            " 3 :  3\n",
            " 4 :  3\n",
            " 2 :  4\n"
          ],
          "name": "stdout"
        }
      ]
    },
    {
      "cell_type": "code",
      "metadata": {
        "id": "va0X0m5ghYDs"
      },
      "source": [
        ""
      ],
      "execution_count": null,
      "outputs": []
    }
  ]
}