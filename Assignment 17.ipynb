{
  "nbformat": 4,
  "nbformat_minor": 0,
  "metadata": {
    "colab": {
      "name": "Untitled40.ipynb",
      "provenance": []
    },
    "kernelspec": {
      "name": "python3",
      "display_name": "Python 3"
    },
    "language_info": {
      "name": "python"
    }
  },
  "cells": [
    {
      "cell_type": "code",
      "metadata": {
        "colab": {
          "base_uri": "https://localhost:8080/"
        },
        "id": "7-q9BtPrnxdQ",
        "outputId": "9160c4c4-f8a4-4ae5-f636-81ce37e7408f"
      },
      "source": [
        "##Python program to find difference between current time and given time\n",
        "# Python program to find the\n",
        "# difference between two times\n",
        "\n",
        "\n",
        "# function to obtain the time\n",
        "# in minutes form\n",
        "def difference(h1, m1, h2, m2):\n",
        "\t\n",
        "\t# convert h1 : m1 into\n",
        "\t# minutes\n",
        "\tt1 = h1 * 60 + m1\n",
        "\t\n",
        "\t# convert h2 : m2 into\n",
        "\t# minutes\n",
        "\tt2 = h2 * 60 + m2\n",
        "\t\n",
        "\tif (t1 == t2):\n",
        "\t\tprint(\"Both are same times\")\n",
        "\t\treturn\n",
        "\telse:\n",
        "\t\t\n",
        "\t\t# calculating the difference\n",
        "\t\tdiff = t2-t1\n",
        "\t\t\n",
        "\t# calculating hours from\n",
        "\t# difference\n",
        "\th = (int(diff / 60)) % 24\n",
        "\t\n",
        "\t# calculating minutes from\n",
        "\t# difference\n",
        "\tm = diff % 60\n",
        "\n",
        "\tprint(h, \":\", m)\n",
        "\n",
        "# Driver's code\n",
        "if __name__ == \"__main__\":\n",
        "\t\n",
        "\tdifference(7, 20, 9, 45)\n",
        "\tdifference(15, 23, 18, 54)\n",
        "\tdifference(16, 20, 16, 20)"
      ],
      "execution_count": 1,
      "outputs": [
        {
          "output_type": "stream",
          "text": [
            "2 : 25\n",
            "3 : 31\n",
            "Both are same times\n"
          ],
          "name": "stdout"
        }
      ]
    },
    {
      "cell_type": "code",
      "metadata": {
        "colab": {
          "base_uri": "https://localhost:8080/"
        },
        "id": "yDFN3BP8oFxv",
        "outputId": "28307a99-2a5b-4557-a647-ccf0ddfd8313"
      },
      "source": [
        "# importing libraries\n",
        "import time\n",
        "\n",
        "\n",
        "# Timer starts\n",
        "starttime=time.time()\n",
        "lasttime=starttime\n",
        "lapnum=1\n",
        "\n",
        "print(\"Press ENTER to count laps.\\nPress CTRL+C to stop\")\n",
        "\n",
        "try:\n",
        "\twhile True:\n",
        "\t\t\t\n",
        "\t\t# Input for the ENTER key press\n",
        "\t\tinput()\n",
        "\n",
        "\t\t# The current lap-time\n",
        "\t\tlaptime=round((time.time() - lasttime), 2)\n",
        "\n",
        "\t\t# Total time elapsed\n",
        "\t\t# since the timer started\n",
        "\t\ttotaltime=round((time.time() - starttime), 2)\n",
        "\n",
        "\t\t# Printing the lap number,\n",
        "\t\t# lap-time and total time\n",
        "\t\tprint(\"Lap No. \"+str(lapnum))\n",
        "\t\tprint(\"Total Time: \"+str(totaltime))\n",
        "\t\tprint(\"Lap Time: \"+str(laptime))\n",
        "\t\t\t\n",
        "\t\tprint(\"*\"*20)\n",
        "\n",
        "\t\t# Updating the previous total time\n",
        "\t\t# and lap number\n",
        "\t\tlasttime=time.time()\n",
        "\t\tlapnum+=1\n",
        "\n",
        "# Stopping when CTRL+C is pressed\n",
        "except KeyboardInterrupt:\n",
        "\tprint(\"Done\")\n"
      ],
      "execution_count": 3,
      "outputs": [
        {
          "output_type": "stream",
          "text": [
            "Press ENTER to count laps.\n",
            "Press CTRL+C to stop\n",
            "Done\n"
          ],
          "name": "stdout"
        }
      ]
    },
    {
      "cell_type": "code",
      "metadata": {
        "colab": {
          "base_uri": "https://localhost:8080/"
        },
        "id": "4BjTgnlxoOXV",
        "outputId": "6efa22ff-42fd-4ab6-9430-bc8dfd0cf4fa"
      },
      "source": [
        "# Python program to convert\n",
        "# date to timestamp\n",
        "\n",
        "\n",
        "import time\n",
        "import datetime\n",
        "\n",
        "\n",
        "string = \"20/01/2020\"\n",
        "print(time.mktime(datetime.datetime.strptime(string,\n",
        "\t\t\t\t\t\t\t\t\t\t\t\"%d/%m/%Y\").timetuple()))\n"
      ],
      "execution_count": 4,
      "outputs": [
        {
          "output_type": "stream",
          "text": [
            "1579478400.0\n"
          ],
          "name": "stdout"
        }
      ]
    },
    {
      "cell_type": "code",
      "metadata": {
        "colab": {
          "base_uri": "https://localhost:8080/"
        },
        "id": "j0eawhAcpJ4b",
        "outputId": "eb30082e-44a9-43ff-ae87-cb1da712f75f"
      },
      "source": [
        "from datetime import datetime\n",
        "\n",
        "\n",
        "timestamp = 1545730073\n",
        "dt_obj = datetime.fromtimestamp(1140825600)\n",
        "\n",
        "print(\"date_time:\",dt_obj)\n",
        "print(\"type of dt:\",type(dt_obj))\n"
      ],
      "execution_count": 5,
      "outputs": [
        {
          "output_type": "stream",
          "text": [
            "date_time: 2006-02-25 00:00:00\n",
            "type of dt: <class 'datetime.datetime'>\n"
          ],
          "name": "stdout"
        }
      ]
    },
    {
      "cell_type": "code",
      "metadata": {
        "colab": {
          "base_uri": "https://localhost:8080/"
        },
        "id": "zXfaNNDEpVwa",
        "outputId": "416e7a97-3ba2-4750-d265-c5a5e075fde7"
      },
      "source": [
        "# python program Find number of\n",
        "# times every day occurs in a Year\n",
        "\n",
        "\n",
        "import datetime\n",
        "import calendar\n",
        "\n",
        "def day_occur_time(year):\n",
        "\t\n",
        "\t# stores days in a week\n",
        "\tdays = [ \"Monday\", \"Tuesday\", \"Wednesday\",\n",
        "\t\t\"Thursday\", \"Friday\", \"Saturday\",\n",
        "\t\t\"Sunday\" ]\n",
        "\t\n",
        "\t# Initialize all counts as 52\n",
        "\tL = [52 for i in range(7)]\n",
        "\t\n",
        "\t# Find the index of the first day\n",
        "\t# of the year\n",
        "\tpos = -1\n",
        "\tday = datetime.datetime(year, month = 1, day = 1).strftime(\"%A\")\n",
        "\tfor i in range(7):\n",
        "\t\tif day == days[i]:\n",
        "\t\t\tpos = i\n",
        "\t\t\t\n",
        "\t# mark the occurrence to be 53 of 1st day\n",
        "\t# and 2nd day if the year is leap year\n",
        "\tif calendar.isleap(year):\n",
        "\t\tL[pos] += 1\n",
        "\t\tL[(pos+1)%7] += 1\n",
        "\t\t\n",
        "\telse:\n",
        "\t\tL[pos] += 1\n",
        "\t\t\n",
        "\t\n",
        "\t# Print the days\n",
        "\tfor i in range(7):\n",
        "\t\tprint(days[i], L[i])\n",
        "\t\n",
        "\n",
        "# Driver Code\n",
        "year = 2019\n",
        "day_occur_time(year)\n"
      ],
      "execution_count": 6,
      "outputs": [
        {
          "output_type": "stream",
          "text": [
            "Monday 52\n",
            "Tuesday 53\n",
            "Wednesday 52\n",
            "Thursday 52\n",
            "Friday 52\n",
            "Saturday 52\n",
            "Sunday 52\n"
          ],
          "name": "stdout"
        }
      ]
    },
    {
      "cell_type": "code",
      "metadata": {
        "colab": {
          "base_uri": "https://localhost:8080/"
        },
        "id": "cTI4nzVOpiNw",
        "outputId": "175fd113-0570-4cf5-d5cf-99eda268f1e4"
      },
      "source": [
        "# _importing module\n",
        "import re\n",
        "\n",
        "\n",
        "def check(str, pattern):\n",
        "\t\n",
        "\t# _matching the strings\n",
        "\tif re.search(pattern, str):\n",
        "\t\tprint(\"Valid String\")\n",
        "\telse:\n",
        "\t\tprint(\"Invalid String\")\n",
        "\n",
        "# _driver code\n",
        "pattern = re.compile('^[1234]+$')\n",
        "check('2134', pattern)\n",
        "check('349', pattern)\n"
      ],
      "execution_count": 7,
      "outputs": [
        {
          "output_type": "stream",
          "text": [
            "Valid String\n",
            "Invalid String\n"
          ],
          "name": "stdout"
        }
      ]
    },
    {
      "cell_type": "code",
      "metadata": {
        "colab": {
          "base_uri": "https://localhost:8080/"
        },
        "id": "oT9__s3Mpo0H",
        "outputId": "0a92f1b7-5242-4fab-f965-05a351d41a1a"
      },
      "source": [
        "import re\n",
        "\n",
        "\n",
        "string = \"ThisIsGeeksforGeeks !, 123\"\n",
        "\n",
        "# Creating separate lists using\n",
        "# the re.findall() method.\n",
        "uppercase_characters = re.findall(r\"[A-Z]\", string)\n",
        "lowercase_characters = re.findall(r\"[a-z]\", string)\n",
        "numerical_characters = re.findall(r\"[0-9]\", string)\n",
        "special_characters = re.findall(r\"[, .!?]\", string)\n",
        "\n",
        "print(\"The no. of uppercase characters is\", len(uppercase_characters))\n",
        "print(\"The no. of lowercase characters is\", len(lowercase_characters))\n",
        "print(\"The no. of numerical characters is\", len(numerical_characters))\n",
        "print(\"The no. of special characters is\", len(special_characters))\n"
      ],
      "execution_count": 8,
      "outputs": [
        {
          "output_type": "stream",
          "text": [
            "The no. of uppercase characters is 4\n",
            "The no. of lowercase characters is 15\n",
            "The no. of numerical characters is 3\n",
            "The no. of special characters is 4\n"
          ],
          "name": "stdout"
        }
      ]
    },
    {
      "cell_type": "code",
      "metadata": {
        "colab": {
          "base_uri": "https://localhost:8080/"
        },
        "id": "wvLT2cKmpwG3",
        "outputId": "ec6b37ad-46ce-40c9-eb65-637a7a1424e1"
      },
      "source": [
        "# your code goes here# Python program to\n",
        "# find the most occurring element\n",
        "import re\n",
        "from collections import Counter\n",
        "\n",
        "def most_occr_element(word):\n",
        "\t\n",
        "\t# re.findall will extract all the elements\n",
        "\t# from the string and make a list\n",
        "\tarr = re.findall(r'[0-9]+', word)\t\n",
        "\t\n",
        "\t# to store maxm frequency\n",
        "\tmaxm = 0\n",
        "\n",
        "\t# to store maxm element of most frequency\n",
        "\tmax_elem = 0\n",
        "\t\n",
        "\t# counter will store all the number with\n",
        "\t# their frequencies\n",
        "\t# c = counter((55, 2), (2, 1), (3, 1), (4, 1))\t\n",
        "\tc = Counter(arr)\n",
        "\t\n",
        "\t# Store all the keys of counter in a list in\n",
        "\t# which first would we our required element\t\n",
        "\tfor x in list(c.keys()):\n",
        "\n",
        "\t\tif c[x]>= maxm:\n",
        "\t\t\tmaxm = c[x]\n",
        "\t\t\tmax_elem = int(x)\n",
        "\t\t\t\t\n",
        "\treturn max_elem\n",
        "\n",
        "# Driver program\n",
        "if __name__ == \"__main__\":\n",
        "\tword = 'geek55of55gee4ksabc3dr2x'\n",
        "\tprint(most_occr_element(word))\n"
      ],
      "execution_count": 9,
      "outputs": [
        {
          "output_type": "stream",
          "text": [
            "55\n"
          ],
          "name": "stdout"
        }
      ]
    },
    {
      "cell_type": "code",
      "metadata": {
        "colab": {
          "base_uri": "https://localhost:8080/"
        },
        "id": "m5LAotWNp1Tt",
        "outputId": "2f262f8e-9665-4a2c-bd6b-cb3e79538cfc"
      },
      "source": [
        "# Function to extract maximum numeric value from\n",
        "# a given string\n",
        "import re\n",
        "\n",
        "def extractMax(input):\n",
        "\n",
        "\t# get a list of all numbers separated by\n",
        "\t# lower case characters\n",
        "\t# \\d+ is a regular expression which means\n",
        "\t# one or more digit\n",
        "\t# output will be like ['100','564','365']\n",
        "\tnumbers = re.findall('\\d+',input)\n",
        "\n",
        "\t# now we need to convert each number into integer\n",
        "\t# int(string) converts string into integer\n",
        "\t# we will map int() function onto all elements\n",
        "\t# of numbers list\n",
        "\tnumbers = map(int,numbers)\n",
        "\n",
        "\tprint (max(numbers))\n",
        "\n",
        "# Driver program\n",
        "if __name__ == \"__main__\":\n",
        "\tinput = '100klh564abc365bg'\n",
        "\textractMax(input)\n"
      ],
      "execution_count": 11,
      "outputs": [
        {
          "output_type": "stream",
          "text": [
            "564\n"
          ],
          "name": "stdout"
        }
      ]
    },
    {
      "cell_type": "code",
      "metadata": {
        "colab": {
          "base_uri": "https://localhost:8080/",
          "height": 128
        },
        "id": "kGSztcZSp6nl",
        "outputId": "f9a8abcb-612e-42f9-c8ae-c4e3f9bb268b"
      },
      "source": [
        "import re\n",
        "\n",
        "def putSpace(input):\n",
        "\n",
        "\t# regex [A-Z][a-z]* means any string starting\n",
        "\t# with capital character followed by many\n",
        "\t# lowercase letters\n",
        "\twords = re.findall('[A-Z][a-z]*', input)\n",
        "\n",
        "\t# Change first letter of each word into lower\n",
        "\t# case\n",
        "\tfor i in range(0,len(words)):\n",
        "   words[i]=words[i][0].lower()+words[i][1:]\n",
        "\t print(' '.join(words))\n",
        "\t\n",
        "\n",
        "# Driver program\n",
        "if __name__ == \"__main__\":\n",
        "\tinput = 'BruceWayneIsBatman'\n",
        "\tputSpace(input)\n"
      ],
      "execution_count": 13,
      "outputs": [
        {
          "output_type": "error",
          "ename": "IndentationError",
          "evalue": "ignored",
          "traceback": [
            "\u001b[0;36m  File \u001b[0;32m\"<ipython-input-13-084ea897eaac>\"\u001b[0;36m, line \u001b[0;32m13\u001b[0m\n\u001b[0;31m    words[i]=words[i][0].lower()+words[i][1:]\u001b[0m\n\u001b[0m                                             ^\u001b[0m\n\u001b[0;31mIndentationError\u001b[0m\u001b[0;31m:\u001b[0m unindent does not match any outer indentation level\n"
          ]
        }
      ]
    },
    {
      "cell_type": "code",
      "metadata": {
        "id": "QIV94mcUqdkT"
      },
      "source": [
        ""
      ],
      "execution_count": null,
      "outputs": []
    }
  ]
}