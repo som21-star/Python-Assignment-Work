{
  "nbformat": 4,
  "nbformat_minor": 0,
  "metadata": {
    "colab": {
      "name": "Untitled27.ipynb",
      "provenance": []
    },
    "kernelspec": {
      "name": "python3",
      "display_name": "Python 3"
    },
    "language_info": {
      "name": "python"
    }
  },
  "cells": [
    {
      "cell_type": "code",
      "metadata": {
        "colab": {
          "base_uri": "https://localhost:8080/"
        },
        "id": "beyEYNeArq7N",
        "outputId": "ff98be44-4061-46a9-8cc6-e36f477f65ba"
      },
      "source": [
        "#Reverse words in a given String in Python\n",
        "def reverse_string_words(text):\n",
        "    for line in text.split('\\n'):\n",
        "        return(' '.join(line.split()[::-1]))\n",
        "print(reverse_string_words(\"The quick brown fox jumps over the lazy dog.\"))\n",
        "print(reverse_string_words(\"Python Exercises.\"))\n"
      ],
      "execution_count": 1,
      "outputs": [
        {
          "output_type": "stream",
          "text": [
            "dog. lazy the over jumps fox brown quick The\n",
            "Exercises. Python\n"
          ],
          "name": "stdout"
        }
      ]
    },
    {
      "cell_type": "code",
      "metadata": {
        "colab": {
          "base_uri": "https://localhost:8080/"
        },
        "id": "mtaZhQuPedAA",
        "outputId": "809d594c-1546-44d2-cf7d-a074d56648fd"
      },
      "source": [
        "# Python code to demonstrate\n",
        "# method to remove i'th character\n",
        "# using slice + concatenation\n",
        "\n",
        "# Initializing String\n",
        "test_str = \"GeeksForGeeks\"\n",
        "\n",
        "# Printing original string\n",
        "print (\"The original string is : \" + test_str)\n",
        "\n",
        "# Removing char at pos 3\n",
        "# using slice + concatenation\n",
        "new_str = test_str[:2] + test_str[3:]\n",
        "\n",
        "# Printing string after removal\n",
        "# removes ele. at 3rd index\n",
        "print (\"The string after removal of i'th character : \" + new_str)\n"
      ],
      "execution_count": 2,
      "outputs": [
        {
          "output_type": "stream",
          "text": [
            "The original string is : GeeksForGeeks\n",
            "The string after removal of i'th character : GeksForGeeks\n"
          ],
          "name": "stdout"
        }
      ]
    },
    {
      "cell_type": "code",
      "metadata": {
        "colab": {
          "base_uri": "https://localhost:8080/"
        },
        "id": "98LaVc_VenKd",
        "outputId": "14624bb8-09c8-44b3-c47e-31377e9df06f"
      },
      "source": [
        "#Python | Check if a Substring is Present in a Given String\n",
        "def check(s2, s1):\n",
        "\tif (s2.count(s1)>0):\t\n",
        "\t\tprint(\"YES\")\n",
        "\telse:\n",
        "\t\tprint(\"NO\")\n",
        "\t\t\t\n",
        "s2 = \"A geek in need is a geek indeed\"\n",
        "s1 =\"geek\"\n",
        "check(s2, s1)\n"
      ],
      "execution_count": 3,
      "outputs": [
        {
          "output_type": "stream",
          "text": [
            "YES\n"
          ],
          "name": "stdout"
        }
      ]
    },
    {
      "cell_type": "code",
      "metadata": {
        "colab": {
          "base_uri": "https://localhost:8080/"
        },
        "id": "i7_9MWxAgO4l",
        "outputId": "85f74467-9ace-4918-8a31-8154f1b473e5"
      },
      "source": [
        "##Python | Check if a Substring is Present in a Given String\n",
        "# Python3 code to demonstrate working of\n",
        "# Words Frequency in String Shorthands\n",
        "# Using dictionary comprehension + count() + split()\n",
        "\n",
        "# initializing string\n",
        "test_str = 'Gfg is best . Geeks are good and Geeks like Gfg'\n",
        "\n",
        "# printing original string\n",
        "print(\"The original string is : \" + str(test_str))\n",
        "\n",
        "# Words Frequency in String Shorthands\n",
        "# Using dictionary comprehension + count() + split()\n",
        "res = {key: test_str.count(key) for key in test_str.split()}\n",
        "\n",
        "# printing result\n",
        "print(\"The words frequency : \" + str(res))\n"
      ],
      "execution_count": 4,
      "outputs": [
        {
          "output_type": "stream",
          "text": [
            "The original string is : Gfg is best . Geeks are good and Geeks like Gfg\n",
            "The words frequency : {'Gfg': 2, 'is': 1, 'best': 1, '.': 1, 'Geeks': 2, 'are': 1, 'good': 1, 'and': 1, 'like': 1}\n"
          ],
          "name": "stdout"
        }
      ]
    },
    {
      "cell_type": "code",
      "metadata": {
        "colab": {
          "base_uri": "https://localhost:8080/"
        },
        "id": "yZn4CcYNg7WM",
        "outputId": "1d462eed-41b5-4091-db52-296b3bd41c55"
      },
      "source": [
        "##Python – Convert Snake case to Pascal case\n",
        "# Python3 code to demonstrate working of\n",
        "# Convert Snake case to Pascal case\n",
        "# Using title() + replace()\n",
        "\n",
        "# initializing string\n",
        "test_str = 'geeksforgeeks_is_best'\n",
        "\n",
        "# printing original string\n",
        "print(\"The original string is : \" + test_str)\n",
        "\n",
        "# Convert Snake case to Pascal case\n",
        "# Using title() + replace()\n",
        "res = test_str.replace(\"_\", \" \").title().replace(\" \", \"\")\n",
        "\n",
        "# printing result\n",
        "print(\"The String after changing case : \" + str(res))\n"
      ],
      "execution_count": 5,
      "outputs": [
        {
          "output_type": "stream",
          "text": [
            "The original string is : geeksforgeeks_is_best\n",
            "The String after changing case : GeeksforgeeksIsBest\n"
          ],
          "name": "stdout"
        }
      ]
    },
    {
      "cell_type": "code",
      "metadata": {
        "colab": {
          "base_uri": "https://localhost:8080/"
        },
        "id": "LcjrW_5uhX9R",
        "outputId": "f1a807f9-7e75-4941-bbeb-1af7a720efe6"
      },
      "source": [
        "# Python code to demonstrate string length\n",
        "# using len\n",
        "\n",
        "str = \"geeks\"\n",
        "print(len(str))\n"
      ],
      "execution_count": 6,
      "outputs": [
        {
          "output_type": "stream",
          "text": [
            "5\n"
          ],
          "name": "stdout"
        }
      ]
    },
    {
      "cell_type": "code",
      "metadata": {
        "colab": {
          "base_uri": "https://localhost:8080/"
        },
        "id": "jtU56L6fhfoE",
        "outputId": "bb23a8c7-767c-4ba2-c6ad-6f568caa192c"
      },
      "source": [
        "##Python program to print even length words in a string\n",
        "# Python3 program to print\n",
        "# even length words in a string\n",
        "\n",
        "def printWords(s):\n",
        "\t\n",
        "\t# split the string\n",
        "\ts = s.split(' ')\n",
        "\t\n",
        "\t# iterate in words of string\n",
        "\tfor word in s:\n",
        "\t\t\n",
        "\t\t# if length is even\n",
        "\t\tif len(word)%2==0:\n",
        "\t\t\tprint(word)\n",
        "\n",
        "\n",
        "# Driver Code\n",
        "s = \"i am muskan\"\n",
        "printWords(s)"
      ],
      "execution_count": 7,
      "outputs": [
        {
          "output_type": "stream",
          "text": [
            "am\n",
            "muskan\n"
          ],
          "name": "stdout"
        }
      ]
    },
    {
      "cell_type": "code",
      "metadata": {
        "colab": {
          "base_uri": "https://localhost:8080/"
        },
        "id": "hCTGfnK-pjLm",
        "outputId": "0917be7f-36fe-4673-b83a-ba81c03c37bb"
      },
      "source": [
        "# Python program for the above approach\n",
        "def check(string):\n",
        "\tif len(set(string.lower()).intersection(\"aeiou\")) >= 5:\n",
        "\t\treturn ('accepted')\n",
        "\telse:\n",
        "\t\treturn (\"not accepted\")\n",
        "\n",
        "\n",
        "# Driver code\n",
        "if __name__ == \"__main__\":\n",
        "\tstring = \"geeksforgeeks\"\n",
        "\tprint(check(string))\n"
      ],
      "execution_count": 8,
      "outputs": [
        {
          "output_type": "stream",
          "text": [
            "not accepted\n"
          ],
          "name": "stdout"
        }
      ]
    },
    {
      "cell_type": "code",
      "metadata": {
        "colab": {
          "base_uri": "https://localhost:8080/"
        },
        "id": "18n5_638psnr",
        "outputId": "01308bb0-50d8-4f60-f409-c4d5b23ccdad"
      },
      "source": [
        "##Python | Count the Number of matching characters in a pair of string\n",
        "# Count the Number of matching characters in\n",
        "# a pair of string\n",
        "import re\n",
        "ip1 = \"geeks\"\n",
        "ip2 = \"geeksonly\"\n",
        "\n",
        "c = 0\n",
        "for i in ip1:\n",
        "\tif re.search(i,ip2):\n",
        "\t\tc=c+1\n",
        "print(\"No. of matching characters are \", c)\n"
      ],
      "execution_count": 9,
      "outputs": [
        {
          "output_type": "stream",
          "text": [
            "No. of matching characters are  5\n"
          ],
          "name": "stdout"
        }
      ]
    },
    {
      "cell_type": "code",
      "metadata": {
        "colab": {
          "base_uri": "https://localhost:8080/"
        },
        "id": "tusPHlI1p1aO",
        "outputId": "089dc918-442a-4367-9890-16b83b16e46c"
      },
      "source": [
        "##Remove all duplicates from a given string in Python\n",
        "def removeDuplicate(str):\n",
        "\ts=set(str)\n",
        "\ts=\"\".join(s)\n",
        "\tprint(\"Without Order:\",s)\n",
        "\tt=\"\"\n",
        "\tfor i in str:\n",
        "\t\tif(i in t):\n",
        "\t\t\tpass\n",
        "\t\telse:\n",
        "\t\t\tt=t+i\n",
        "\t\tprint(\"With Order:\",t)\n",
        "\t\n",
        "str=\"geeksforgeeks\"\n",
        "removeDuplicate(str)\n"
      ],
      "execution_count": 10,
      "outputs": [
        {
          "output_type": "stream",
          "text": [
            "Without Order: regksof\n",
            "With Order: g\n",
            "With Order: ge\n",
            "With Order: ge\n",
            "With Order: gek\n",
            "With Order: geks\n",
            "With Order: geksf\n",
            "With Order: geksfo\n",
            "With Order: geksfor\n",
            "With Order: geksfor\n",
            "With Order: geksfor\n",
            "With Order: geksfor\n",
            "With Order: geksfor\n",
            "With Order: geksfor\n"
          ],
          "name": "stdout"
        }
      ]
    },
    {
      "cell_type": "code",
      "metadata": {
        "id": "acKQZO16qBDu"
      },
      "source": [
        ""
      ],
      "execution_count": null,
      "outputs": []
    }
  ]
}