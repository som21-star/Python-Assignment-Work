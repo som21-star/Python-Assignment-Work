{
  "nbformat": 4,
  "nbformat_minor": 0,
  "metadata": {
    "colab": {
      "name": "Untitled24.ipynb",
      "provenance": []
    },
    "kernelspec": {
      "name": "python3",
      "display_name": "Python 3"
    },
    "language_info": {
      "name": "python"
    }
  },
  "cells": [
    {
      "cell_type": "code",
      "metadata": {
        "colab": {
          "base_uri": "https://localhost:8080/"
        },
        "id": "iTHOFeJGlgnc",
        "outputId": "b31f6948-8119-4fc7-cfb9-6c29babc6645"
      },
      "source": [
        "##Python program to find smallest number in a list\n",
        "# Python program to find smallest\n",
        "# number in a list\n",
        "\n",
        "# list of numbers\n",
        "list1 = [10, 20, 4, 45, 99]\n",
        "\n",
        "# sorting the list\n",
        "list1.sort()\n",
        "\n",
        "# printing the first element\n",
        "print(\"Smallest element is:\", *list1[:1])\n"
      ],
      "execution_count": 1,
      "outputs": [
        {
          "output_type": "stream",
          "text": [
            "Smallest element is: 4\n"
          ],
          "name": "stdout"
        }
      ]
    },
    {
      "cell_type": "code",
      "metadata": {
        "colab": {
          "base_uri": "https://localhost:8080/"
        },
        "id": "bgUbrejplr11",
        "outputId": "4a5e7e5a-40ab-42bf-8984-bb1e938fb73f"
      },
      "source": [
        "##Python program to find largest number in a list\n",
        "# Python program to find largest\n",
        "# number in a list\n",
        "\n",
        "# list of numbers\n",
        "list1 = [10, 20, 4, 45, 99]\n",
        "\n",
        "# sorting the list\n",
        "list1.sort()\n",
        "\n",
        "# printing the last element\n",
        "print(\"Largest element is:\", list1[-1])\n"
      ],
      "execution_count": 2,
      "outputs": [
        {
          "output_type": "stream",
          "text": [
            "Largest element is: 99\n"
          ],
          "name": "stdout"
        }
      ]
    },
    {
      "cell_type": "code",
      "metadata": {
        "colab": {
          "base_uri": "https://localhost:8080/"
        },
        "id": "Mw8UDm4ZfGl1",
        "outputId": "8d8700fc-9200-46ff-ac23-cf5a42d635c6"
      },
      "source": [
        "# Python program to find largest\n",
        "# number in a list\n",
        "\n",
        "# list of numbers\n",
        "list1 = [10, 20, 4, 45, 99]\n",
        "\n",
        "# sorting the list\n",
        "list1.sort()\n",
        "\n",
        "# printing the second last element\n",
        "print(\"Second largest element is:\", list1[-2])\n"
      ],
      "execution_count": 3,
      "outputs": [
        {
          "output_type": "stream",
          "text": [
            "Second largest element is: 45\n"
          ],
          "name": "stdout"
        }
      ]
    },
    {
      "cell_type": "code",
      "metadata": {
        "colab": {
          "base_uri": "https://localhost:8080/"
        },
        "id": "o4w94UAbfN_s",
        "outputId": "0e7b077a-af98-425c-ff87-3f671918ae52"
      },
      "source": [
        "##Python program to find N largest elements from a list\n",
        "# Python program to find N largest\n",
        "# element from given list of integers\n",
        "\n",
        "l = [1000,298,3579,100,200,-45,900]\n",
        "n = 4\n",
        "\n",
        "l.sort()\n",
        "print(l[-n:])\n"
      ],
      "execution_count": 4,
      "outputs": [
        {
          "output_type": "stream",
          "text": [
            "[298, 900, 1000, 3579]\n"
          ],
          "name": "stdout"
        }
      ]
    },
    {
      "cell_type": "code",
      "metadata": {
        "colab": {
          "base_uri": "https://localhost:8080/"
        },
        "id": "aaByJPkYfxxN",
        "outputId": "3cd58574-e1f5-4b78-b24a-2add4cf1dab8"
      },
      "source": [
        "##Python program to print even numbers in a list\n",
        "# Python program to print even Numbers in a List\n",
        "\n",
        "# list of numbers\n",
        "list1 = [10, 21, 4, 45, 66, 93]\n",
        "\n",
        "# using list comprehension\n",
        "even_nos = [num for num in list1 if num % 2 == 0]\n",
        "\n",
        "print(\"Even numbers in the list: \", even_nos)\n"
      ],
      "execution_count": 5,
      "outputs": [
        {
          "output_type": "stream",
          "text": [
            "Even numbers in the list:  [10, 4, 66]\n"
          ],
          "name": "stdout"
        }
      ]
    },
    {
      "cell_type": "code",
      "metadata": {
        "colab": {
          "base_uri": "https://localhost:8080/"
        },
        "id": "59Fbov4ngWzk",
        "outputId": "2f59595f-9d87-4f73-f134-655695085a3a"
      },
      "source": [
        "# Python program to print odd Numbers in a List\n",
        "\n",
        "# list of numbers\n",
        "list1 = [10, 21, 4, 45, 66, 93]\n",
        "\n",
        "only_odd = [num for num in list1 if num % 2 == 1]\n",
        "\n",
        "print(only_odd)\n"
      ],
      "execution_count": 6,
      "outputs": [
        {
          "output_type": "stream",
          "text": [
            "[21, 45, 93]\n"
          ],
          "name": "stdout"
        }
      ]
    },
    {
      "cell_type": "code",
      "metadata": {
        "colab": {
          "base_uri": "https://localhost:8080/"
        },
        "id": "hhW-FQHsgr8s",
        "outputId": "b605e63a-9f50-42eb-ef90-8b4e33492d16"
      },
      "source": [
        "#Python program to print all even numbers in a range\n",
        "# Python program to print Even Numbers in given range\n",
        "\n",
        "start, end = 4, 19\n",
        "\n",
        "# iterating each number in list\n",
        "for num in range(start, end + 1):\n",
        "\t\n",
        "\t# checking condition\n",
        "\tif num % 2 == 0:\n",
        "\t\tprint(num, end = \" \")\n"
      ],
      "execution_count": 7,
      "outputs": [
        {
          "output_type": "stream",
          "text": [
            "4 6 8 10 12 14 16 18 "
          ],
          "name": "stdout"
        }
      ]
    },
    {
      "cell_type": "code",
      "metadata": {
        "colab": {
          "base_uri": "https://localhost:8080/"
        },
        "id": "AFWYyc9Og-2W",
        "outputId": "a28ddde5-d3e9-4801-df38-d94c61361b32"
      },
      "source": [
        "# Python program to print odd Numbers in given range\n",
        "\n",
        "start, end = 4, 19\n",
        "\n",
        "# iterating each number in list\n",
        "for num in range(start, end + 1):\n",
        "\t\n",
        "\t# checking condition\n",
        "\tif num % 2 != 0:\n",
        "\t\tprint(num, end = \" \")\n"
      ],
      "execution_count": 8,
      "outputs": [
        {
          "output_type": "stream",
          "text": [
            "5 7 9 11 13 15 17 19 "
          ],
          "name": "stdout"
        }
      ]
    },
    {
      "cell_type": "code",
      "metadata": {
        "colab": {
          "base_uri": "https://localhost:8080/"
        },
        "id": "69GHsvXZhQtc",
        "outputId": "40cef7d1-62d4-4a6d-eec8-08b213d591ec"
      },
      "source": [
        "## Python program to print Positive Numbers in a List\n",
        "\n",
        "# list of numbers\n",
        "list1 = [-10, -21, -4, 45, -66, 93]\n",
        "\n",
        "# using list comprehension\n",
        "pos_nos = [num for num in list1 if num >= 0]\n",
        "\n",
        "print(\"Positive numbers in the list: \", *pos_nos)\n"
      ],
      "execution_count": 9,
      "outputs": [
        {
          "output_type": "stream",
          "text": [
            "Positive numbers in the list:  45 93\n"
          ],
          "name": "stdout"
        }
      ]
    },
    {
      "cell_type": "code",
      "metadata": {
        "colab": {
          "base_uri": "https://localhost:8080/"
        },
        "id": "HsMXPsuOhZee",
        "outputId": "42b6b91a-0718-4eee-ed5b-e0e67258dfa2"
      },
      "source": [
        "# Python program to print negative Numbers in a List\n",
        "\n",
        "# list of numbers\n",
        "list1 = [-10, -21, -4, 45, -66, 93]\n",
        "\n",
        "# using list comprehension\n",
        "neg_nos = [num for num in list1 if num < 0]\n",
        "\n",
        "print(\"Negative numbers in the list: \", *neg_nos)\n"
      ],
      "execution_count": 10,
      "outputs": [
        {
          "output_type": "stream",
          "text": [
            "Negative numbers in the list:  -10 -21 -4 -66\n"
          ],
          "name": "stdout"
        }
      ]
    },
    {
      "cell_type": "code",
      "metadata": {
        "colab": {
          "base_uri": "https://localhost:8080/"
        },
        "id": "U5v3bKnRhloz",
        "outputId": "cc80b480-e640-41f0-df67-74c1c5b33aa9"
      },
      "source": [
        "# Python program to print positive Numbers in given range\n",
        "\n",
        "start, end = -4, 19\n",
        "\n",
        "# iterating each number in list\n",
        "for num in range(start, end + 1):\n",
        "\t\n",
        "\t# checking condition\n",
        "\tif num >= 0:\n",
        "\t\tprint(num, end = \" \")\n"
      ],
      "execution_count": 11,
      "outputs": [
        {
          "output_type": "stream",
          "text": [
            "0 1 2 3 4 5 6 7 8 9 10 11 12 13 14 15 16 17 18 19 "
          ],
          "name": "stdout"
        }
      ]
    },
    {
      "cell_type": "code",
      "metadata": {
        "id": "Qdg1OevphuWw"
      },
      "source": [
        ""
      ],
      "execution_count": null,
      "outputs": []
    }
  ]
}