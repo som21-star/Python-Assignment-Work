{
  "nbformat": 4,
  "nbformat_minor": 0,
  "metadata": {
    "colab": {
      "name": "Assignment 16.ipynb",
      "provenance": []
    },
    "kernelspec": {
      "name": "python3",
      "display_name": "Python 3"
    },
    "language_info": {
      "name": "python"
    }
  },
  "cells": [
    {
      "cell_type": "code",
      "metadata": {
        "colab": {
          "base_uri": "https://localhost:8080/",
          "height": 128
        },
        "id": "0QAHIPTLx2Oo",
        "outputId": "790c4d44-2d48-4aa8-88d3-569cb7bae02c"
      },
      "source": [
        "#Python Program for Cycle Sort\n",
        "# Python program to impleament cycle sort\n",
        "\n",
        "def cycleSort(array):\n",
        "  writes = 0\n",
        "\t\n",
        "# Loop through the array to find cycles to rotate.\n",
        "  for cycleStart in range(0, len(array) - 1):\n",
        "    item = array[cycleStart]\n",
        "\t\n",
        "\t# Find where to put the item.\n",
        "  pos = cycleStart\n",
        "\tfor i in range(cycleStart + 1, len(array)):\n",
        "    if array[i] < item:\n",
        "      pos += 1\n",
        "\t\n",
        "\t# If the item is already there, this is not a cycle.\n",
        "\tif pos == cycleStart:\n",
        "    continue\n",
        "\t\n",
        "\t# Otherwise, put the item there or right after any duplicates.\n",
        "\twhile item == array[pos]:\n",
        "    pos += 1\n",
        "\t  array[pos], item = item, array[pos]\n",
        "\t  writes += 1\n",
        "\t\n",
        "\t# Rotate the rest of the cycle.\n",
        "\twhile pos != cycleStart:\n",
        "\t\t\n",
        "\t# Find where to put the item.\n",
        "\tpos = cycleStart\n",
        "\tfor i in range(cycleStart + 1, len(array)):\n",
        "\t\tif array[i] < item:\n",
        "      pos += 1\n",
        "\t\t\n",
        "\t# Put the item there or right after any duplicates.\n",
        "\twhile item == array[pos]:\n",
        "\t\tpos += 1\n",
        "\tarray[pos], item = item, array[pos]\n",
        "\twrites += 1\n",
        "\t\n",
        "  return writes\n",
        "\t\n",
        "# driver code\n",
        "arr = [1, 8, 3, 9, 10, 10, 2, 4 ]\n",
        "n = len(arr)\n",
        "cycleSort(arr)\n",
        "\n",
        "print(\"After sort : \")\n",
        "for i in range(0, n) :\n",
        "\tprint(arr[i], end = \\' \\')"
      ],
      "execution_count": 10,
      "outputs": [
        {
          "output_type": "error",
          "ename": "TabError",
          "evalue": "ignored",
          "traceback": [
            "\u001b[0;36m  File \u001b[0;32m\"<ipython-input-10-241aac00299f>\"\u001b[0;36m, line \u001b[0;32m13\u001b[0m\n\u001b[0;31m    for i in range(cycleStart + 1, len(array)):\u001b[0m\n\u001b[0m                                               ^\u001b[0m\n\u001b[0;31mTabError\u001b[0m\u001b[0;31m:\u001b[0m inconsistent use of tabs and spaces in indentation\n"
          ]
        }
      ]
    },
    {
      "cell_type": "code",
      "metadata": {
        "colab": {
          "base_uri": "https://localhost:8080/",
          "height": 128
        },
        "id": "ap2zEA5YyJdC",
        "outputId": "8c1a5faa-2b7c-4e72-d17c-4898f1d177a3"
      },
      "source": [
        "# Python program to implement stooge sort\n",
        "\n",
        "def stoogesort(arr, l, h):\n",
        "\tif l >= h:\n",
        "\t\treturn\n",
        "\n",
        "\t# If first element is smaller\n",
        "\t# than last,swap them\n",
        "\tif arr[l]>arr[h]:\n",
        "\t\tt = arr[l]\n",
        "\t\tarr[l] = arr[h]\n",
        "\t\tarr[h] = t\n",
        "\n",
        "\t# If there are more than 2 elements in\n",
        "\t# the array\n",
        "\tif h-l+1 > 2:\n",
        "\t\tt = (int)((h-l+1)/3)\n",
        "\n",
        "\t\t# Recursively sort first 2/3 elements\n",
        "\t\tstoogesort(arr, l, (h-t))\n",
        "\n",
        "\t\t# Recursively sort last 2/3 elements\n",
        "\t\tstoogesort(arr, l+t, (h))\n",
        "\n",
        "\t\t# Recursively sort first 2/3 elements\n",
        "\t\t# again to confirm\n",
        "\t\tstoogesort(arr, l, (h-t))\n",
        "\n",
        "\n",
        "# deriver\n",
        "arr = [2, 4, 5, 3, 1]\n",
        "n = len(arr)\n",
        "\n",
        "stoogesort(arr, 0, n-1)\n",
        "\n",
        "for i in range(0, n):\n",
        "\tprint(arr[i], end = \\' \\'')"
      ],
      "execution_count": 12,
      "outputs": [
        {
          "output_type": "error",
          "ename": "SyntaxError",
          "evalue": "ignored",
          "traceback": [
            "\u001b[0;36m  File \u001b[0;32m\"<ipython-input-12-8036996ef69b>\"\u001b[0;36m, line \u001b[0;32m37\u001b[0m\n\u001b[0;31m    print(arr[i], end = \\' \\'')\u001b[0m\n\u001b[0m                               ^\u001b[0m\n\u001b[0;31mSyntaxError\u001b[0m\u001b[0;31m:\u001b[0m unexpected character after line continuation character\n"
          ]
        }
      ]
    },
    {
      "cell_type": "code",
      "metadata": {
        "colab": {
          "base_uri": "https://localhost:8080/"
        },
        "id": "xJGiq_8LmLxM",
        "outputId": "44d62d2e-cb18-4a17-c5f1-96b724192199"
      },
      "source": [
        "# Python program to print pattern G\n",
        "def Pattern(line):\n",
        "\tpat=\"\"\n",
        "\tfor i in range(0,line):\n",
        "\t\tfor j in range(0,line):\t\n",
        "\t\t\tif ((j == 1 and i != 0 and i != line-1) or ((i == 0 or\n",
        "\t\t\t\ti == line-1) and j > 1 and j < line-2) or (i == ((line-1)/2)\n",
        "\t\t\t\tand j > line-5 and j < line-1) or (j == line-2 and\n",
        "\t\t\t\ti != 0 and i != line-1 and i >=((line-1)/2))):\n",
        "\t\t\t\tpat=pat+\"*\"\n",
        "\t\t\telse:\t\n",
        "\t\t\t\tpat=pat+\" \"\n",
        "\t\tpat=pat+\"\\n\"\n",
        "\treturn pat\n",
        "\n",
        "# Driver Code\n",
        "line = 7\n",
        "print(Pattern(line))\n"
      ],
      "execution_count": 13,
      "outputs": [
        {
          "output_type": "stream",
          "text": [
            "  ***  \n",
            " *     \n",
            " *     \n",
            " * *** \n",
            " *   * \n",
            " *   * \n",
            "  ***  \n",
            "\n"
          ],
          "name": "stdout"
        }
      ]
    },
    {
      "cell_type": "code",
      "metadata": {
        "colab": {
          "base_uri": "https://localhost:8080/"
        },
        "id": "gGW8n2hZmysh",
        "outputId": "00000f74-372f-4037-ed39-31b8f8e6c760"
      },
      "source": [
        "# python 3 code to print inverted star\n",
        "# pattern\n",
        "\n",
        "# n is the number of rows in which\n",
        "# star is going to be printed.\n",
        "n=11\n",
        "\n",
        "# i is going to be enabled to\n",
        "# range between n-i t 0 with a\n",
        "# decrement of 1 with each iteration.\n",
        "# and in print function, for each iteration,\n",
        "# ” ” is multiplied with n-i and ‘*’ is\n",
        "# multiplied with i to create correct\n",
        "# space before of the stars.\n",
        "for i in range (n, 0, -1):\n",
        "\tprint((n-i) * ' ' + i * '*')\n"
      ],
      "execution_count": 14,
      "outputs": [
        {
          "output_type": "stream",
          "text": [
            "***********\n",
            " **********\n",
            "  *********\n",
            "   ********\n",
            "    *******\n",
            "     ******\n",
            "      *****\n",
            "       ****\n",
            "        ***\n",
            "         **\n",
            "          *\n"
          ],
          "name": "stdout"
        }
      ]
    },
    {
      "cell_type": "code",
      "metadata": {
        "colab": {
          "base_uri": "https://localhost:8080/"
        },
        "id": "GPGRz29Am5Or",
        "outputId": "bbd73da5-d9c1-4324-e7f8-1017993a82ea"
      },
      "source": [
        "# Python3 Program to demonstrate\n",
        "# staircase pattern\n",
        "\n",
        "# function definition\n",
        "def pattern(n):\n",
        "\n",
        "\t# for loop for rows\n",
        "\tfor i in range(1,n+1):\n",
        "\n",
        "\t\t# conditional operator\n",
        "\t\tk =i + 1 if(i % 2 != 0) else i\n",
        "\n",
        "\t\t# for loop for printing spaces\n",
        "\t\tfor g in range(k,n):\n",
        "\t\t\tif g>=k:\n",
        "\t\t\t\tprint(end=\" \")\n",
        "\n",
        "\t\t# according to value of k carry\n",
        "\t\t# out further operation\n",
        "\t\tfor j in range(0,k):\n",
        "\t\t\tif j == k - 1:\n",
        "\t\t\t\tprint(\" * \")\n",
        "\t\t\telse:\n",
        "\t\t\t\tprint(\" * \", end = \" \")\n",
        "\n",
        "\n",
        "# Driver code\n",
        "n = 10\n",
        "pattern(n)\n"
      ],
      "execution_count": 15,
      "outputs": [
        {
          "output_type": "stream",
          "text": [
            "         *   * \n",
            "         *   * \n",
            "       *   *   *   * \n",
            "       *   *   *   * \n",
            "     *   *   *   *   *   * \n",
            "     *   *   *   *   *   * \n",
            "   *   *   *   *   *   *   *   * \n",
            "   *   *   *   *   *   *   *   * \n",
            " *   *   *   *   *   *   *   *   *   * \n",
            " *   *   *   *   *   *   *   *   *   * \n"
          ],
          "name": "stdout"
        }
      ]
    },
    {
      "cell_type": "code",
      "metadata": {
        "colab": {
          "base_uri": "https://localhost:8080/"
        },
        "id": "nJY0KA3rm_ND",
        "outputId": "d233ac99-2e2a-4ea5-bca1-85aa78c977dc"
      },
      "source": [
        "# Python3 code to print input in your own font\n",
        "\n",
        "name = \"GEEK\"\n",
        "\n",
        "# To take input from User\n",
        "# name = input(\"Enter your name: \\n\\n\")\n",
        "\n",
        "lngth = len(name)\n",
        "l = \"\"\n",
        "\n",
        "for x in range(0, lngth):\n",
        "\tc = name[x]\n",
        "\tc = c.upper()\n",
        "\t\n",
        "\tif (c == \"A\"):\n",
        "\t\tprint(\"..######..\\n..#....#..\\n..######..\", end = \" \")\n",
        "\t\tprint(\"\\n..#....#..\\n..#....#..\\n\\n\")\n",
        "\t\t\n",
        "\telif (c == \"B\"):\n",
        "\t\tprint(\"..######..\\n..#....#..\\n..#####...\", end = \" \")\n",
        "\t\tprint(\"\\n..#....#..\\n..######..\\n\\n\")\n",
        "\t\t\n",
        "\telif (c == \"C\"):\n",
        "\t\tprint(\"..######..\\n..#.......\\n..#.......\", end = \" \")\n",
        "\t\tprint(\"\\n..#.......\\n..######..\\n\\n\")\n",
        "\t\t\n",
        "\telif (c == \"D\"):\n",
        "\t\tprint(\"..#####...\\n..#....#..\\n..#....#..\", end = \" \")\n",
        "\t\tprint(\"\\n..#....#..\\n..#####...\\n\\n\")\n",
        "\t\t\n",
        "\telif (c == \"E\"):\n",
        "\t\tprint(\"..######..\\n..#.......\\n..#####...\", end = \" \")\n",
        "\t\tprint(\"\\n..#.......\\n..######..\\n\\n\")\n",
        "\t\t\n",
        "\telif (c == \"F\"):\n",
        "\t\tprint(\"..######..\\n..#.......\\n..#####...\", end = \" \")\n",
        "\t\tprint(\"\\n..#.......\\n..#.......\\n\\n\")\n",
        "\t\t\n",
        "\telif (c == \"G\"):\n",
        "\t\tprint(\"..######..\\n..#.......\\n..#.####..\", end = \" \")\n",
        "\t\tprint(\"\\n..#....#..\\n..#####...\\n\\n\")\n",
        "\t\t\n",
        "\telif (c == \"H\"):\n",
        "\t\tprint(\"..#....#..\\n..#....#..\\n..######..\", end = \" \")\n",
        "\t\tprint(\"\\n..#....#..\\n..#....#..\\n\\n\")\n",
        "\t\t\n",
        "\telif (c == \"I\"):\n",
        "\t\tprint(\"..######..\\n....##....\\n....##....\", end = \" \")\n",
        "\t\tprint(\"\\n....##....\\n..######..\\n\\n\")\n",
        "\t\t\n",
        "\telif (c == \"J\"):\n",
        "\t\tprint(\"..######..\\n....##....\\n....##....\", end = \" \")\n",
        "\t\tprint(\"\\n..#.##....\\n..####....\\n\\n\")\n",
        "\t\t\n",
        "\telif (c == \"K\"):\n",
        "\t\tprint(\"..#...#...\\n..#..#....\\n..##......\", end = \" \")\n",
        "\t\tprint(\"\\n..#..#....\\n..#...#...\\n\\n\")\n",
        "\t\t\n",
        "\telif (c == \"L\"):\n",
        "\t\tprint(\"..#.......\\n..#.......\\n..#.......\", end = \" \")\n",
        "\t\tprint(\"\\n..#.......\\n..######..\\n\\n\")\n",
        "\t\t\n",
        "\telif (c == \"M\"):\n",
        "\t\tprint(\"..#....#..\\n..##..##..\\n..#.##.#..\", end = \" \")\n",
        "\t\tprint(\"\\n..#....#..\\n..#....#..\\n\\n\")\n",
        "\t\t\n",
        "\telif (c == \"N\"):\n",
        "\t\tprint(\"..#....#..\\n..##...#..\\n..#.#..#..\", end = \" \")\n",
        "\t\tprint(\"\\n..#..#.#..\\n..#...##..\\n\\n\")\n",
        "\t\t\n",
        "\telif (c == \"O\"):\n",
        "\t\tprint(\"..######..\\n..#....#..\\n..#....#..\", end = \" \")\n",
        "\t\tprint(\"\\n..#....#..\\n..######..\\n\\n\")\n",
        "\t\t\n",
        "\telif (c == \"P\"):\n",
        "\t\tprint(\"..######..\\n..#....#..\\n..######..\", end = \" \")\n",
        "\t\tprint(\"\\n..#.......\\n..#.......\\n\\n\")\n",
        "\t\t\n",
        "\telif (c == \"Q\"):\n",
        "\t\tprint(\"..######..\\n..#....#..\\n..#.#..#..\", end = \" \")\n",
        "\t\tprint(\"\\n..#..#.#..\\n..######..\\n\\n\")\n",
        "\t\t\n",
        "\telif (c == \"R\"):\n",
        "\t\tprint(\"..######..\\n..#....#..\\n..#.##...\", end = \" \")\n",
        "\t\tprint(\"\\n..#...#...\\n..#....#..\\n\\n\")\n",
        "\t\t\n",
        "\telif (c == \"S\"):\n",
        "\t\tprint(\"..######..\\n..#.......\\n..######..\", end = \" \")\n",
        "\t\tprint(\"\\n.......#..\\n..######..\\n\\n\")\n",
        "\t\t\n",
        "\telif (c == \"T\"):\n",
        "\t\tprint(\"..######..\\n....##....\\n....##....\", end = \" \")\n",
        "\t\tprint(\"\\n....##....\\n....##....\\n\\n\")\n",
        "\t\t\n",
        "\telif (c == \"U\"):\n",
        "\t\tprint(\"..#....#..\\n..#....#..\\n..#....#..\", end = \" \")\n",
        "\t\tprint(\"\\n..#....#..\\n..######..\\n\\n\")\n",
        "\t\t\n",
        "\telif (c == \"V\"):\n",
        "\t\tprint(\"..#....#..\\n..#....#..\\n..#....#..\", end = \" \")\n",
        "\t\tprint(\"\\n...#..#...\\n....##....\\n\\n\")\n",
        "\t\t\n",
        "\telif (c == \"W\"):\n",
        "\t\tprint(\"..#....#..\\n..#....#..\\n..#.##.#..\", end = \" \")\n",
        "\t\tprint(\"\\n..##..##..\\n..#....#..\\n\\n\")\n",
        "\t\t\n",
        "\telif (c == \"X\"):\n",
        "\t\tprint(\"..#....#..\\n...#..#...\\n....##....\", end = \" \")\n",
        "\t\tprint(\"\\n...#..#...\\n..#....#..\\n\\n\")\n",
        "\t\t\n",
        "\telif (c == \"Y\"):\n",
        "\t\tprint(\"..#....#..\\n...#..#...\\n....##....\", end = \" \")\n",
        "\t\tprint(\"\\n....##....\\n....##....\\n\\n\")\n",
        "\t\t\n",
        "\telif (c == \"Z\"):\n",
        "\t\tprint(\"..######..\\n......#...\\n.....#....\", end = \" \")\n",
        "\t\tprint(\"\\n....#.....\\n..######..\\n\\n\")\n",
        "\t\t\n",
        "\telif (c == \" \"):\n",
        "\t\tprint(\"..........\\n..........\\n..........\", end = \" \")\n",
        "\t\tprint(\"\\n..........\\n\\n\")\n",
        "\t\t\n",
        "\telif (c == \".\"):\n",
        "\t\tprint(\"----..----\\n\\n\")\n"
      ],
      "execution_count": 16,
      "outputs": [
        {
          "output_type": "stream",
          "text": [
            "..######..\n",
            "..#.......\n",
            "..#.####.. \n",
            "..#....#..\n",
            "..#####...\n",
            "\n",
            "\n",
            "..######..\n",
            "..#.......\n",
            "..#####... \n",
            "..#.......\n",
            "..######..\n",
            "\n",
            "\n",
            "..######..\n",
            "..#.......\n",
            "..#####... \n",
            "..#.......\n",
            "..######..\n",
            "\n",
            "\n",
            "..#...#...\n",
            "..#..#....\n",
            "..##...... \n",
            "..#..#....\n",
            "..#...#...\n",
            "\n",
            "\n"
          ],
          "name": "stdout"
        }
      ]
    },
    {
      "cell_type": "code",
      "metadata": {
        "colab": {
          "base_uri": "https://localhost:8080/"
        },
        "id": "0lTeL8XOnFgt",
        "outputId": "ab329731-1a29-4357-fe97-be0072ad63f9"
      },
      "source": [
        "from datetime import date\n",
        "\n",
        "today = date.today()\n",
        "print(\"Today's date:\", today)\n"
      ],
      "execution_count": 17,
      "outputs": [
        {
          "output_type": "stream",
          "text": [
            "Today's date: 2021-07-02\n"
          ],
          "name": "stdout"
        }
      ]
    },
    {
      "cell_type": "code",
      "metadata": {
        "colab": {
          "base_uri": "https://localhost:8080/"
        },
        "id": "bQ1PjKw6nQup",
        "outputId": "f88a4f7f-77cc-4804-d63c-72db530143cd"
      },
      "source": [
        "# Python program to find yesterday,\n",
        "# today and tomorrow\n",
        "\n",
        "\n",
        "# Import datetime and timedelta\n",
        "# class from datetime module\n",
        "from datetime import datetime, timedelta\n",
        "\n",
        "\n",
        "# Get today's date\n",
        "presentday = datetime.now() # or presentday = datetime.today()\n",
        "\n",
        "# Get Yesterday\n",
        "yesterday = presentday - timedelta(1)\n",
        "\n",
        "# Get Tomorrow\n",
        "tomorrow = presentday + timedelta(1)\n",
        "\n",
        "\n",
        "# strftime() is to format date according to\n",
        "# the need by converting them to string\n",
        "print(\"Yesterday = \", yesterday.strftime('%d-%m-%Y'))\n",
        "print(\"Today = \", presentday.strftime('%d-%m-%Y'))\n",
        "print(\"Tomorrow = \", tomorrow.strftime('%d-%m-%Y'))\n"
      ],
      "execution_count": 18,
      "outputs": [
        {
          "output_type": "stream",
          "text": [
            "Yesterday =  01-07-2021\n",
            "Today =  02-07-2021\n",
            "Tomorrow =  03-07-2021\n"
          ],
          "name": "stdout"
        }
      ]
    },
    {
      "cell_type": "code",
      "metadata": {
        "colab": {
          "base_uri": "https://localhost:8080/"
        },
        "id": "R7yEBnmtnXkh",
        "outputId": "2f7adf5b-6cb9-41c9-a53e-2c9583bd35c8"
      },
      "source": [
        "# Python program to convert time\n",
        "# from 12 hour to 24 hour format\n",
        "\n",
        "# Function to convert the date format\n",
        "def convert24(str1):\n",
        "\t\n",
        "\t# Checking if last two elements of time\n",
        "\t# is AM and first two elements are 12\n",
        "\tif str1[-2:] == \"AM\" and str1[:2] == \"12\":\n",
        "\t\treturn \"00\" + str1[2:-2]\n",
        "\t\t\n",
        "\t# remove the AM\t\n",
        "\telif str1[-2:] == \"AM\":\n",
        "\t\treturn str1[:-2]\n",
        "\t\n",
        "\t# Checking if last two elements of time\n",
        "\t# is PM and first two elements are 12\n",
        "\telif str1[-2:] == \"PM\" and str1[:2] == \"12\":\n",
        "\t\treturn str1[:-2]\n",
        "\t\t\n",
        "\telse:\n",
        "\t\t\n",
        "\t\t# add 12 to hours and remove PM\n",
        "\t\treturn str(int(str1[:2]) + 12) + str1[2:8]\n",
        "\n",
        "# Driver Code\t\t\n",
        "print(convert24(\"08:05:45 PM\"))\n"
      ],
      "execution_count": 19,
      "outputs": [
        {
          "output_type": "stream",
          "text": [
            "20:05:45\n"
          ],
          "name": "stdout"
        }
      ]
    },
    {
      "cell_type": "code",
      "metadata": {
        "id": "isUPGOzznixe"
      },
      "source": [
        ""
      ],
      "execution_count": null,
      "outputs": []
    }
  ]
}