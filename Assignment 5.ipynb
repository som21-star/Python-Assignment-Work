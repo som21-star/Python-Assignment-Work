{
  "nbformat": 4,
  "nbformat_minor": 0,
  "metadata": {
    "colab": {
      "name": "Untitled25.ipynb",
      "provenance": []
    },
    "kernelspec": {
      "name": "python3",
      "display_name": "Python 3"
    },
    "language_info": {
      "name": "python"
    }
  },
  "cells": [
    {
      "cell_type": "code",
      "metadata": {
        "colab": {
          "base_uri": "https://localhost:8080/"
        },
        "id": "WlIaISW6iQMq",
        "outputId": "0dd6fb22-edba-462e-9af8-96ce089d7490"
      },
      "source": [
        "#Python program to print all negative numbers in a range\n",
        "# Python program to print negative Numbers in given range\n",
        "\n",
        "start, end = -4, 19\n",
        "\n",
        "# iterating each number in list\n",
        "for num in range(start, end + 1):\n",
        "\t\n",
        "\t# checking condition\n",
        "\tif num < 0:\n",
        "\t\tprint(num, end = \" \")\n"
      ],
      "execution_count": 1,
      "outputs": [
        {
          "output_type": "stream",
          "text": [
            "-4 -3 -2 -1 "
          ],
          "name": "stdout"
        }
      ]
    },
    {
      "cell_type": "code",
      "metadata": {
        "colab": {
          "base_uri": "https://localhost:8080/"
        },
        "id": "wWgq0wPJiVp_",
        "outputId": "511747c4-da68-43c5-d3bf-1f3278fb73a6"
      },
      "source": [
        "# Python program to remove multiple\n",
        "# elements from a list\n",
        "\n",
        "# creating a list\n",
        "list1 = [11, 5, 17, 18, 23, 50]\n",
        "\n",
        "# will create a new list,\n",
        "# excluding all even numbers\n",
        "list1 = [ elem for elem in list1 if elem % 2 != 0]\n",
        "\n",
        "print(*list1)\n"
      ],
      "execution_count": 2,
      "outputs": [
        {
          "output_type": "stream",
          "text": [
            "11 5 17 23\n"
          ],
          "name": "stdout"
        }
      ]
    },
    {
      "cell_type": "code",
      "metadata": {
        "colab": {
          "base_uri": "https://localhost:8080/"
        },
        "id": "oy92q_9-igwn",
        "outputId": "6480521f-c2f5-46ca-fbae-57b2a0138dbe"
      },
      "source": [
        "# Python3 code to demonstrate\n",
        "# Remove empty List from List\n",
        "# using filter()\n",
        "\n",
        "# Initializing list\n",
        "test_list = [5, 6, [], 3, [], [], 9]\n",
        "\n",
        "# printing original list\n",
        "print(\"The original list is : \" + str(test_list))\n",
        "\n",
        "# Remove empty List from List\n",
        "# using filter\n",
        "res = list(filter(None, test_list))\n",
        "\n",
        "# printing result\n",
        "print (\"List after empty list removal : \" + str(res))\n"
      ],
      "execution_count": 3,
      "outputs": [
        {
          "output_type": "stream",
          "text": [
            "The original list is : [5, 6, [], 3, [], [], 9]\n",
            "List after empty list removal : [5, 6, 3, 9]\n"
          ],
          "name": "stdout"
        }
      ]
    },
    {
      "cell_type": "code",
      "metadata": {
        "colab": {
          "base_uri": "https://localhost:8080/"
        },
        "id": "T_uO3UTyjjXp",
        "outputId": "1f5622e0-952b-45e9-e3b8-c3e776261bd5"
      },
      "source": [
        "#write a Python program to Cloning or Copying a list\n",
        "original_list = [10, 22, 44, 23, 4]\n",
        "new_list = list(original_list)\n",
        "print(original_list)\n",
        "print(new_list)\n"
      ],
      "execution_count": 4,
      "outputs": [
        {
          "output_type": "stream",
          "text": [
            "[10, 22, 44, 23, 4]\n",
            "[10, 22, 44, 23, 4]\n"
          ],
          "name": "stdout"
        }
      ]
    },
    {
      "cell_type": "code",
      "metadata": {
        "colab": {
          "base_uri": "https://localhost:8080/"
        },
        "id": "eH9g5f8Lj1VE",
        "outputId": "ee1cf2c8-3de1-424d-f6f1-0cc54cd7f916"
      },
      "source": [
        "# Python code to count the number of occurrences\n",
        "def countX(lst, x):\n",
        "\treturn lst.count(x)\n",
        "\n",
        "# Driver Code\n",
        "lst = [8, 6, 8, 10, 8, 20, 10, 8, 8]\n",
        "x = 8\n",
        "print('{} has occurred {} times'.format(x, countX(lst, x)))\n"
      ],
      "execution_count": 5,
      "outputs": [
        {
          "output_type": "stream",
          "text": [
            "8 has occurred 5 times\n"
          ],
          "name": "stdout"
        }
      ]
    },
    {
      "cell_type": "code",
      "metadata": {
        "colab": {
          "base_uri": "https://localhost:8080/"
        },
        "id": "KMNn_VIFj75A",
        "outputId": "3a5cb8f3-655d-4a7c-9098-a31254292d39"
      },
      "source": [
        "#write a Python program to Remove empty tuples from a list\n",
        "L = [(), (), ('',), ('a', 'b'), ('a', 'b', 'c'), ('d')]\n",
        "L = [t for t in L if t]\n",
        "print(L)\n"
      ],
      "execution_count": 6,
      "outputs": [
        {
          "output_type": "stream",
          "text": [
            "[('',), ('a', 'b'), ('a', 'b', 'c'), 'd']\n"
          ],
          "name": "stdout"
        }
      ]
    },
    {
      "cell_type": "code",
      "metadata": {
        "colab": {
          "base_uri": "https://localhost:8080/",
          "height": 248
        },
        "id": "51GfVyd8kH6-",
        "outputId": "37989209-d851-4ccc-c41b-a8c3f5a4e3dc"
      },
      "source": [
        "#write a Python program to Program to print duplicates from a list of integers\n",
        "from collections import Counter\n",
        "\n",
        "l1 = [1,2,1,2,3,4,5,1,1,2,5,6,7,8,9,9]\n",
        "d = Counter(l1)\n",
        "print(d)\n",
        "# Python program to\n",
        "# compute sum of digits in\n",
        "# number.\n",
        "\t\n",
        "# Function to get sum of digits\n",
        "def getSum(n):\n",
        "\t\n",
        "\tsum = 0\n",
        "\tfor digit in str(n):\n",
        "\t  sum+= int(digit)\t\n",
        "\t  return sum\n",
        "\t\n",
        "n = 12345\n",
        "print(getSum(n))\n",
        "\n",
        "new_list = list([item for item in d if d[item]>1])\n",
        "print(new_list)\n"
      ],
      "execution_count": 12,
      "outputs": [
        {
          "output_type": "stream",
          "text": [
            "Counter({1: 4, 2: 3, 5: 2, 9: 2, 3: 1, 4: 1, 6: 1, 7: 1, 8: 1})\n",
            "1\n"
          ],
          "name": "stdout"
        },
        {
          "output_type": "error",
          "ename": "TypeError",
          "evalue": "ignored",
          "traceback": [
            "\u001b[0;31m---------------------------------------------------------------------------\u001b[0m",
            "\u001b[0;31mTypeError\u001b[0m                                 Traceback (most recent call last)",
            "\u001b[0;32m<ipython-input-12-7b1ffe38d848>\u001b[0m in \u001b[0;36m<module>\u001b[0;34m()\u001b[0m\n\u001b[1;32m     20\u001b[0m \u001b[0mprint\u001b[0m\u001b[0;34m(\u001b[0m\u001b[0mgetSum\u001b[0m\u001b[0;34m(\u001b[0m\u001b[0mn\u001b[0m\u001b[0;34m)\u001b[0m\u001b[0;34m)\u001b[0m\u001b[0;34m\u001b[0m\u001b[0;34m\u001b[0m\u001b[0m\n\u001b[1;32m     21\u001b[0m \u001b[0;34m\u001b[0m\u001b[0m\n\u001b[0;32m---> 22\u001b[0;31m \u001b[0mnew_list\u001b[0m \u001b[0;34m=\u001b[0m \u001b[0mlist\u001b[0m\u001b[0;34m(\u001b[0m\u001b[0;34m[\u001b[0m\u001b[0mitem\u001b[0m \u001b[0;32mfor\u001b[0m \u001b[0mitem\u001b[0m \u001b[0;32min\u001b[0m \u001b[0md\u001b[0m \u001b[0;32mif\u001b[0m \u001b[0md\u001b[0m\u001b[0;34m[\u001b[0m\u001b[0mitem\u001b[0m\u001b[0;34m]\u001b[0m\u001b[0;34m>\u001b[0m\u001b[0;36m1\u001b[0m\u001b[0;34m]\u001b[0m\u001b[0;34m)\u001b[0m\u001b[0;34m\u001b[0m\u001b[0;34m\u001b[0m\u001b[0m\n\u001b[0m\u001b[1;32m     23\u001b[0m \u001b[0mprint\u001b[0m\u001b[0;34m(\u001b[0m\u001b[0mnew_list\u001b[0m\u001b[0;34m)\u001b[0m\u001b[0;34m\u001b[0m\u001b[0;34m\u001b[0m\u001b[0m\n",
            "\u001b[0;31mTypeError\u001b[0m: 'list' object is not callable"
          ]
        }
      ]
    },
    {
      "cell_type": "code",
      "metadata": {
        "colab": {
          "base_uri": "https://localhost:8080/"
        },
        "id": "FgV9iJ-vkQ38",
        "outputId": "99dad9e4-8e12-4619-e39b-65ef3602603a"
      },
      "source": [
        "#write a Python program to find Cumulative sum of a list\n",
        "list=[10,20,30,40,50]\n",
        "new_list=[]\n",
        "j=0\n",
        "for i in range(0,len(list)):\n",
        "\tj+=list[i]\n",
        "\tnew_list.append(j)\n",
        "\t\n",
        "print(new_list)\n",
        "#code given by Divyanshu singh\n"
      ],
      "execution_count": 13,
      "outputs": [
        {
          "output_type": "stream",
          "text": [
            "[10, 30, 60, 100, 150]\n"
          ],
          "name": "stdout"
        }
      ]
    },
    {
      "cell_type": "code",
      "metadata": {
        "colab": {
          "base_uri": "https://localhost:8080/"
        },
        "id": "E_z-5bD0kXA4",
        "outputId": "77ddb2b0-26b1-434b-8631-6c79fb78c229"
      },
      "source": [
        "my_list = [1, 2, 3, 4, 5,\n",
        "\t\t\t6, 7, 8, 9]\n",
        "\n",
        "# How many elements each\n",
        "# list should have\n",
        "n = 4\n",
        "\n",
        "# using list comprehension\n",
        "final = [my_list[i * n:(i + 1) * n] for i in range((len(my_list) + n - 1) // n )]\n",
        "print (final)\n"
      ],
      "execution_count": 14,
      "outputs": [
        {
          "output_type": "stream",
          "text": [
            "[[1, 2, 3, 4], [5, 6, 7, 8], [9]]\n"
          ],
          "name": "stdout"
        }
      ]
    },
    {
      "cell_type": "code",
      "metadata": {
        "colab": {
          "base_uri": "https://localhost:8080/"
        },
        "id": "KqozAp_TlmQQ",
        "outputId": "de7f6256-3ea0-45e8-c388-13f919551351"
      },
      "source": [
        "##write a Python program to Sort the values of first list using second list\n",
        "list1 = [\"a\", \"b\", \"c\"]\n",
        "list2 = [2, 3, 1]\n",
        "\n",
        "zipped_lists = zip(list2, list1)\n",
        "#Pair list2 and list1 elements\n",
        "\n",
        "\n",
        "sorted_zipped_lists = sorted(zipped_lists)\n",
        "#Sort by first element of each pair\n",
        "\n",
        "sorted_list1 = [element for _, element in sorted_zipped_lists]\n",
        "\n",
        "print(sorted_list1)"
      ],
      "execution_count": 16,
      "outputs": [
        {
          "output_type": "stream",
          "text": [
            "['c', 'a', 'b']\n"
          ],
          "name": "stdout"
        }
      ]
    },
    {
      "cell_type": "code",
      "metadata": {
        "id": "5T49--DUl32v"
      },
      "source": [
        ""
      ],
      "execution_count": null,
      "outputs": []
    }
  ]
}