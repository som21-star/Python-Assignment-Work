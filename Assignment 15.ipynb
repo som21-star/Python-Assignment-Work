{
  "nbformat": 4,
  "nbformat_minor": 0,
  "metadata": {
    "colab": {
      "name": "Untitled36.ipynb",
      "provenance": []
    },
    "kernelspec": {
      "name": "python3",
      "display_name": "Python 3"
    },
    "language_info": {
      "name": "python"
    }
  },
  "cells": [
    {
      "cell_type": "code",
      "metadata": {
        "colab": {
          "base_uri": "https://localhost:8080/",
          "height": 129
        },
        "id": "9-nCrYrfzMKL",
        "outputId": "3342a053-18ce-4cb4-d330-af1a49a649fc"
      },
      "source": [
        "from collections import defaultdict\n",
        "\n",
        "\n",
        "class Graph:\n",
        "    def __init__(self, directed=False):\n",
        "        self.graph = defaultdict(list)\n",
        "        self.directed = directed\n",
        "\n",
        "    def addEdge(self, frm, to):\n",
        "        self.graph[frm].append(to)\n",
        "\n",
        "        if self.directed is False:\n",
        "            self.graph[to].append(frm)\n",
        "        else:\n",
        "            self.graph[to] = self.graph[to]\n",
        "\n",
        "    def topoSortvisit(self, s, visited, sortlist):\n",
        "        visited[s] = True\n",
        "\n",
        "        for i in self.graph[s]:\n",
        "            if not visited[i]:\n",
        "                self.topoSortvisit(i, visited, sortlist)\n",
        "\n",
        "        sortlist.insert(0, s)\n",
        "\n",
        "    def topoSort(self):\n",
        "        visited = {i: False for i in self.graph}\n",
        "\n",
        "        sortlist = []\n",
        "       \n",
        "        for v in self.graph:\n",
        "            if not visited[v]:\n",
        "                self.topoSortvisit(v, visited, sortlist)\n",
        "\n",
        "        print(sortlist)\n",
        "\n",
        "\n",
        "if __name__ == '__main__':\n",
        " \n",
        "    g = Graph(directed=True)\n",
        "\n",
        "    g.addEdge(1, 2)\n",
        "    g.addEdge(1, 3)\n",
        "    g.addEdge(2, 4)\n",
        "    g.addEdge(2, 5)\n",
        "    g.addEdge(3, 4)\n",
        "    g.addEdge(3, 6)\n",
        "    g.addEdge(4, 6)\n",
        "  \n",
        "    print(\"Topological Sort:\")\n",
        "    g.topoSort()\n",
        "\n",
        "\t# The function to do Topological Sort. It uses recursive\n",
        "\t# topologicalSortUtil()\n",
        "def topologicalSort(self):\n",
        "\t\t# Mark all the vertices as not visited\n",
        "\t\tvisited = [False]*self.V\n",
        "\t\tstack =[]\n",
        "\n",
        "\t\t# Call the recursive helper function to store Topological\n",
        "\t\t# Sort starting from all vertices one by one\n",
        "\t\tfor i in range(self.V):\n",
        "\t\t\tif visited[i] == False:\n",
        "\t\t\t\tself.topologicalSortUtil(i,visited,stack)\n",
        "\n",
        "\t\t# Print contents of stack\n",
        "print(stack)\n",
        "\n",
        "g= Graph(6)\n",
        "g.addEdge(5, 2);\n",
        "g.addEdge(5, 0);\n",
        "g.addEdge(4, 0);\n",
        "g.addEdge(4, 1);\n",
        "g.addEdge(2, 3);\n",
        "g.addEdge(3, 1);\n",
        "\n",
        "print \"Following is a Topological Sort of the given graph\"\n",
        "g.topologicalSort()"
      ],
      "execution_count": 8,
      "outputs": [
        {
          "output_type": "error",
          "ename": "SyntaxError",
          "evalue": "ignored",
          "traceback": [
            "\u001b[0;36m  File \u001b[0;32m\"<ipython-input-8-fc635a391923>\"\u001b[0;36m, line \u001b[0;32m77\u001b[0m\n\u001b[0;31m    print \"Following is a Topological Sort of the given graph\"\u001b[0m\n\u001b[0m                                                             ^\u001b[0m\n\u001b[0;31mSyntaxError\u001b[0m\u001b[0;31m:\u001b[0m Missing parentheses in call to 'print'. Did you mean print(\"Following is a Topological Sort of the given graph\")?\n"
          ]
        }
      ]
    },
    {
      "cell_type": "code",
      "metadata": {
        "colab": {
          "base_uri": "https://localhost:8080/"
        },
        "id": "-8bgvC2YzUhk",
        "outputId": "340f5888-259e-4b56-8400-959148fa431d"
      },
      "source": [
        "#Python Program for Radix Sort\n",
        "# Python program for implementation of Radix Sort\n",
        "\t\n",
        "# A function to do counting sort of arr[] according to\n",
        "# the digit represented by exp.\n",
        "def countingSort(arr, exp1):\n",
        "\t\n",
        "\tn = len(arr)\n",
        "\t\n",
        "\t# The output array elements that will have sorted arr\n",
        "\toutput = [0] * (n)\n",
        "\t\n",
        "\t# initialize count array as 0\n",
        "\tcount = [0] * (10)\n",
        "\t\n",
        "\t# Store count of occurrences in count[]\n",
        "\tfor i in range(0, n):\n",
        "\t\tindex = (arr[i]/exp1)\n",
        "\t\tcount[int((index)%10)] += 1\n",
        "\t\n",
        "\t# Change count[i] so that count[i] now contains actual\n",
        "\t# position of this digit in output array\n",
        "\tfor i in range(1,10):\n",
        "\t\tcount[i] += count[i-1]\n",
        "\t\n",
        "\t# Build the output array\n",
        "\ti = n-1\n",
        "\twhile i>=0:\n",
        "\t\tindex = (arr[i]/exp1)\n",
        "\t\toutput[ count[ int((index)%10) ] - 1] = arr[i]\n",
        "\t\tcount[int((index)%10)] -= 1\n",
        "\t\ti -= 1\n",
        "\t\n",
        "\t# Copying the output array to arr[],\n",
        "\t# so that arr now contains sorted numbers\n",
        "\ti = 0\n",
        "\tfor i in range(0,len(arr)):\n",
        "\t\tarr[i] = output[i]\n",
        "\n",
        "# Method to do Radix Sort\n",
        "def radixSort(arr):\n",
        "\n",
        "\t# Find the maximum number to know number of digits\n",
        "\tmax1 = max(arr)\n",
        "\n",
        "\t# Do counting sort for every digit. Note that instead\n",
        "\t# of passing digit number, exp is passed. exp is 10^i\n",
        "\t# where i is current digit number\n",
        "\texp = 1\n",
        "\twhile max1/exp > 0:\n",
        "\t\tcountingSort(arr,exp)\n",
        "\t\texp *= 10\n",
        "\n",
        "# Driver code to test above\n",
        "arr = [ 170, 45, 75, 90, 802, 24, 2, 66]\n",
        "radixSort(arr)\n",
        "\n",
        "for i in range(len(arr)):\n",
        "\tprint(arr[i]),\n",
        "\n"
      ],
      "execution_count": 9,
      "outputs": [
        {
          "output_type": "stream",
          "text": [
            "2\n",
            "24\n",
            "45\n",
            "66\n",
            "75\n",
            "90\n",
            "170\n",
            "802\n"
          ],
          "name": "stdout"
        }
      ]
    },
    {
      "cell_type": "code",
      "metadata": {
        "colab": {
          "base_uri": "https://localhost:8080/",
          "height": 333
        },
        "id": "DTboUIF02T0g",
        "outputId": "6f704dc8-eeb5-41e7-9bc8-fa29e6b14df8"
      },
      "source": [
        "#Python Program for Binary Insertion Sort\n",
        "# Python Program implementation\n",
        "# of binary insertion sort\n",
        "\n",
        "def binary_search(arr, val, start, end):\n",
        "\t# we need to distinugish whether we should insert\n",
        "\t# before or after the left boundary.\n",
        "\t# imagine [0] is the last step of the binary search\n",
        "\t# and we need to decide where to insert -1\n",
        "\tif start == end:\n",
        "\t\tif arr[start] > val:\n",
        "\t\t\treturn start\n",
        "\t\telse:\n",
        "\t\t\treturn start+1\n",
        "\n",
        "\t# this occurs if we are moving beyond left\\'s boundary\n",
        "\t# meaning the left boundary is the least position to\n",
        "\t# find a number greater than val\n",
        "\tif start > end:\n",
        "\t\treturn start\n",
        "\n",
        "\tmid = (start+end)/2\n",
        "\tif arr[mid] < val:\n",
        "\t\treturn binary_search(arr, val, mid+1, end)\n",
        "\telif arr[mid] > val:\n",
        "\t\treturn binary_search(arr, val, start, mid-1)\n",
        "\telse:\n",
        "\t\treturn mid\n",
        "\n",
        "def insertion_sort(arr):\n",
        "\tfor i in xrange(1, len(arr)):\n",
        "\t\tval = arr[i]\n",
        "\t\tj = binary_search(arr, val, 0, i-1)\n",
        "\t\tarr = arr[:j] + [val] + arr[j:i] + arr[i+1:]\n",
        "\treturn arr\n",
        "\n",
        "print(\"Sorted array:\")\n",
        "print(insertion_sort([37, 23, 0, 17, 12, 72, 31, 46, 100, 88, 54]))\n"
      ],
      "execution_count": 12,
      "outputs": [
        {
          "output_type": "stream",
          "text": [
            "Sorted array:\n"
          ],
          "name": "stdout"
        },
        {
          "output_type": "error",
          "ename": "NameError",
          "evalue": "ignored",
          "traceback": [
            "\u001b[0;31m---------------------------------------------------------------------------\u001b[0m",
            "\u001b[0;31mNameError\u001b[0m                                 Traceback (most recent call last)",
            "\u001b[0;32m<ipython-input-12-0e4f3b67190c>\u001b[0m in \u001b[0;36m<module>\u001b[0;34m()\u001b[0m\n\u001b[1;32m     36\u001b[0m \u001b[0;34m\u001b[0m\u001b[0m\n\u001b[1;32m     37\u001b[0m \u001b[0mprint\u001b[0m\u001b[0;34m(\u001b[0m\u001b[0;34m\"Sorted array:\"\u001b[0m\u001b[0;34m)\u001b[0m\u001b[0;34m\u001b[0m\u001b[0;34m\u001b[0m\u001b[0m\n\u001b[0;32m---> 38\u001b[0;31m \u001b[0mprint\u001b[0m\u001b[0;34m(\u001b[0m\u001b[0minsertion_sort\u001b[0m\u001b[0;34m(\u001b[0m\u001b[0;34m[\u001b[0m\u001b[0;36m37\u001b[0m\u001b[0;34m,\u001b[0m \u001b[0;36m23\u001b[0m\u001b[0;34m,\u001b[0m \u001b[0;36m0\u001b[0m\u001b[0;34m,\u001b[0m \u001b[0;36m17\u001b[0m\u001b[0;34m,\u001b[0m \u001b[0;36m12\u001b[0m\u001b[0;34m,\u001b[0m \u001b[0;36m72\u001b[0m\u001b[0;34m,\u001b[0m \u001b[0;36m31\u001b[0m\u001b[0;34m,\u001b[0m \u001b[0;36m46\u001b[0m\u001b[0;34m,\u001b[0m \u001b[0;36m100\u001b[0m\u001b[0;34m,\u001b[0m \u001b[0;36m88\u001b[0m\u001b[0;34m,\u001b[0m \u001b[0;36m54\u001b[0m\u001b[0;34m]\u001b[0m\u001b[0;34m)\u001b[0m\u001b[0;34m)\u001b[0m\u001b[0;34m\u001b[0m\u001b[0;34m\u001b[0m\u001b[0m\n\u001b[0m",
            "\u001b[0;32m<ipython-input-12-0e4f3b67190c>\u001b[0m in \u001b[0;36minsertion_sort\u001b[0;34m(arr)\u001b[0m\n\u001b[1;32m     29\u001b[0m \u001b[0;34m\u001b[0m\u001b[0m\n\u001b[1;32m     30\u001b[0m \u001b[0;32mdef\u001b[0m \u001b[0minsertion_sort\u001b[0m\u001b[0;34m(\u001b[0m\u001b[0marr\u001b[0m\u001b[0;34m)\u001b[0m\u001b[0;34m:\u001b[0m\u001b[0;34m\u001b[0m\u001b[0;34m\u001b[0m\u001b[0m\n\u001b[0;32m---> 31\u001b[0;31m         \u001b[0;32mfor\u001b[0m \u001b[0mi\u001b[0m \u001b[0;32min\u001b[0m \u001b[0mxrange\u001b[0m\u001b[0;34m(\u001b[0m\u001b[0;36m1\u001b[0m\u001b[0;34m,\u001b[0m \u001b[0mlen\u001b[0m\u001b[0;34m(\u001b[0m\u001b[0marr\u001b[0m\u001b[0;34m)\u001b[0m\u001b[0;34m)\u001b[0m\u001b[0;34m:\u001b[0m\u001b[0;34m\u001b[0m\u001b[0;34m\u001b[0m\u001b[0m\n\u001b[0m\u001b[1;32m     32\u001b[0m                 \u001b[0mval\u001b[0m \u001b[0;34m=\u001b[0m \u001b[0marr\u001b[0m\u001b[0;34m[\u001b[0m\u001b[0mi\u001b[0m\u001b[0;34m]\u001b[0m\u001b[0;34m\u001b[0m\u001b[0;34m\u001b[0m\u001b[0m\n\u001b[1;32m     33\u001b[0m                 \u001b[0mj\u001b[0m \u001b[0;34m=\u001b[0m \u001b[0mbinary_search\u001b[0m\u001b[0;34m(\u001b[0m\u001b[0marr\u001b[0m\u001b[0;34m,\u001b[0m \u001b[0mval\u001b[0m\u001b[0;34m,\u001b[0m \u001b[0;36m0\u001b[0m\u001b[0;34m,\u001b[0m \u001b[0mi\u001b[0m\u001b[0;34m-\u001b[0m\u001b[0;36m1\u001b[0m\u001b[0;34m)\u001b[0m\u001b[0;34m\u001b[0m\u001b[0;34m\u001b[0m\u001b[0m\n",
            "\u001b[0;31mNameError\u001b[0m: name 'xrange' is not defined"
          ]
        }
      ]
    },
    {
      "cell_type": "code",
      "metadata": {
        "colab": {
          "base_uri": "https://localhost:8080/",
          "height": 374
        },
        "id": "rZVGRlw32T6R",
        "outputId": "9bdb353b-562e-4cce-dd4b-f00f20074f96"
      },
      "source": [
        "# Python program for Bitonic Sort. Note that this program\n",
        "# works only when size of input is a power of 2.\n",
        "\n",
        "# The parameter dir indicates the sorting direction, ASCENDING\n",
        "# or DESCENDING; if (a[i] > a[j]) agrees with the direction,\n",
        "# then a[i] and a[j] are interchanged.*/\n",
        "def compAndSwap(a, i, j, dire):\n",
        "\tif (dire==1 and a[i] > a[j]) or (dire==0 and a[i] > a[j]):\n",
        "\t\ta[i],a[j] = a[j],a[i]\n",
        "\n",
        "# It recursively sorts a bitonic sequence in ascending order,\n",
        "# if dir = 1, and in descending order otherwise (means dir=0).\n",
        "# The sequence to be sorted starts at index position low,\n",
        "# the parameter cnt is the number of elements to be sorted.\n",
        "def bitonicMerge(a, low, cnt, dire):\n",
        "\tif cnt > 1:\n",
        "\t\tk = cnt/2\n",
        "\t\tfor i in range(low , low+k):\n",
        "\t\t\tcompAndSwap(a, i, i+k, dire)\n",
        "\t\tbitonicMerge(a, low, k, dire)\n",
        "\t\tbitonicMerge(a, low+k, k, dire)\n",
        "\n",
        "# This funcion first produces a bitonic sequence by recursively\n",
        "# sorting its two halves in opposite sorting orders, and then\n",
        "# calls bitonicMerge to make them in the same order\n",
        "def bitonicSort(a, low, cnt,dire):\n",
        "\tif cnt > 1:\n",
        "\t\tk = cnt/2\n",
        "\t\tbitonicSort(a, low, k, 1)\n",
        "\t\tbitonicSort(a, low+k, k, 0)\n",
        "\t\tbitonicMerge(a, low, cnt, dire)\n",
        "\n",
        "# Caller of bitonicSort for sorting the entire array of length N\n",
        "# in ASCENDING order\n",
        "def sort(a,N, up):\n",
        "\tbitonicSort(a,0, N, up)\n",
        "\n",
        "# Driver code to test above\n",
        "a = [3, 7, 4, 8, 6, 2, 1, 5]\n",
        "n = len(a)\n",
        "up = 1\n",
        "\n",
        "sort(a, n, up)\n",
        "print (\"\\n\\nSorted array is\")\n",
        "for i in range(n):\n",
        "\tprint(\"%d\" %a[i]),\n"
      ],
      "execution_count": 13,
      "outputs": [
        {
          "output_type": "error",
          "ename": "TypeError",
          "evalue": "ignored",
          "traceback": [
            "\u001b[0;31m---------------------------------------------------------------------------\u001b[0m",
            "\u001b[0;31mTypeError\u001b[0m                                 Traceback (most recent call last)",
            "\u001b[0;32m<ipython-input-13-2fc0251f800b>\u001b[0m in \u001b[0;36m<module>\u001b[0;34m()\u001b[0m\n\u001b[1;32m     41\u001b[0m \u001b[0mup\u001b[0m \u001b[0;34m=\u001b[0m \u001b[0;36m1\u001b[0m\u001b[0;34m\u001b[0m\u001b[0;34m\u001b[0m\u001b[0m\n\u001b[1;32m     42\u001b[0m \u001b[0;34m\u001b[0m\u001b[0m\n\u001b[0;32m---> 43\u001b[0;31m \u001b[0msort\u001b[0m\u001b[0;34m(\u001b[0m\u001b[0ma\u001b[0m\u001b[0;34m,\u001b[0m \u001b[0mn\u001b[0m\u001b[0;34m,\u001b[0m \u001b[0mup\u001b[0m\u001b[0;34m)\u001b[0m\u001b[0;34m\u001b[0m\u001b[0;34m\u001b[0m\u001b[0m\n\u001b[0m\u001b[1;32m     44\u001b[0m \u001b[0mprint\u001b[0m \u001b[0;34m(\u001b[0m\u001b[0;34m\"\\n\\nSorted array is\"\u001b[0m\u001b[0;34m)\u001b[0m\u001b[0;34m\u001b[0m\u001b[0;34m\u001b[0m\u001b[0m\n\u001b[1;32m     45\u001b[0m \u001b[0;32mfor\u001b[0m \u001b[0mi\u001b[0m \u001b[0;32min\u001b[0m \u001b[0mrange\u001b[0m\u001b[0;34m(\u001b[0m\u001b[0mn\u001b[0m\u001b[0;34m)\u001b[0m\u001b[0;34m:\u001b[0m\u001b[0;34m\u001b[0m\u001b[0;34m\u001b[0m\u001b[0m\n",
            "\u001b[0;32m<ipython-input-13-2fc0251f800b>\u001b[0m in \u001b[0;36msort\u001b[0;34m(a, N, up)\u001b[0m\n\u001b[1;32m     34\u001b[0m \u001b[0;31m# in ASCENDING order\u001b[0m\u001b[0;34m\u001b[0m\u001b[0;34m\u001b[0m\u001b[0;34m\u001b[0m\u001b[0m\n\u001b[1;32m     35\u001b[0m \u001b[0;32mdef\u001b[0m \u001b[0msort\u001b[0m\u001b[0;34m(\u001b[0m\u001b[0ma\u001b[0m\u001b[0;34m,\u001b[0m\u001b[0mN\u001b[0m\u001b[0;34m,\u001b[0m \u001b[0mup\u001b[0m\u001b[0;34m)\u001b[0m\u001b[0;34m:\u001b[0m\u001b[0;34m\u001b[0m\u001b[0;34m\u001b[0m\u001b[0m\n\u001b[0;32m---> 36\u001b[0;31m         \u001b[0mbitonicSort\u001b[0m\u001b[0;34m(\u001b[0m\u001b[0ma\u001b[0m\u001b[0;34m,\u001b[0m\u001b[0;36m0\u001b[0m\u001b[0;34m,\u001b[0m \u001b[0mN\u001b[0m\u001b[0;34m,\u001b[0m \u001b[0mup\u001b[0m\u001b[0;34m)\u001b[0m\u001b[0;34m\u001b[0m\u001b[0;34m\u001b[0m\u001b[0m\n\u001b[0m\u001b[1;32m     37\u001b[0m \u001b[0;34m\u001b[0m\u001b[0m\n\u001b[1;32m     38\u001b[0m \u001b[0;31m# Driver code to test above\u001b[0m\u001b[0;34m\u001b[0m\u001b[0;34m\u001b[0m\u001b[0;34m\u001b[0m\u001b[0m\n",
            "\u001b[0;32m<ipython-input-13-2fc0251f800b>\u001b[0m in \u001b[0;36mbitonicSort\u001b[0;34m(a, low, cnt, dire)\u001b[0m\n\u001b[1;32m     27\u001b[0m         \u001b[0;32mif\u001b[0m \u001b[0mcnt\u001b[0m \u001b[0;34m>\u001b[0m \u001b[0;36m1\u001b[0m\u001b[0;34m:\u001b[0m\u001b[0;34m\u001b[0m\u001b[0;34m\u001b[0m\u001b[0m\n\u001b[1;32m     28\u001b[0m                 \u001b[0mk\u001b[0m \u001b[0;34m=\u001b[0m \u001b[0mcnt\u001b[0m\u001b[0;34m/\u001b[0m\u001b[0;36m2\u001b[0m\u001b[0;34m\u001b[0m\u001b[0;34m\u001b[0m\u001b[0m\n\u001b[0;32m---> 29\u001b[0;31m                 \u001b[0mbitonicSort\u001b[0m\u001b[0;34m(\u001b[0m\u001b[0ma\u001b[0m\u001b[0;34m,\u001b[0m \u001b[0mlow\u001b[0m\u001b[0;34m,\u001b[0m \u001b[0mk\u001b[0m\u001b[0;34m,\u001b[0m \u001b[0;36m1\u001b[0m\u001b[0;34m)\u001b[0m\u001b[0;34m\u001b[0m\u001b[0;34m\u001b[0m\u001b[0m\n\u001b[0m\u001b[1;32m     30\u001b[0m                 \u001b[0mbitonicSort\u001b[0m\u001b[0;34m(\u001b[0m\u001b[0ma\u001b[0m\u001b[0;34m,\u001b[0m \u001b[0mlow\u001b[0m\u001b[0;34m+\u001b[0m\u001b[0mk\u001b[0m\u001b[0;34m,\u001b[0m \u001b[0mk\u001b[0m\u001b[0;34m,\u001b[0m \u001b[0;36m0\u001b[0m\u001b[0;34m)\u001b[0m\u001b[0;34m\u001b[0m\u001b[0;34m\u001b[0m\u001b[0m\n\u001b[1;32m     31\u001b[0m                 \u001b[0mbitonicMerge\u001b[0m\u001b[0;34m(\u001b[0m\u001b[0ma\u001b[0m\u001b[0;34m,\u001b[0m \u001b[0mlow\u001b[0m\u001b[0;34m,\u001b[0m \u001b[0mcnt\u001b[0m\u001b[0;34m,\u001b[0m \u001b[0mdire\u001b[0m\u001b[0;34m)\u001b[0m\u001b[0;34m\u001b[0m\u001b[0;34m\u001b[0m\u001b[0m\n",
            "\u001b[0;32m<ipython-input-13-2fc0251f800b>\u001b[0m in \u001b[0;36mbitonicSort\u001b[0;34m(a, low, cnt, dire)\u001b[0m\n\u001b[1;32m     27\u001b[0m         \u001b[0;32mif\u001b[0m \u001b[0mcnt\u001b[0m \u001b[0;34m>\u001b[0m \u001b[0;36m1\u001b[0m\u001b[0;34m:\u001b[0m\u001b[0;34m\u001b[0m\u001b[0;34m\u001b[0m\u001b[0m\n\u001b[1;32m     28\u001b[0m                 \u001b[0mk\u001b[0m \u001b[0;34m=\u001b[0m \u001b[0mcnt\u001b[0m\u001b[0;34m/\u001b[0m\u001b[0;36m2\u001b[0m\u001b[0;34m\u001b[0m\u001b[0;34m\u001b[0m\u001b[0m\n\u001b[0;32m---> 29\u001b[0;31m                 \u001b[0mbitonicSort\u001b[0m\u001b[0;34m(\u001b[0m\u001b[0ma\u001b[0m\u001b[0;34m,\u001b[0m \u001b[0mlow\u001b[0m\u001b[0;34m,\u001b[0m \u001b[0mk\u001b[0m\u001b[0;34m,\u001b[0m \u001b[0;36m1\u001b[0m\u001b[0;34m)\u001b[0m\u001b[0;34m\u001b[0m\u001b[0;34m\u001b[0m\u001b[0m\n\u001b[0m\u001b[1;32m     30\u001b[0m                 \u001b[0mbitonicSort\u001b[0m\u001b[0;34m(\u001b[0m\u001b[0ma\u001b[0m\u001b[0;34m,\u001b[0m \u001b[0mlow\u001b[0m\u001b[0;34m+\u001b[0m\u001b[0mk\u001b[0m\u001b[0;34m,\u001b[0m \u001b[0mk\u001b[0m\u001b[0;34m,\u001b[0m \u001b[0;36m0\u001b[0m\u001b[0;34m)\u001b[0m\u001b[0;34m\u001b[0m\u001b[0;34m\u001b[0m\u001b[0m\n\u001b[1;32m     31\u001b[0m                 \u001b[0mbitonicMerge\u001b[0m\u001b[0;34m(\u001b[0m\u001b[0ma\u001b[0m\u001b[0;34m,\u001b[0m \u001b[0mlow\u001b[0m\u001b[0;34m,\u001b[0m \u001b[0mcnt\u001b[0m\u001b[0;34m,\u001b[0m \u001b[0mdire\u001b[0m\u001b[0;34m)\u001b[0m\u001b[0;34m\u001b[0m\u001b[0;34m\u001b[0m\u001b[0m\n",
            "\u001b[0;32m<ipython-input-13-2fc0251f800b>\u001b[0m in \u001b[0;36mbitonicSort\u001b[0;34m(a, low, cnt, dire)\u001b[0m\n\u001b[1;32m     29\u001b[0m                 \u001b[0mbitonicSort\u001b[0m\u001b[0;34m(\u001b[0m\u001b[0ma\u001b[0m\u001b[0;34m,\u001b[0m \u001b[0mlow\u001b[0m\u001b[0;34m,\u001b[0m \u001b[0mk\u001b[0m\u001b[0;34m,\u001b[0m \u001b[0;36m1\u001b[0m\u001b[0;34m)\u001b[0m\u001b[0;34m\u001b[0m\u001b[0;34m\u001b[0m\u001b[0m\n\u001b[1;32m     30\u001b[0m                 \u001b[0mbitonicSort\u001b[0m\u001b[0;34m(\u001b[0m\u001b[0ma\u001b[0m\u001b[0;34m,\u001b[0m \u001b[0mlow\u001b[0m\u001b[0;34m+\u001b[0m\u001b[0mk\u001b[0m\u001b[0;34m,\u001b[0m \u001b[0mk\u001b[0m\u001b[0;34m,\u001b[0m \u001b[0;36m0\u001b[0m\u001b[0;34m)\u001b[0m\u001b[0;34m\u001b[0m\u001b[0;34m\u001b[0m\u001b[0m\n\u001b[0;32m---> 31\u001b[0;31m                 \u001b[0mbitonicMerge\u001b[0m\u001b[0;34m(\u001b[0m\u001b[0ma\u001b[0m\u001b[0;34m,\u001b[0m \u001b[0mlow\u001b[0m\u001b[0;34m,\u001b[0m \u001b[0mcnt\u001b[0m\u001b[0;34m,\u001b[0m \u001b[0mdire\u001b[0m\u001b[0;34m)\u001b[0m\u001b[0;34m\u001b[0m\u001b[0;34m\u001b[0m\u001b[0m\n\u001b[0m\u001b[1;32m     32\u001b[0m \u001b[0;34m\u001b[0m\u001b[0m\n\u001b[1;32m     33\u001b[0m \u001b[0;31m# Caller of bitonicSort for sorting the entire array of length N\u001b[0m\u001b[0;34m\u001b[0m\u001b[0;34m\u001b[0m\u001b[0;34m\u001b[0m\u001b[0m\n",
            "\u001b[0;32m<ipython-input-13-2fc0251f800b>\u001b[0m in \u001b[0;36mbitonicMerge\u001b[0;34m(a, low, cnt, dire)\u001b[0m\n\u001b[1;32m     16\u001b[0m         \u001b[0;32mif\u001b[0m \u001b[0mcnt\u001b[0m \u001b[0;34m>\u001b[0m \u001b[0;36m1\u001b[0m\u001b[0;34m:\u001b[0m\u001b[0;34m\u001b[0m\u001b[0;34m\u001b[0m\u001b[0m\n\u001b[1;32m     17\u001b[0m                 \u001b[0mk\u001b[0m \u001b[0;34m=\u001b[0m \u001b[0mcnt\u001b[0m\u001b[0;34m/\u001b[0m\u001b[0;36m2\u001b[0m\u001b[0;34m\u001b[0m\u001b[0;34m\u001b[0m\u001b[0m\n\u001b[0;32m---> 18\u001b[0;31m                 \u001b[0;32mfor\u001b[0m \u001b[0mi\u001b[0m \u001b[0;32min\u001b[0m \u001b[0mrange\u001b[0m\u001b[0;34m(\u001b[0m\u001b[0mlow\u001b[0m \u001b[0;34m,\u001b[0m \u001b[0mlow\u001b[0m\u001b[0;34m+\u001b[0m\u001b[0mk\u001b[0m\u001b[0;34m)\u001b[0m\u001b[0;34m:\u001b[0m\u001b[0;34m\u001b[0m\u001b[0;34m\u001b[0m\u001b[0m\n\u001b[0m\u001b[1;32m     19\u001b[0m                         \u001b[0mcompAndSwap\u001b[0m\u001b[0;34m(\u001b[0m\u001b[0ma\u001b[0m\u001b[0;34m,\u001b[0m \u001b[0mi\u001b[0m\u001b[0;34m,\u001b[0m \u001b[0mi\u001b[0m\u001b[0;34m+\u001b[0m\u001b[0mk\u001b[0m\u001b[0;34m,\u001b[0m \u001b[0mdire\u001b[0m\u001b[0;34m)\u001b[0m\u001b[0;34m\u001b[0m\u001b[0;34m\u001b[0m\u001b[0m\n\u001b[1;32m     20\u001b[0m                 \u001b[0mbitonicMerge\u001b[0m\u001b[0;34m(\u001b[0m\u001b[0ma\u001b[0m\u001b[0;34m,\u001b[0m \u001b[0mlow\u001b[0m\u001b[0;34m,\u001b[0m \u001b[0mk\u001b[0m\u001b[0;34m,\u001b[0m \u001b[0mdire\u001b[0m\u001b[0;34m)\u001b[0m\u001b[0;34m\u001b[0m\u001b[0;34m\u001b[0m\u001b[0m\n",
            "\u001b[0;31mTypeError\u001b[0m: 'float' object cannot be interpreted as an integer"
          ]
        }
      ]
    },
    {
      "cell_type": "code",
      "metadata": {
        "colab": {
          "base_uri": "https://localhost:8080/"
        },
        "id": "LCOEYQAA3pwI",
        "outputId": "8c588277-9dc0-4966-b274-8b9b1ec64b67"
      },
      "source": [
        "##\n",
        "# Python's algorithm of Combsort sort\n",
        "\n",
        "\n",
        "def combsort(num):\n",
        "    gap = len(num)\n",
        "    swaps = True\n",
        "    while gap > 1 or swaps:\n",
        "        gap = max(1, int(gap / 1.25))  # minimum gap is 1\n",
        "        swaps = False\n",
        "        for i in range(len(num) - gap):\n",
        "            j = i+gap\n",
        "            if num[i] > num[j]:\n",
        "                num[i], num[j] = num[j], num[i]\n",
        "                swaps = True\n",
        "\n",
        "num_list = [75, 16, 55, 19, 48, 14, 2, 61, 22, 100]\n",
        "print(\"Before: \", num_list)\n",
        "combsort(num_list)\n",
        "print(\"After:  \", num_list)\n"
      ],
      "execution_count": 14,
      "outputs": [
        {
          "output_type": "stream",
          "text": [
            "Before:  [75, 16, 55, 19, 48, 14, 2, 61, 22, 100]\n",
            "After:   [2, 14, 16, 19, 22, 48, 55, 61, 75, 100]\n"
          ],
          "name": "stdout"
        }
      ]
    },
    {
      "cell_type": "code",
      "metadata": {
        "colab": {
          "base_uri": "https://localhost:8080/"
        },
        "id": "DXZyl2f63xmm",
        "outputId": "c24881dd-dbcc-4e7b-d4de-9e55e9235c13"
      },
      "source": [
        "##Python Program for Pigeonhole Sort\n",
        "# Python program to implement Pigeonhole Sort */\n",
        "\n",
        "# source code : \"https://en.wikibooks.org/wiki/\n",
        "# Algorithm_Implementation/Sorting/Pigeonhole_sort\"\n",
        "def pigeonhole_sort(a):\n",
        "\t# size of range of values in the list\n",
        "\t# (ie, number of pigeonholes we need)\n",
        "\tmy_min = min(a)\n",
        "\tmy_max = max(a)\n",
        "\tsize = my_max - my_min + 1\n",
        "\n",
        "\t# our list of pigeonholes\n",
        "\tholes = [0] * size\n",
        "\n",
        "\t# Populate the pigeonholes.\n",
        "\tfor x in a:\n",
        "\t\tassert type(x) is int, \"integers only please\"\n",
        "\t\tholes[x - my_min] += 1\n",
        "\n",
        "\t# Put the elements back into the array in order.\n",
        "\ti = 0\n",
        "\tfor count in range(size):\n",
        "\t\twhile holes[count] > 0:\n",
        "\t\t\tholes[count] -= 1\n",
        "\t\t\ta[i] = count + my_min\n",
        "\t\t\ti += 1\n",
        "\t\t\t\n",
        "\n",
        "a = [8, 3, 2, 7, 4, 6, 8]\n",
        "print(\"Sorted order is : \", end =\" \")\n",
        "\n",
        "pigeonhole_sort(a)\n",
        "\t\t\n",
        "for i in range(0, len(a)):\n",
        "\tprint(a[i], end =\" \")\n",
        "\t\n"
      ],
      "execution_count": 15,
      "outputs": [
        {
          "output_type": "stream",
          "text": [
            "Sorted order is :  2 3 4 6 7 8 8 "
          ],
          "name": "stdout"
        }
      ]
    },
    {
      "cell_type": "code",
      "metadata": {
        "colab": {
          "base_uri": "https://localhost:8080/"
        },
        "id": "jK6z49Hj44RV",
        "outputId": "e6ee418d-d039-475f-d454-8db78669dc0c"
      },
      "source": [
        "# Python program for implementation of Cocktail Sort\n",
        "\n",
        "def cocktailSort(a):\n",
        "\tn = len(a)\n",
        "\tswapped = True\n",
        "\tstart = 0\n",
        "\tend = n-1\n",
        "\twhile (swapped==True):\n",
        "\n",
        "\t\t# reset the swapped flag on entering the loop,\n",
        "\t\t# because it might be true from a previous\n",
        "\t\t# iteration.\n",
        "\t\tswapped = False\n",
        "\n",
        "\t\t# loop from left to right same as the bubble\n",
        "\t\t# sort\n",
        "\t\tfor i in range (start, end):\n",
        "\t\t\tif (a[i] > a[i+1]) :\n",
        "\t\t\t\ta[i], a[i+1]= a[i+1], a[i]\n",
        "\t\t\t\tswapped=True\n",
        "\n",
        "\t\t# if nothing moved, then array is sorted.\n",
        "\t\tif (swapped==False):\n",
        "\t\t\tbreak\n",
        "\n",
        "\t\t# otherwise, reset the swapped flag so that it\n",
        "\t\t# can be used in the next stage\n",
        "\t\tswapped = False\n",
        "\n",
        "\t\t# move the end point back by one, because\n",
        "\t\t# item at the end is in its rightful spot\n",
        "\t\tend = end-1\n",
        "\n",
        "\t\t# from right to left, doing the same\n",
        "\t\t# comparison as in the previous stage\n",
        "\t\tfor i in range(end-1, start-1,-1):\n",
        "\t\t\tif (a[i] > a[i+1]):\n",
        "\t\t\t\ta[i], a[i+1] = a[i+1], a[i]\n",
        "\t\t\t\tswapped = True\n",
        "\n",
        "\t\t# increase the starting point, because\n",
        "\t\t# the last stage would have moved the next\n",
        "\t\t# smallest number to its rightful spot.\n",
        "\t\tstart = start+1\n",
        "\n",
        "# Driver code to test above\n",
        "a = [5, 1, 4, 2, 8, 0, 2]\n",
        "cocktailSort(a)\n",
        "print(\"Sorted array is:\")\n",
        "for i in range(len(a)):\n",
        "\tprint (\"%d\" %a[i]),\n"
      ],
      "execution_count": 17,
      "outputs": [
        {
          "output_type": "stream",
          "text": [
            "Sorted array is:\n",
            "0\n",
            "1\n",
            "2\n",
            "2\n",
            "4\n",
            "5\n",
            "8\n"
          ],
          "name": "stdout"
        }
      ]
    },
    {
      "cell_type": "code",
      "metadata": {
        "colab": {
          "base_uri": "https://localhost:8080/"
        },
        "id": "qLz_uEKL48Dy",
        "outputId": "4ba589be-aa95-4c1e-a572-4ce2aa45a33b"
      },
      "source": [
        "##Python Program for Gnome Sort\n",
        "def gnome_sort(alist):\n",
        "    for pos in range(1, len(alist)):\n",
        "        while (pos != 0 and alist[pos] < alist[pos - 1]):\n",
        "            alist[pos], alist[pos - 1] = alist[pos - 1], alist[pos]\n",
        "            pos = pos - 1\n",
        " \n",
        " \n",
        "alist = input('Enter the list of numbers: ').split()\n",
        "alist = [int(x) for x in alist]\n",
        "gnome_sort(alist)\n",
        "print('Sorted list: ', end='')\n",
        "print(alist)"
      ],
      "execution_count": 18,
      "outputs": [
        {
          "output_type": "stream",
          "text": [
            "Enter the list of numbers: 25\n",
            "Sorted list: [25]\n"
          ],
          "name": "stdout"
        }
      ]
    },
    {
      "cell_type": "code",
      "metadata": {
        "colab": {
          "base_uri": "https://localhost:8080/"
        },
        "id": "3YMcYpSt5Elo",
        "outputId": "c7a1a020-b4c5-412a-a05e-92fe9fd5e4d1"
      },
      "source": [
        "# Python Program to implement\n",
        "# Odd-Even / Brick Sort\n",
        "\n",
        "def oddEvenSort(arr, n):\n",
        "\t# Initially array is unsorted\n",
        "\tisSorted = 0\n",
        "\twhile isSorted == 0:\n",
        "\t\tisSorted = 1\n",
        "\t\ttemp = 0\n",
        "\t\tfor i in range(1, n-1, 2):\n",
        "\t\t\tif arr[i] > arr[i+1]:\n",
        "\t\t\t\tarr[i], arr[i+1] = arr[i+1], arr[i]\n",
        "\t\t\t\tisSorted = 0\n",
        "\t\t\t\t\n",
        "\t\tfor i in range(0, n-1, 2):\n",
        "\t\t\tif arr[i] > arr[i+1]:\n",
        "\t\t\t\tarr[i], arr[i+1] = arr[i+1], arr[i]\n",
        "\t\t\t\tisSorted = 0\n",
        "\t\n",
        "\treturn\n",
        "\n",
        "\n",
        "arr = [34, 2, 10, -9]\n",
        "n = len(arr)\n",
        "\n",
        "oddEvenSort(arr, n);\n",
        "for i in range(0, n):\n",
        "\tprint(arr[i], end =\" \")\n",
        "\t\n"
      ],
      "execution_count": 19,
      "outputs": [
        {
          "output_type": "stream",
          "text": [
            "-9 2 10 34 "
          ],
          "name": "stdout"
        }
      ]
    },
    {
      "cell_type": "code",
      "metadata": {
        "colab": {
          "base_uri": "https://localhost:8080/"
        },
        "id": "CgnAzUqXwf4W",
        "outputId": "cc014339-1bb3-4a82-dd8d-252fbc8fc873"
      },
      "source": [
        "# Python program for implementation of Bogo Sort\n",
        "import random\n",
        "\n",
        "# Sorts array a[0..n-1] using Bogo sort\n",
        "def bogoSort(a):\n",
        "\tn = len(a)\n",
        "\twhile (is_sorted(a)== False):\n",
        "\t\tshuffle(a)\n",
        "\n",
        "# To check if array is sorted or not\n",
        "def is_sorted(a):\n",
        "\tn = len(a)\n",
        "\tfor i in range(0, n-1):\n",
        "\t\tif (a[i] > a[i+1] ):\n",
        "\t\t\treturn False\n",
        "\treturn True\n",
        "\n",
        "# To generate permutation of the array\n",
        "def shuffle(a):\n",
        "\tn = len(a)\n",
        "\tfor i in range (0,n):\n",
        "\t\tr = random.randint(0,n-1)\n",
        "\t\ta[i], a[r] = a[r], a[i]\n",
        "\n",
        "# Driver code to test above\n",
        "a = [3, 2, 4, 1, 0, 5]\n",
        "bogoSort(a)\n",
        "print(\"Sorted array :\")\n",
        "for i in range(len(a)):\n",
        "\tprint (\"%d\" %a[i])"
      ],
      "execution_count": 20,
      "outputs": [
        {
          "output_type": "stream",
          "text": [
            "Sorted array :\n",
            "0\n",
            "1\n",
            "2\n",
            "3\n",
            "4\n",
            "5\n"
          ],
          "name": "stdout"
        }
      ]
    },
    {
      "cell_type": "code",
      "metadata": {
        "id": "r3_yJ7ICwn9R"
      },
      "source": [
        ""
      ],
      "execution_count": null,
      "outputs": []
    }
  ]
}